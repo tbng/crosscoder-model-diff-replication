{
 "cells": [
  {
   "cell_type": "code",
   "execution_count": 1,
   "metadata": {},
   "outputs": [],
   "source": [
    "import http.server\n",
    "import json\n",
    "import os\n",
    "import pprint\n",
    "import socketserver\n",
    "import threading\n",
    "import webbrowser\n",
    "from typing import NamedTuple, Optional, Union\n",
    "\n",
    "import einops\n",
    "import plotly.express as px\n",
    "import torch\n",
    "import torch.nn.functional as F\n",
    "# from tiny_dashboard.dashboard_implementations import \\\n",
    "#     CrosscoderOnlineFeatureDashboard\n",
    "from torch import nn\n",
    "from transformer_lens import HookedTransformer\n",
    "import copy\n",
    "\n",
    "from crosscoder import CrossCoder\n",
    "from utils import get_gsm8k_dataset\n",
    "from datasets import load_dataset\n",
    "\n",
    "torch.set_grad_enabled(False)  # important for memory saving\n",
    "\n",
    "device = 'cuda:0'\n"
   ]
  },
  {
   "cell_type": "code",
   "execution_count": 2,
   "metadata": {},
   "outputs": [
    {
     "name": "stderr",
     "output_type": "stream",
     "text": [
      "WARNING:root:With reduced precision, it is advised to use `from_pretrained_no_processing` instead of `from_pretrained`.\n",
      "WARNING:root:You are not using LayerNorm, so the writing weights can't be centered! Skipping\n"
     ]
    },
    {
     "name": "stdout",
     "output_type": "stream",
     "text": [
      "Loaded pretrained model Qwen/Qwen2.5-1.5B into HookedTransformer\n"
     ]
    },
    {
     "name": "stderr",
     "output_type": "stream",
     "text": [
      "WARNING:root:With reduced precision, it is advised to use `from_pretrained_no_processing` instead of `from_pretrained`.\n",
      "WARNING:root:You are not using LayerNorm, so the writing weights can't be centered! Skipping\n"
     ]
    },
    {
     "name": "stdout",
     "output_type": "stream",
     "text": [
      "Loaded pretrained model Qwen/Qwen2.5-Math-1.5B into HookedTransformer\n"
     ]
    }
   ],
   "source": [
    "base_model = HookedTransformer.from_pretrained(\n",
    "    \"Qwen/Qwen2.5-1.5B\",\n",
    "    device=device,\n",
    "    dtype=torch.bfloat16,\n",
    ")\n",
    "\n",
    "math_model = HookedTransformer.from_pretrained(\n",
    "    \"Qwen/Qwen2.5-Math-1.5B\",\n",
    "    device=device,\n",
    "    dtype=torch.bfloat16,\n",
    ")\n"
   ]
  },
  {
   "cell_type": "code",
   "execution_count": 3,
   "metadata": {},
   "outputs": [
    {
     "name": "stdout",
     "output_type": "stream",
     "text": [
      "{'batch_size': 4096,\n",
      " 'beta1': 0.9,\n",
      " 'beta2': 0.999,\n",
      " 'buffer_mult': 128,\n",
      " 'd_in': 1536,\n",
      " 'dec_init_norm': 0.08,\n",
      " 'device': 'cuda:0',\n",
      " 'dict_size': 12288,\n",
      " 'enc_dtype': 'fp32',\n",
      " 'hook_point': 'blocks.14.hook_resid_pre',\n",
      " 'l1_coeff': 2.0,\n",
      " 'log_every': 100,\n",
      " 'lr': 5e-05,\n",
      " 'model_batch_size': 4,\n",
      " 'model_name': 'qwen2_5_1_5B',\n",
      " 'num_tokens': 400000000,\n",
      " 'save_every': 30000,\n",
      " 'seed': 42,\n",
      " 'seq_len': 2048,\n",
      " 'site': 'resid_pre',\n",
      " 'wandb_project': 'crosscoder'}\n"
     ]
    },
    {
     "name": "stderr",
     "output_type": "stream",
     "text": [
      "/home/binhnguyen/build/crosscoder-model-diff-replication/crosscoder.py:210: FutureWarning:\n",
      "\n",
      "You are using `torch.load` with `weights_only=False` (the current default value), which uses the default pickle module implicitly. It is possible to construct malicious pickle data which will execute arbitrary code during unpickling (See https://github.com/pytorch/pytorch/blob/main/SECURITY.md#untrusted-models for more details). In a future release, the default value for `weights_only` will be flipped to `True`. This limits the functions that could be executed during unpickling. Arbitrary objects will no longer be allowed to be loaded via this mode unless they are explicitly allowlisted by the user via `torch.serialization.add_safe_globals`. We recommend you start setting `weights_only=True` for any use case where you don't have full control of the loaded file. Please open an issue on GitHub for any issues related to this experimental feature.\n",
      "\n"
     ]
    }
   ],
   "source": [
    "version = 'version_10'\n",
    "ckpt = 3\n",
    "\n",
    "cross_coder = CrossCoder.load(version, ckpt)\n",
    "collect_layer = 14\n",
    "\n",
    "train_questions, train_answers = get_gsm8k_dataset(split='train')"
   ]
  },
  {
   "cell_type": "code",
   "execution_count": 4,
   "metadata": {},
   "outputs": [],
   "source": [
    "eos = base_model.tokenizer.special_tokens_map['eos_token']\n",
    "train_questions, train_answers = get_gsm8k_dataset(split='train')\n",
    "merged_prompts = [\n",
    "    f\"Problem: {q} {eos} Answer: {a}\" for q, a in zip(train_questions, train_answers)\n",
    "]\n",
    "\n",
    "data_prm800k = load_dataset('json', data_files='data/prm800k/prm800k_train.jsonl')['train']\n",
    "problem, solution, answer = data_prm800k['problem'], data_prm800k['solution'], data_prm800k['answer']\n",
    "eos = base_model.tokenizer.special_tokens_map['eos_token']\n",
    "\n",
    "merged_prompts_prm800k = [\n",
    "    f\"Problem: {q} {eos} Answer: {a} {eos} Final Answer: {fa}\" for (q, a, fa) in zip(problem, solution, answer)\n",
    "]\n"
   ]
  },
  {
   "cell_type": "code",
   "execution_count": 6,
   "metadata": {},
   "outputs": [],
   "source": [
    "max_length = 2048\n",
    "all_tokens_padded = base_model.tokenizer(\n",
    "    merged_prompts + merged_prompts_prm800k,\n",
    "    padding=True,\n",
    "    truncation=True,\n",
    "    return_tensors=\"pt\",\n",
    "    max_length=max_length\n",
    ")\n"
   ]
  },
  {
   "cell_type": "code",
   "execution_count": 5,
   "metadata": {},
   "outputs": [],
   "source": [
    "max_length = 2048\n",
    "all_tokens = base_model.tokenizer(\n",
    "    merged_prompts + merged_prompts_prm800k,\n",
    "    truncation=True,\n",
    "    max_length=max_length\n",
    ")\n"
   ]
  },
  {
   "cell_type": "code",
   "execution_count": 9,
   "metadata": {},
   "outputs": [
    {
     "ename": "AttributeError",
     "evalue": "'tokenizers.Encoding' object has no attribute 'input_ids'",
     "output_type": "error",
     "traceback": [
      "\u001b[0;31m---------------------------------------------------------------------------\u001b[0m",
      "\u001b[0;31mAttributeError\u001b[0m                            Traceback (most recent call last)",
      "Cell \u001b[0;32mIn[9], line 1\u001b[0m\n\u001b[0;32m----> 1\u001b[0m \u001b[43mall_tokens\u001b[49m\u001b[43m[\u001b[49m\u001b[38;5;241;43m0\u001b[39;49m\u001b[43m]\u001b[49m\u001b[38;5;241;43m.\u001b[39;49m\u001b[43minput_ids\u001b[49m\n",
      "\u001b[0;31mAttributeError\u001b[0m: 'tokenizers.Encoding' object has no attribute 'input_ids'"
     ]
    }
   ],
   "source": [
    "all_tokens[0].input_ids"
   ]
  },
  {
   "cell_type": "code",
   "execution_count": 12,
   "metadata": {},
   "outputs": [],
   "source": [
    "norms = cross_coder.W_dec.norm(dim=-1)\n",
    "relative_norms = norms[:, 1] / norms.sum(dim=-1)"
   ]
  },
  {
   "cell_type": "code",
   "execution_count": null,
   "metadata": {},
   "outputs": [
    {
     "data": {
      "application/vnd.plotly.v1+json": {
       "config": {
        "plotlyServerURL": "https://plot.ly"
       },
       "data": [
        {
         "bingroup": "x",
         "hovertemplate": "variable=0<br>Relative decoder norm strength=%{x}<br>count=%{y}<extra></extra>",
         "legendgroup": "0",
         "marker": {
          "color": "#636efa",
          "pattern": {
           "shape": ""
          }
         },
         "name": "0",
         "nbinsx": 200,
         "orientation": "v",
         "showlegend": true,
         "type": "histogram",
         "x": {
          "bdata": "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",
          "dtype": "f4"
         },
         "xaxis": "x",
         "yaxis": "y"
        }
       ],
       "layout": {
        "barmode": "relative",
        "legend": {
         "title": {
          "text": "variable"
         },
         "tracegroupgap": 0
        },
        "showlegend": false,
        "template": {
         "data": {
          "bar": [
           {
            "error_x": {
             "color": "#2a3f5f"
            },
            "error_y": {
             "color": "#2a3f5f"
            },
            "marker": {
             "line": {
              "color": "#E5ECF6",
              "width": 0.5
             },
             "pattern": {
              "fillmode": "overlay",
              "size": 10,
              "solidity": 0.2
             }
            },
            "type": "bar"
           }
          ],
          "barpolar": [
           {
            "marker": {
             "line": {
              "color": "#E5ECF6",
              "width": 0.5
             },
             "pattern": {
              "fillmode": "overlay",
              "size": 10,
              "solidity": 0.2
             }
            },
            "type": "barpolar"
           }
          ],
          "carpet": [
           {
            "aaxis": {
             "endlinecolor": "#2a3f5f",
             "gridcolor": "white",
             "linecolor": "white",
             "minorgridcolor": "white",
             "startlinecolor": "#2a3f5f"
            },
            "baxis": {
             "endlinecolor": "#2a3f5f",
             "gridcolor": "white",
             "linecolor": "white",
             "minorgridcolor": "white",
             "startlinecolor": "#2a3f5f"
            },
            "type": "carpet"
           }
          ],
          "choropleth": [
           {
            "colorbar": {
             "outlinewidth": 0,
             "ticks": ""
            },
            "type": "choropleth"
           }
          ],
          "contour": [
           {
            "colorbar": {
             "outlinewidth": 0,
             "ticks": ""
            },
            "colorscale": [
             [
              0,
              "#0d0887"
             ],
             [
              0.1111111111111111,
              "#46039f"
             ],
             [
              0.2222222222222222,
              "#7201a8"
             ],
             [
              0.3333333333333333,
              "#9c179e"
             ],
             [
              0.4444444444444444,
              "#bd3786"
             ],
             [
              0.5555555555555556,
              "#d8576b"
             ],
             [
              0.6666666666666666,
              "#ed7953"
             ],
             [
              0.7777777777777778,
              "#fb9f3a"
             ],
             [
              0.8888888888888888,
              "#fdca26"
             ],
             [
              1,
              "#f0f921"
             ]
            ],
            "type": "contour"
           }
          ],
          "contourcarpet": [
           {
            "colorbar": {
             "outlinewidth": 0,
             "ticks": ""
            },
            "type": "contourcarpet"
           }
          ],
          "heatmap": [
           {
            "colorbar": {
             "outlinewidth": 0,
             "ticks": ""
            },
            "colorscale": [
             [
              0,
              "#0d0887"
             ],
             [
              0.1111111111111111,
              "#46039f"
             ],
             [
              0.2222222222222222,
              "#7201a8"
             ],
             [
              0.3333333333333333,
              "#9c179e"
             ],
             [
              0.4444444444444444,
              "#bd3786"
             ],
             [
              0.5555555555555556,
              "#d8576b"
             ],
             [
              0.6666666666666666,
              "#ed7953"
             ],
             [
              0.7777777777777778,
              "#fb9f3a"
             ],
             [
              0.8888888888888888,
              "#fdca26"
             ],
             [
              1,
              "#f0f921"
             ]
            ],
            "type": "heatmap"
           }
          ],
          "histogram": [
           {
            "marker": {
             "pattern": {
              "fillmode": "overlay",
              "size": 10,
              "solidity": 0.2
             }
            },
            "type": "histogram"
           }
          ],
          "histogram2d": [
           {
            "colorbar": {
             "outlinewidth": 0,
             "ticks": ""
            },
            "colorscale": [
             [
              0,
              "#0d0887"
             ],
             [
              0.1111111111111111,
              "#46039f"
             ],
             [
              0.2222222222222222,
              "#7201a8"
             ],
             [
              0.3333333333333333,
              "#9c179e"
             ],
             [
              0.4444444444444444,
              "#bd3786"
             ],
             [
              0.5555555555555556,
              "#d8576b"
             ],
             [
              0.6666666666666666,
              "#ed7953"
             ],
             [
              0.7777777777777778,
              "#fb9f3a"
             ],
             [
              0.8888888888888888,
              "#fdca26"
             ],
             [
              1,
              "#f0f921"
             ]
            ],
            "type": "histogram2d"
           }
          ],
          "histogram2dcontour": [
           {
            "colorbar": {
             "outlinewidth": 0,
             "ticks": ""
            },
            "colorscale": [
             [
              0,
              "#0d0887"
             ],
             [
              0.1111111111111111,
              "#46039f"
             ],
             [
              0.2222222222222222,
              "#7201a8"
             ],
             [
              0.3333333333333333,
              "#9c179e"
             ],
             [
              0.4444444444444444,
              "#bd3786"
             ],
             [
              0.5555555555555556,
              "#d8576b"
             ],
             [
              0.6666666666666666,
              "#ed7953"
             ],
             [
              0.7777777777777778,
              "#fb9f3a"
             ],
             [
              0.8888888888888888,
              "#fdca26"
             ],
             [
              1,
              "#f0f921"
             ]
            ],
            "type": "histogram2dcontour"
           }
          ],
          "mesh3d": [
           {
            "colorbar": {
             "outlinewidth": 0,
             "ticks": ""
            },
            "type": "mesh3d"
           }
          ],
          "parcoords": [
           {
            "line": {
             "colorbar": {
              "outlinewidth": 0,
              "ticks": ""
             }
            },
            "type": "parcoords"
           }
          ],
          "pie": [
           {
            "automargin": true,
            "type": "pie"
           }
          ],
          "scatter": [
           {
            "fillpattern": {
             "fillmode": "overlay",
             "size": 10,
             "solidity": 0.2
            },
            "type": "scatter"
           }
          ],
          "scatter3d": [
           {
            "line": {
             "colorbar": {
              "outlinewidth": 0,
              "ticks": ""
             }
            },
            "marker": {
             "colorbar": {
              "outlinewidth": 0,
              "ticks": ""
             }
            },
            "type": "scatter3d"
           }
          ],
          "scattercarpet": [
           {
            "marker": {
             "colorbar": {
              "outlinewidth": 0,
              "ticks": ""
             }
            },
            "type": "scattercarpet"
           }
          ],
          "scattergeo": [
           {
            "marker": {
             "colorbar": {
              "outlinewidth": 0,
              "ticks": ""
             }
            },
            "type": "scattergeo"
           }
          ],
          "scattergl": [
           {
            "marker": {
             "colorbar": {
              "outlinewidth": 0,
              "ticks": ""
             }
            },
            "type": "scattergl"
           }
          ],
          "scattermap": [
           {
            "marker": {
             "colorbar": {
              "outlinewidth": 0,
              "ticks": ""
             }
            },
            "type": "scattermap"
           }
          ],
          "scattermapbox": [
           {
            "marker": {
             "colorbar": {
              "outlinewidth": 0,
              "ticks": ""
             }
            },
            "type": "scattermapbox"
           }
          ],
          "scatterpolar": [
           {
            "marker": {
             "colorbar": {
              "outlinewidth": 0,
              "ticks": ""
             }
            },
            "type": "scatterpolar"
           }
          ],
          "scatterpolargl": [
           {
            "marker": {
             "colorbar": {
              "outlinewidth": 0,
              "ticks": ""
             }
            },
            "type": "scatterpolargl"
           }
          ],
          "scatterternary": [
           {
            "marker": {
             "colorbar": {
              "outlinewidth": 0,
              "ticks": ""
             }
            },
            "type": "scatterternary"
           }
          ],
          "surface": [
           {
            "colorbar": {
             "outlinewidth": 0,
             "ticks": ""
            },
            "colorscale": [
             [
              0,
              "#0d0887"
             ],
             [
              0.1111111111111111,
              "#46039f"
             ],
             [
              0.2222222222222222,
              "#7201a8"
             ],
             [
              0.3333333333333333,
              "#9c179e"
             ],
             [
              0.4444444444444444,
              "#bd3786"
             ],
             [
              0.5555555555555556,
              "#d8576b"
             ],
             [
              0.6666666666666666,
              "#ed7953"
             ],
             [
              0.7777777777777778,
              "#fb9f3a"
             ],
             [
              0.8888888888888888,
              "#fdca26"
             ],
             [
              1,
              "#f0f921"
             ]
            ],
            "type": "surface"
           }
          ],
          "table": [
           {
            "cells": {
             "fill": {
              "color": "#EBF0F8"
             },
             "line": {
              "color": "white"
             }
            },
            "header": {
             "fill": {
              "color": "#C8D4E3"
             },
             "line": {
              "color": "white"
             }
            },
            "type": "table"
           }
          ]
         },
         "layout": {
          "annotationdefaults": {
           "arrowcolor": "#2a3f5f",
           "arrowhead": 0,
           "arrowwidth": 1
          },
          "autotypenumbers": "strict",
          "coloraxis": {
           "colorbar": {
            "outlinewidth": 0,
            "ticks": ""
           }
          },
          "colorscale": {
           "diverging": [
            [
             0,
             "#8e0152"
            ],
            [
             0.1,
             "#c51b7d"
            ],
            [
             0.2,
             "#de77ae"
            ],
            [
             0.3,
             "#f1b6da"
            ],
            [
             0.4,
             "#fde0ef"
            ],
            [
             0.5,
             "#f7f7f7"
            ],
            [
             0.6,
             "#e6f5d0"
            ],
            [
             0.7,
             "#b8e186"
            ],
            [
             0.8,
             "#7fbc41"
            ],
            [
             0.9,
             "#4d9221"
            ],
            [
             1,
             "#276419"
            ]
           ],
           "sequential": [
            [
             0,
             "#0d0887"
            ],
            [
             0.1111111111111111,
             "#46039f"
            ],
            [
             0.2222222222222222,
             "#7201a8"
            ],
            [
             0.3333333333333333,
             "#9c179e"
            ],
            [
             0.4444444444444444,
             "#bd3786"
            ],
            [
             0.5555555555555556,
             "#d8576b"
            ],
            [
             0.6666666666666666,
             "#ed7953"
            ],
            [
             0.7777777777777778,
             "#fb9f3a"
            ],
            [
             0.8888888888888888,
             "#fdca26"
            ],
            [
             1,
             "#f0f921"
            ]
           ],
           "sequentialminus": [
            [
             0,
             "#0d0887"
            ],
            [
             0.1111111111111111,
             "#46039f"
            ],
            [
             0.2222222222222222,
             "#7201a8"
            ],
            [
             0.3333333333333333,
             "#9c179e"
            ],
            [
             0.4444444444444444,
             "#bd3786"
            ],
            [
             0.5555555555555556,
             "#d8576b"
            ],
            [
             0.6666666666666666,
             "#ed7953"
            ],
            [
             0.7777777777777778,
             "#fb9f3a"
            ],
            [
             0.8888888888888888,
             "#fdca26"
            ],
            [
             1,
             "#f0f921"
            ]
           ]
          },
          "colorway": [
           "#636efa",
           "#EF553B",
           "#00cc96",
           "#ab63fa",
           "#FFA15A",
           "#19d3f3",
           "#FF6692",
           "#B6E880",
           "#FF97FF",
           "#FECB52"
          ],
          "font": {
           "color": "#2a3f5f"
          },
          "geo": {
           "bgcolor": "white",
           "lakecolor": "white",
           "landcolor": "#E5ECF6",
           "showlakes": true,
           "showland": true,
           "subunitcolor": "white"
          },
          "hoverlabel": {
           "align": "left"
          },
          "hovermode": "closest",
          "mapbox": {
           "style": "light"
          },
          "paper_bgcolor": "white",
          "plot_bgcolor": "#E5ECF6",
          "polar": {
           "angularaxis": {
            "gridcolor": "white",
            "linecolor": "white",
            "ticks": ""
           },
           "bgcolor": "#E5ECF6",
           "radialaxis": {
            "gridcolor": "white",
            "linecolor": "white",
            "ticks": ""
           }
          },
          "scene": {
           "xaxis": {
            "backgroundcolor": "#E5ECF6",
            "gridcolor": "white",
            "gridwidth": 2,
            "linecolor": "white",
            "showbackground": true,
            "ticks": "",
            "zerolinecolor": "white"
           },
           "yaxis": {
            "backgroundcolor": "#E5ECF6",
            "gridcolor": "white",
            "gridwidth": 2,
            "linecolor": "white",
            "showbackground": true,
            "ticks": "",
            "zerolinecolor": "white"
           },
           "zaxis": {
            "backgroundcolor": "#E5ECF6",
            "gridcolor": "white",
            "gridwidth": 2,
            "linecolor": "white",
            "showbackground": true,
            "ticks": "",
            "zerolinecolor": "white"
           }
          },
          "shapedefaults": {
           "line": {
            "color": "#2a3f5f"
           }
          },
          "ternary": {
           "aaxis": {
            "gridcolor": "white",
            "linecolor": "white",
            "ticks": ""
           },
           "baxis": {
            "gridcolor": "white",
            "linecolor": "white",
            "ticks": ""
           },
           "bgcolor": "#E5ECF6",
           "caxis": {
            "gridcolor": "white",
            "linecolor": "white",
            "ticks": ""
           }
          },
          "title": {
           "x": 0.05
          },
          "xaxis": {
           "automargin": true,
           "gridcolor": "white",
           "linecolor": "white",
           "ticks": "",
           "title": {
            "standoff": 15
           },
           "zerolinecolor": "white",
           "zerolinewidth": 2
          },
          "yaxis": {
           "automargin": true,
           "gridcolor": "white",
           "linecolor": "white",
           "ticks": "",
           "title": {
            "standoff": 15
           },
           "zerolinecolor": "white",
           "zerolinewidth": 2
          }
         }
        },
        "title": {
         "text": "Qwen2.5-1.5B Base vs Math Model Diff"
        },
        "xaxis": {
         "anchor": "y",
         "domain": [
          0,
          1
         ],
         "ticktext": [
          "0",
          "0.25",
          "0.5",
          "0.75",
          "1.0"
         ],
         "tickvals": [
          0,
          0.25,
          0.5,
          0.75,
          1
         ],
         "title": {
          "text": "Relative decoder norm strength"
         }
        },
        "yaxis": {
         "anchor": "x",
         "domain": [
          0,
          1
         ],
         "title": {
          "text": "Number of Latents"
         }
        }
       }
      }
     },
     "metadata": {},
     "output_type": "display_data"
    }
   ],
   "source": [
    "# Check histograms similar to Anthropic's paper\n",
    "fig = px.histogram(\n",
    "    relative_norms.detach().cpu().numpy(),\n",
    "    title=\"Qwen2.5-1.5B Base vs Math Model Diff\",\n",
    "    labels={\"value\": \"Relative decoder norm strength\"},\n",
    "    nbins=200,\n",
    ")\n",
    "\n",
    "fig.update_layout(showlegend=False)\n",
    "fig.update_yaxes(title_text=\"Number of Latents\")\n",
    "\n",
    "# Update x-axis ticks\n",
    "fig.update_xaxes(\n",
    "    tickvals=[0, 0.25, 0.5, 0.75, 1.0],\n",
    "    ticktext=['0', '0.25', '0.5', '0.75', '1.0']\n",
    ")\n",
    "\n",
    "fig.show()\n"
   ]
  },
  {
   "cell_type": "code",
   "execution_count": 10,
   "metadata": {},
   "outputs": [
    {
     "data": {
      "application/vnd.plotly.v1+json": {
       "config": {
        "plotlyServerURL": "https://plot.ly"
       },
       "data": [
        {
         "bingroup": "x",
         "hovertemplate": "variable=0<br>Cosine similarity of decoder vectors between models=%{x}<br>count=%{y}<extra></extra>",
         "legendgroup": "0",
         "marker": {
          "color": "#636efa",
          "pattern": {
           "shape": ""
          }
         },
         "name": "0",
         "nbinsx": 100,
         "orientation": "v",
         "showlegend": true,
         "type": "histogram",
         "x": {
          "bdata": "hqwUPydhET+AJhE/owsAP3q0/j6/LR4/xNREP3BX3D5+TxA/PsdEP+NwMj+vBT0/WBAQPzYWMj9S+go/ea7mPl7LLT9dsiI/aYvgPor8LD+ybCI/+xBMP0OH0T6UQAQ/SS1SPzhlRz/xMQY/Sv/nPrQoOz9fXvw+H7o0P894FT8yxhQ/E+7cPsriGz9RRSE/tQs7P8eODj/y6u8+0QAIP+Tx7T5GoxE/KEUVP8IfDT86dxI/YrkCP9qFDz99LBo/qxhRP6rYHj+meSI/2xjRPv3sCj9N5Qc/igBGPzkMKD9y5vw+sGMtP9MrHD9QRA8/29EQPzltqD4EjQM/jRPSPpgVRT/+5Ak/zkGaPrukNT9LNVA/8DTxPkfb0T4YIpg+BLcBP07y1j6hplY/zHNOP9ymHj8DTi8/KfYBP7dpyj6wMVQ/vWFDPyQmcT6vSxw/14ooPwNjGz+1yC0/ZyYNP7hQ9D7Y8AU/jCk1Py5O6D5TLxc/XxAGP5UWFj/FtQA/cSsLPzLWRj+dblA/PRNSP0kMID9ULh0/DPQTP8pNPj8Z0zQ/KxUjP4rMET92v7Q+YDMXP/W9Vz9D1xo/BOoMP/OjGD/J8BY/V4BDP5cy8j6ie8w+eOwFPwk1Cz/LysM+am/6PlNYuT4MWx0/+1DzPsOFOz9eoxk/v0/QPheu4T6ZXh4/ijdUP6Qz/j4ZUyo/tBsYP4wqCT/regs/Mbz4PrspET8isSc/564VP9AoTz/PxuU+A7omP5ZEAT9EFJM+0RxGP2fkJT+dCk8/YKQBP1Op5z67xEo/mODXPuKwAj+vfAk/+ar+PphGKz+MGuE+uBcGP+R7GT9AyuY+XO05P64dNT8Rzy8/9wgKPyo0Cj8UuEA/8PoiP2VySz8ruB8/T5v3Pl1vFj+IBy0/5DX4Pqq63D6gMCw/s7UZPzW+sT5M19M+9VYEP4MH7T6lJT4/0bYHPyeBHD9AMUY/mFM8P6EO0T40Hhg/rnXsPv0WDD9pcB0/hHUaPyHiCT92nuU+wGoiP4WUGD9FdRc/GBRAPwMYFz+IHEE/V4AsP5GgDD/8cDs/I3EuP9Oz/j63dv0+42w1P0qkHj9qfAQ/rsMWP1KAFj8RLgo/GxgKP05x3j5nzDc/cX0LP8NB7D7n9lU/fL5LPy2aKD/qHe4+3ulBPyw5LD/2Rwc/LsbFPh+SDT9TqOQ+AbNOP2+w3j71Eyw/QHJLPz0q5T7RfR8/lnYAPxGh5j5Hqgk/pxjrPnjkIz+5zf8+5aQOP4H6PD9gBOY+ppwgPxJfDz/t3vk+68NRP4u41D5DMUY/klsbP8Ct5T5cSVc/MQf7Pm9EIz8WVBg/+XQYP509Qz8FAcM+1FvTPtzgLD+va0g/l5AkP+07Ej/DOyI/whQpP/O/VD9DbBU/8moIP3mSDD/fHC8/1kZGPx63UD/YcSY/gZ0OP9VUET8DGR0/4+EwPzcJjj71IPQ+oUUKP7UzDD8Hxxs//8IrPydsDz9V1AY/f6YVPwJ8IT8mARM/WIM7P7gFCT8bPt4++GUnP9IDPD+Mqgs/kH/9PiRgEz/1+vs+rY7WPot3rj7lDPk+VwoPP6JPCT8GKOM+yD9FP4GPCz9WQU0/9tsBP5RnAT+gZxY//Cn/PrDVEz8aCEg/zZQAPwHAAD90ffo+k5ILPyXcED+rXxk/EWrwPj3i+z4YrQE/IMAnP5+Y3T7+3fI+mTslP3k+3z63+BY/PcgiPz4S8z5B9dk+63sFP5Pz0j7xqwU/4ocmP5ao/z6hqkI/yIvsPizoNj8aKT4/s3Q7P7Le5T7KSEo/xbfMPtf0Iz/S4P0+tYA9Pxx1Mz81os8+QivtPuzdLz8ONt4+IscHP7EM4z71n/Q+zIgSP9D1HD8p3Q4/dxKYPhZZGT9T/+E+0/oNP572HT+LdvA+CN0UP0jLIj/i5hQ/qsZUP6bWBz/UxNo+sLLePhq75T4pmD4/d6LdPk7xIj+FGds+ZuUsP4fB5T7eSfs+GYkoP1ygCT+Ka+o+HT8sP4klBj8+pf4+sEz7Pt+KOj9Su1U/OSrkPkGjFz/iZCk/zpE9P8XuCj/uagc/MBQnPwt5BT+H2v8+M3QyPxeWDj88z8A+VmjaPh9zBT+JROI+rcQMPxLOzz6vADs/NPISP8zfAj+Aahs/2Yb6PrRV1j46Heg+sXfTPh7YFj8a/9I+KfbfPl0uCD+JhkU/qMNFP7FlUT95aBk/BeUYP/Gu8D5BrEU/OR80PyMZGz/IDvw+JxrnPsEqVz8rGQI/fW8LPzTLGT/VZEc/jqbQPt6dBD+cKRg/wQ3EPpkxBz8fFUQ/LSg7P5Qj4j7V6yE/2wMCP61lNj/3GQQ/pSo2Pw+J8z5x+/M+9TtOP8UjET9b+RQ/h0zKPvhSHD8kskI/MAAZPxM6RT9wDAw/2VLLPh2GEj8L5w8/8XLiPvM2Sz8QJEw/5Ck7PxOQRT946yQ/0P4GP1hnHz+u/gY/zEH+PsmjET9vGw4/ol03P1B0ET8Hvtk+C6pBP1YI4j66NwA/mUwkPwEeFT9WrEU/JWQVPzTcQz+CFxM/WCEdP0z/HD8W7SY/gXPOPj+6GT/l804/AdwVP+/1Dz+8HB8/RanPPipDKz/P1gM/D+oDP/zJOz+v2vg+NpcFP9wEEj91VQg/sIIMP768Qj+hITs/HDQrPwT+Pj9U/vU+WJgWP3qgBz/TqDM/4mTvPtooPj8N7jk/p88QP6Jk/T4ptiE/G84aP3uK3T7c7jM/rUwSP9BjBj/BKR0/KbNQPzd9Bj9KoD0/C9wGPxl64T7lLyU/d9jMPkasKz8MFtc+m0HaPgN3Tz8auxo/HGg1P8yG4D5M+VM/Iv0AP5jPAT9aKQ8/OtHXPiUnAj9jcPQ+/XULPwQoCT9DcQQ/3ckDP96w/T4BjQw/W8PXPjT5GD+NQ0E/ZVkXP7ThDD/ckz4/9i3sPgzrIj/h1AQ/WsVKP8RxCT/Ruio/uaEoPxk2DD9Nqew+pszvPlxbFT+3aQU/Zv24PkZWBD8N0wI/xIYSPyC+Fj/1Hw8/qbAZP7g8Kz+5UvQ+natEP3sSPT9X8+w+t3MVP2OQOj8Mok4/nhjuPk6yMD9ekLU+ZZ4QPxSwOz882gU/PNsMP+577D44Grg+hKsEP8sk/j6HDv0+tPJEP38hDj9d1B4/YMgTP1ElAD/9oAc/0fUfP+QKAz/8tBU/3d4AP7DdDj/2cik/ragaP/kp5z7DpDU/twUWPxz6BT96TB8/R1UQP0cv+j48IBo/OOIrPyyA/T7YvO4+l6pEP4CJuD4w6Rg/b8U9P5quLz82AfM+AGk0Px8cFz8++/M+szUkPyfj+z4VXgs/pO8aP7XMCz/cpQQ/5KAhP8ZKKT9aXSE/SkYGP7sjEj8aQwQ/giZJP7X/Iz/ZSfQ+XKPTPoQmAz/D30Q//XIeP6RiJD+f9xg/IW4nP6Ed8D5a5io/Z9ruPm/X8D6OfAo/GQswP3hxQD8HP/8+bd4sP6Qwtz4DMUU/aXjhPkCvEz8QbQc/fZFFPxjT8T79dho/vsMdP4jeED9vgTQ/VCMRP9s8Lj+g30o/nKTfPksVtj64ZwM/Kk4rP/v+7z4C9AU/9tAKPyGW7T5TkxQ/ij3+PvSj7z5cTVc/fE87P6wd5z6I+zQ/qO3/PpyZGT/KBwY/E/okPyAJBT+N4tk+rg0vP9d5Pz/c3yw/P6AHP8guFz/PRC8/vA/gPmWFLj8J0xk/JRQNP6vF7z5Po08/G/fgPqs8Bz/klg0/ULMKP7LUFj8ufd8+wPEuP7ZDGD/AVic/fg5QP6UxRT89guw+GRnmPgqJwj40nhI/iScbP4PB2T7JbsE+0eADP/bFRT9SxAI/WnYiPyG/UT+kVwU/ZN7HPiXQFT/szjU/j5cRP7cdFj+WVx4/pqTkPkQvEj8dWBs/hcAxP8t34j7kEh8/EI4hP5yrPT+ET/M+K/BEP2P72j7pyTs/gyBFP4SJEz9O1C0/1EEnP4/GST/YZEo/TisYP5ILPz/ZhOc+1nQCPyODJz9omyg/dr0cPw3kMD84Pwk/tJoPPztMGD+yQOI+it8hP4niGT8zHlA/eQpQP4jzBz9PB/0+PjYNPyCoAz+pdh8/OrQXPxNW+D6JbPI+aaoWP+ZNPz8ZRf8+9wwSP7mWwj7Uouw+g/8vP3RgDT911ig/eOEWPwBJAj9iixM/fMoJP5LEOj8ZXxY/B24sPx+4ND+r/Bk/Li3/PhCkGD+yYtk+xYUSPylDJT+0QTM/3MJIPzFACD+lBxA/xQD9PmzuRz/QBzQ/GURBPxWwTT8jm/U+5lgePyBUJz9B7i4/W9g0P9F37j47Az0/GwnuPhVqDz+OdvQ+2EEmP2t/Kj8E0u4+k68hP8MyET+Bqgg/JmfCPvV9NT8FxCw/XUofPxHdNz8o6gM/cbYVP+ra6T7ntxA/uvoWP/B6GD81PbU+KacVPx/C8j4XndY+9PAeP17IST86skI/7aEwP9WWCD9MO78+fkk1P2z2Ij/1lkM/qZBNP31GCT9mpxI/XkY4PzxeTD8GAxk/tCA1P/fJOz+w+e8+5lQkP4WNGj/r6yc/ZSXgPpn6Oj/HaeI+TTonP0MnKD/3ifk+PJvtPoJUSj/lxfY+oDMOP9/95z7FigQ/6GEEP/02LD/RPfE+phMbP1M/CD+hVU4/GgoXP/K66z79rTs/arQhP9H+Jj/Z1AY/n8QYP21nvz4HFyQ/xx4HP8oJBT+CFz4/f4w9P8KTnj5yBQg/WRQAP5/xRD/PhOc+mZYVP5JDKz8jIxI/7UcdP/AnFD/B1hc/fW4XP63oDT/Khuw+dunpPmroIz9ttAw/pqP9PtmMBz8ZqyE/wvYlPw6iMT+h1C4/nOvjPgoz1j7iDwk/qjkDP5HVHj9K9T4/py0aP9qXHD8E7h4/RcZEP6x6Ij9ubCY/A90JP8+EAT8Gjyc/e6ohPw5MCD88GhM/URckP2F8KT8LFwQ/5PEIP6ec3T6v4xY/0dBCP6vmEz8pqO8+8G4TPxvNTD8i0RE/RrhAP/qaIT8eARI/HqbsPhVPED+niu8+5jAlPwH5Nz9tORU/B71LP/VpBT85uT4/rIMLP2AoOz/hnNY+ABoUPzrdAD9e8ts+vWIzP+fSQz9y/+s+Ee0sP/G3Hz8tlus+XQghP6Pt+j7ZJzc/LTEeP57gHz89KR8/yaz1PgBeBj8GGFI/BPAfPw2xGD+lPOk+qE1CPzPvHj+BBpM+GbY2Px7h9D4ThSg/4lALP6A1Hz/rVw4/no8eP2cSRD/rqCg/L2XhPj0F4j7TET8/JDpHP2tGAj/nYDA/MzceP2ko6T44bkE/Rw4fP17BDD8Et+U+kQsnP7ljSD/c2T4/Fn3vPkBfJj9o8OE+D4K5PiY9UT8yZDU/lYsQP8qX4z7govE+ie4zPxccFD8a2wQ/nn8MP10/Pz9NTgg/EbFLPzGhED8Pv/I+5AzaPjvyqD73Tws/bYD9Pv5HGj/690g/gUzdPio3Sz/62Cc/9RwEP+T/VT/MqSQ/oFz/PoFtFT8pOy8/XJhBP8MgND8VQS4/qUgTPyJ3+j7FYRs/ZVYNP0v+SD8NGhw/mwZJPy4syT4f5EU/oAdJP/vVHD90Fgo//AUUP5ojNz9MakY/70s0Py1gPj+C5+I+CekcP5lMIz/Cajo/UpsiP8ITGz9SyQc/PaYEP3nNFz+2HDs/ZNoOP/PaUz/DVgw/Ch7oPprmHT8U8xw/kgclPzrY2j47SAs/nmkfP4EYkz4R0Ps+avMDPyvPHz9eiSM/ChckP2sTEz+0C/M+ff36PnxnvT6PDCc/T2/6Pgx7OT8MPts+nq7xPv59Fz/j5g8/3rAbP/+2Rj9uHAs/oCn3PjHLBT+A7S0/aSHwPvcc/D6uwRM/lOv+Pis79z5t5SM/eg45P1rB7j68jdc+d4DhPpEkKT+Su0Q/+EoTP4FAzj64WBI/XMcDP/dOEj80gTA/G9sIP067uz7DGzo/hmr9Pv7ZPj8MtBM/TLUmP/4AOj/8kSg/7s9UPzEjEj8TmVc/T9nUPnqy+z5Q/QQ/E1UZP0HP+T61qho/zgkuP0V5LT8laBo/lM07Pz59Dj+mhAA/wXAkP5tHuT65NyI/VEgBPx5NUT+MdTo/NWkMPzlLSj/mZEU/xX4gP3xgFj9UDxU/3pIqP7syET/U1h8/sOsvP7flnD5pjRY/93XnPqONFz+KhzY/Kg0IP/A7Nj+ldFc/UcfzPlqDJz+TxUY/KeczP6TBSz8yctg+ITXxPirNJz/KyCk/cnMoP/i+wz7Ey/c+l6zNPvxbNj9HneI+1IVSP5HsCz/ekkw/GhKlPl2GLz8zjUU/t/P/PitrFT/wJQM/8SQWP0hiGT/XOgY/vjnTPoupFD+qLxA/p/4mPz2QKT8IogI/X2oAPwIP7T53Qgc/oqAIP1FYTT+6IAI/67pVP7k4Ij/2cxE/DYQGP7BsCT+ppSQ/E7EwPzFIJT/2Cks/qF1MP1xyDj9CPQ8/iCkcP9JtDD+a2AU/DBcNP6nrBT/vxws/Z94aPzKkCz98bDc/EWYMPzdQJj89b/Q+1F4lP8rWUD89Ayc/IRHuPhuI7j6m1F0/k7MwPyMfGT/sNBQ/oM72Pv32Ez9OfK0+QFcfP9p9Pz/D1Rg/Mb83P2V9Qz/1Yxs/pQoWP750KT8OsTg/9LMKP82+Kz/t5AU/x5c9P595Qz8x/Pk+0C4wP7kv8j5Xnx0/bznoPgVrMj9dXsM+i6VPPyaYyz4QaLo+yC0uPwPHMj+2nCE/GHQcP0oGDD/2sP8+2tyxPiMyCT+xjRA/6kEMP5ZzuT6TAys/pzM4P3CX5T7pJPs+zqgkP9L1Kz8jhRI//kUEPx3IAD/GBNg+LL37Ppet6z4ylNE+agMXP+hCVj+YIwc/k4oZP0f9vj6E/jQ/L9fzPq6ZBj9T9QY/KDLyPn4jHj+hANo+/X8WPwiQJD9DNio/yj/dPg5XCz/XBwg/e7/NPlcSLz8hAw0/EfMfP5uK+D4tTg8/GyFUP9GACj//0AE/VMVLP9PbNz9qQSY/p5rfPoRgHD+iKCM/JDDrPiFwMj9lYug+6oLZPl4N/j4OkQE/fHQ7P7smID9fP8g+r0qQPs49FT8lotA+WHT9PltTFj9YvQg/M75EP7hR3T5I/wY/bsASPwzSLj9LZP4+rTIkP9jIMz8Ffxg/dQtXP9lJDT8/1hc/7QQHP6B6AD+v5OE+Mu83P1F73D4TYQo/RtfPPtwHQj+UChI/v1MOP8U9PD9ZkxY/YKQuP8Ur9D4vryg/OTwsP6wOGj+BuRE/IdoNP9Xf4T5SNEU/5DczPwTE5z6vngw/a4KuPl2WJT83aMo+OLXnPia5RD8wmcE+xngfP1fBLD9kJgg/OvENP5UA5D70Fg8/9O0wPw5nIz8aYxQ/YboqP7vS2z4RXRg/D79EP7vd1z6xsdk+Vvw6PyE/ED9aOPM+n2whP1cAJD8W1Aw/dIIBP25SEz92pwk/d2C0Pt4QMj/0ETI/qolQP/4uHj/Zwuc+SCrrPhatwT718dc+J+88P/K7DT8dWBg/4lDnPpmvGD/QmDg/rEsEP0OzEj8ZG/0+CysSP8NmIT8SNu4+KugWP12AST9NDRA/UOQHP9w9LD/F4jM/5K0eP+aHCz8XmlE/o20IPw4c+T7ffA4/uan2PnKcGz9VoCo/DBzyPiflGD8FbQg/G70pP4GzCT/ol1I/PWU5P4NI3D6ZdAQ/CtoPP3nURD+V5hQ/+nAmP2Kt6z7ewNA+TrzgPoGV4T4vEDI/v4QEP2vRxz6ahAg/RyEoP6lC+D56jU0/MZEbP8f5Fj8pQuY+0nL/Ps/o9j44Sko/J9IiP2gIRT9POTY/WyUFP6VE2D4jbtQ+wjfwPiQu0j5jrRo/ZdzTPuavQj/A/Qc/bF4GPzxl1D7YlCs/ZJTwPlxBlj5l/AM/cAwUP5wr/D6Tcx4/UoAmP4r1AD/UYBY/DdQIP0Y8GT8eQA0/kWMTP3EHJT+MLww/+FrAPkHqBT9uyyY/e4w4PocjLz/oXf4+R/MkP5p1Bz8VjgY/UPndPr6mFT+Ytgg/sBfzPsBq2T4Wi0E+SJQVP8vpHz8E3+I++G72PhyrRT9hcCM/iZ7YPhKO+D7FWPc+H+YTP6VGPz/KIxA/cgcaP9EKVj+52RM/SxcpPxZ7HD+TzSA/bM7wPoXHCD/cRAQ/MCDrPpnGDD+6AgY/Ysv6Pr4WEz//3Sc/kfw8P0THLj/leic/qWkDP6hqQz8Q4iA/6PY2P9OiHD/ZSws/UbwEP91I7j7mjxA/KQ2vPqB5pj7dr/Q+SRwHP3QoED9NWvw++ky4PlnbAT+DTwc/doYGP24hHj9AB+4+j6cbP176Cj/hrDs/RcIkP1EqNj9uHSg/Sw/+Pj6IED/o5JE+KKoMP4Ps/D6/0AM/Xgz+PsffHD/ekCY/5vIdP1vxAT9TINE+3nYUPzb3Kz+60hY/Id4ZP7HQQj/d1B8/SZr/Pq66VT80TiE/nGQOPydrGD9etg4/UEZMP8xiAD/zZRA/j9EFP0EkIz/cHgU/1s8yPwfGHT8vLBs/IJLUPthq6T6zRxg/hqAMP70ARj8S1SY/Iq4KP2yhJz/Frxo/hc8uPxQH/j5Y7yw/bM0ZP/jq+z42Tgc/8SJJP+63Aj8gDj0/5WMLP8kuRT/QCjA/2fcRP5XRBz/IlAA/t+EMP/sBSD8XBtA+AXL+PrI4Dz/SnSU/7HMuP8ZUFD+SE0Q/j4QEP1exAz8LZAE/6C8lP1av/D5C9MU+BhAZPynOrD6F++8+SSINP16/Jj9SgiY/X/T3PtYF9T6pXwY/SR8FP7sbSz8k8hY/p3NHPxIdGT+5WgQ//BhPPwEF0j4u/fc+M0gDP6j66T5Ge7g+SKg7P2O1Kz/P7wY/3hclP04dST+m+jI/F/4XP38uGj9umc0+GendPjTbBT9aA7U+nVdBP/gn6j5ZbP4+M1YKPw+/Kz8FDVU/QtBFP+K/Bj9iLTY/d3sEP1pb2j5W2xo/wSIaPw5l7z5rjhc/vDwaP1tgEz+Qxh4/K0AeP/uN1D5MiDs/c8sBPyjdTj+lcgs/N/0eP7/VJj9RERQ/Ps4HP4EH0T6b1T4/RYIFP3wANj+/4Qc/C6sDP6wkKz/HKho/d9IcPwXzJD87zSo/zwwTP4PYSj+03go/4xQkPyzH7T69Xts+C4XpPmVmDz/vtec+zRYNP+/mDz9GzEQ/iSwVP6p7Cz/ryjU/LVEeP8uSCD+0QOg+NcsxP9PaDT9dkCg/aoUVP9JrGT+YP0M/kZEJP0FJIj/SyTs/gkniPqaW7D5m7hY/2MQUP8ZzIj/1V00/6S4DP7FPJz8jRCU/ag/+Pn38AD8Cugs/8oEVPxXbHj8lMA4///ZcP+bsAT+3EP4+xt3MPtAQET8pBw0/LA4UP9axMz9cEks/d7lQPz4r+j7UWlA/8zb+PvP7Lj+k0B4/xpQEP5TdET8osyQ/623iPvC3FT/onOM+aHTaPuZBVj8qrOw+kX4RP8Y6Jz+z8RU/GAL6PkxkAj94lzc/B54BP9zBPz/jyTs/K67GPsb9Sz8IFu0+WwwlP4wWFz8MJx4/cDEvP+w3Hj85Zf8+9+wRP4JkRT93lig/cGn4PtxVDz+NMw0/0xHYPssyCT8rQPk+vD42P7L0Mz9gFi0/HDIEP5cSPz+IWVg/SREyP5f0AD+avzs/fzUIP6upCD/N3uM+DA4WP6sYCz/AQPA+gOooP3eW6D6vtyo/l8CLPhe6Hj+7gRU/8PDWPvPADT+EZeA+saOCPjBeJT8Euio/EbfNPn5CCz/vSeg+uifbPkpEOz87sgI/s/BPP8YCID8S204/Cd4fPxEcID8GXQQ/mW32PibftD5ZSSw/VHMwP7CfCD9yMdg+ylwJP9X23D5a5SE/tz42P/KRKD8RAhg/WkD2PubcHz+IxdU+7h0tPzi9Oj8iMiQ/CNoqP3PwJD9XcTo/G+kcP02eBz+5OeE+jOP2Pg3ZIj+Iykk/SrgTP726QD/XBAs/ecvXPkONST93OEU/6JEwP4Dp3D4KsN0+348IPxqmCD8vzSM/FwADP94QAj9wdx4/HkFNP4jbzj5xywo/3/CtPjIUEj/pehE/vgocPzSCND+ebuc+5OoMP6FWCz+wShY/cOYqPwND5z6hkeY+juFVP12hHz+SYBI/l9XJPjAQCT+inRA/LXsjP60vEz/ct90+ahoLP7ObDz9OBiI/r9UXP+m85z7K3+0+cJ0HP0qHMD8a9h0/6whWPwmNwD4Kago/xJcTP+5UOj8pp/s+VpEWPyB/CD97Zug+9NT9Psv6Fj8nXv8+lu34PmuV/T5jcf4+bj8PP9VuCD+Dr1E/mEYQP5lMJj8oNTU/Dr4/P6OEPD9eGiE/Ms8aP1yHKT8As0g/uCUHP+KCHj89XPw+X0Y+PxZYTT9b/N8+eYooPwduRT+oebg+nNQwPzjJID9xNeQ+UzoAPwRRGj8STxo/cfgZPzw94T7ZhDc/K7MkP5VpJj/UMAE/e7YVP6t3CD/IyUs/ZRknPw2COz+gxbY+PDYdP8F/Qz9D1s4+KK0IP6xxFD9HVQw/bVsEPyySRT98ncU+q1glP4PeAz/yHOI+Uo7XPhX8FT//jCM/jQH1PicXMD9ntUc/nRdYP0J00D4OjQI/1bxAP/M/pj5MidQ+puMYP72MTT+SrRQ/wSwqPxs7AT+s4BQ/3nX/PhyE+z50uCA/T00XP/iSRT+wt9c+DhwLPwvSBz+hg+o+JEbgPvMZBD+UXcw+YOcFPxV6/D69mQM/xag5P1ovDz9OUv0+DAcXP0mRKz9cogw/TOcVPwNNGj927jc/X4nlPiURAj/WCBs/uGgjPxiqGD9W+9w+SokqP+88oT6WYbc+8xsaPy4EFz+RN/4+OwkKP2RjRz9/DAU/8JqwPmSlNT9SRwM/jDQaP9eRAT97ag8/yCMLP5zfCz+wKDA/NuHWPkxoFD8nPwQ/Oz8aP6naDD8D9Bo/M/ANP83iCD/jGSQ/R9K8Ps3LNj/DrxY/+8VEP3oY+z6JdNY+cZD/PiSV2j7uffc+UkG2PpMCHj8EPPA+EqTfPnLpAj9cRvA+Jrz6PsQcAj+orTk/V27/PgT14T6+8hM/t9f6PvnTQz+sKyw/ajH6Pm0r/j7aLTA/DrdAP3M0NT+1JKY+RRw/P4SVLT/KdzY/FwMLP4DoID+xs+s+psQdP5AP6D5iOuI+2BoKP73jBD+6Pis/kSDOPibR1j489fY+5E4UP01qKz8+RAs/KioVP6f8Ez9HcRE/vloFP+NSGj90lio/7lDzPohg+D4ptDg/lO4cP3DzET9EozE/iMr+PjtLSj99gRk/+vcuP+Sx7T5yJwk/4bMWP/d52j4QnwM/84sBP3ZcIT+EITQ/N1b/Pk9F9z4rfN4+WFYSPxcS1D7diDA/npX6PnxrKT8UtC0/G6omP0zbGD/3mOA+YjsdP2+BHj/+8kQ/Tf08P16m3z5ZahA/72kiP6SRJj8QBA8/TWcKP7rIST+nICc/DD/rPs49NT/GYPU+rtIRP2mnDD/LEQI/U1f3PuGX9z57W/A+s48EP8CBLT+nqho/1GbuPrQ6Mj+z2DQ/1bIQP5QLPz/n0+I+dFZMP7OTAT/KEtE+fUXmPu2K/j47zw4/j/8KP4utHj8kN5o+A6EQP9/c8j4Yww0/pzi9PqaBMD+DRD4/RgUNP2is6j4WbR8/HrPYPsPU9D5weBs/nXkOPyFYTT9mSFI/IgITP3qyNj8OItA+FYwNPzJ3Bj/LzgE/q2EaP90rAj87d/E+vgMbP1+VCT/DLBc/ESYGP69M+T4UbJc+Fy3VPrF/TT8Nsus+rPQKP+qZCT8xMhY/bDcPPwCm/D5VPCM/RRodP5qZVz8OSgg/Fnr1Pt+BLz8lTxg/2JkWP3dJUj/Pvwk/g0UdPzjdHj8mZCo/FZYfP/v+QT84Mwo/y104P+KwMT/fqwY/Kh40P80N7D7tuxA/oh0KP2jZPj9tPRY/gs7mPkw8Mj/Zbks/o3b0PnXnIT9+Mq4+fEAaP5dBHD88b/8+w7hRP2SmPD8xFR8/Ei0DPxVXPT9P+eo+QRZJP/tCLj9O9xY/tYkfP+uhLj96BSA/s/caP0llzz7q5yI/RY0cP0qjID//hgI/+4xTP3EUIT+pov4+RVMcP433IT9/ey8/CTDbPotnNj9i8Dw/cnK9PgPWET+RUUY/cj4CPz9s9T6CG/o+ZMMzP6iv/j6t6Uw/ISsHP7z40T5U8hw/6ocSP8aODT+v6UQ/994jP90ARj96CDQ/Lp0nP5qrLD9PKAQ/ns3VPsiuID8vQ+g+LWsQPwVIPz838gA/H5gNP/WT2j5nfP4+/p6vPvVXOj9JLCo/8pwmP1e87D6kniY/VtPuPjWPRz8Rxxo/sC4EP40P7z6e6gY/80QEP9t0Fz+yhw8/3Dw9P6/MBz9qmPw+IFwnPwtoQD8bDz4/R7oOP6AX7z5tpS4/sc4OP23bET8Qdzo/cKRPP1pU9T4xEzk/ryQLPyQbkT5VCzA/sBEeP+R/Dz9reD8/YQURPxLRDD9NNPs+SloxP95+pD6G+D0/8CIvP9rjRT8FXSc/yi4SP/YvJT95gfc+OzxDP+bcTj8BnuQ+x6EMP5L1/T4QCDE/U4wUP+0yCj/sQCU/OFo6PyG+1j5++/s+/k41P47xkj5MLCo/5ZbsPj94GD8Wgzc/IT34PoEDQT8hztk+Hy4TPxgVFD+0xxI/JnEwP9dZ4D6GK/U+AwYkP9GHIz99Dgo/89gZP3KTLj4gP/w+fIoIP7spEj/BlwY/9V0MP0U+7z7h070+LCMMP+HnUT/gMkY/GKjpPjHjLD/wBzk/zncvP/G+xz5ikFM/fMboPuBH9D5qVx8/JQf4PvrrFj/ZO0c/fAgLP9wrCj/biRc/HxYIP9VvMD8gN0s/zGwGP4JIyz51xR0/DF9eP5TnLT/mSgI/QhkpP1QJED8WhxE/H1zyPula9j766zo/ADMJPwF5BT/BpRo/lE01P0//Lz/Ve/g+mc0uP7TrMT/DrCo/avJDPy5Y6z7NHFM/tq1qPjvW0z7JLxw/rREvPxoOFT/KFks/pBMCP24qHD8ESEY/cKcQP0mjFT/hJ/0+9w/1Pr9oBz+4afU+oPkWP2Fa/T75Ixc/gRk8P+4hET/O6Ac/TSINPxMgOz92EU8/kNFHP8FY+D5l3QE/zW5NP4mqGj9ZcjM/g6M4PzOnFz+veg8/yHIwP0VHqD4z6Vs/6RAZP7K+Gj/nLyU/kAsRP7d/yD7Xi1A/wFc3P8O78z7I00Q/6Yf0PoWKQz9fNL0+VMclP0FvCT9oTQ4/SvshPyXbyD64Vg0/8gEZP6Gg0z7FNRo/vqj4PiSC7z7zaC8/WVnfPsLVLD+c1RY/EzvQPn3JDD8ACAQ/1n7QPugd1T5PgwE/j/XWPlwD8j7zYyY/BfAmP9dKUD+PvjU/PhMJP+q+ND9hf1E/miH1PjZGHj8bq0I/EzIlP0xwBz+PeFA/esFLP762Cz85MUE/JAMPPwHpLz+V2s4+LSo2P78cJj9lWt0+cH7HPnlW/z708f8+ZDEHP9bTMD9d4h0/oCM+PwR/+z5S7xA/nLvPPgaVBj8zeCU/UwgwPwSwKz+zdAw/WFQQPzntAT/4BBU/i2EvPxf15D5qj00/ObwpP3xjSD+6GBM/mNi9PvKLAj+v/+Y+ctAgP8549z71OxQ/lxg+P6eIAD8gr0s/stQHP2NhNT+CKFM/lpU4P+axRD8bZzY/3tEiP6tS/z7TyCs/KmD5Pksd6j4ImUg/h8wDPyQW4z59jgQ/n3hRP3Uf7j4Zpu8+hbkqP371AD8+rhs/cjpHP70MPT/PQtQ+l5oDPxpJRj/r1QA/xWLxPneqED+ilxY/yEkMPxWNPT9d6vw+VxA/Pw0r+D7ujkU/5E/KPjz0UD9MK1A/+9EGPyL96j6n5Nw+ZKbWPldqQj8U/8A+eFQHP2eeSD/3Eq0+QV0RP+sn+z7TZzo/SvUcP7NAED+zvBg/iQcaP9MlOz8SxyM/MP8hP90MRT80LDE/mb3mPj6MSz811gg/BpxIP+PCDD/MvhM/NmkbP+vHAz9+Vjc/cZoRP5uaDT/kVyA/7589P9Mk+D4nhxY/dqYQP2crTj8mtzQ/jV4DP5rs9T4SmEg/I0EPP73hCz+8tzU/rXbjPsPZHj98yvs+uB5UPwllMj9MoRE/2XgHP8kLGD/X4gU/taAGP+AaBz/2VCU/fGIdP1TYNz8Sd1g/k6YHPy5uHz/hpU8/m+8TP08W9z7b+wo/hsdEP2b+Dz9R3Qo/4WXRPoOd8D4iNO8+JVEXPzee8j6Kcs0+X95OP5GEJD/OwQ0/t5MnP11TAz9NGgc/VKPZPh7GGD/HlxU/6TAFP4/L5T5Ro6Y+Tpr6Pnk2Pj9AziM/YEIWP5qQKD/X6BQ/7+DjPrB5JT+Onwo/7QTzPqloIT/TlAY/+JA0P91eKT+ejyM/NRABP5Mt5j55nik/wScjP0DWPj8iEco+hGQPP86m+z4hrCo/VwEWP1MwBz+GUgc/X13uPkUSKj9xQAM/RPkCP2Q70j5ItRY/MhpHP+m2Iz/WGAA/2oFNP+Nt/j7MYAs/6gIQPwjTEz/yFJ0+SgQGP6EIyD6fSeE+Xu8ZP5q0Fz8uDAI/8EsKP4ByPD/HtTQ/54hFP5xUJT8TDxY/8EkwP2QlBT/f8Bw/P4W1PncOBj8RrAE/oskcP/ZvBj9WlDE/HbseP/+1Bz8J7g0/Tr7MPpTrMT92IRs/3Vs4P8cMDj8KHvA+SjvhPimL4D5OVkM/swf2PrwpNj8A7Ds/fnNMPyylHz+6Fic/0OYqP2RRBT989BA/29wSP5EdRj/wjiQ/J4s1P3qEEj//3Qk/Z5tXP+ArLj+s+rI+MmUOPwvaOT/VgRQ/7mMVPzOKFj+OEE0/oGfjPnJBAj+isP4+wE8APwsVGT/dLAM/qxckP+3BAT8o2x4/n60NP/KuBj+iBag+/0UYP3cJ9j6r/RM//cYTPwgsDz9TLPo+RHwcPy1XLD85bzQ/6XfjPnxPMj/HtQ8/p7PsPsZmED9iKEs/6E4aP9DO/D6eFR0/o/ngPt3CGj+JGQc/2k9EP3b49T5d49A+8TMIPwDhDz8NTz8/G+gnPxuR/j4klwk/3RkyP0B91z6ZBIs+QU3aPjIMCz8WlRQ/W8hEP4oHFT9H00M/mj8aP5sFVD+mtio/moM9P8+O4D4KgUM/ZJ/gPqzJsz7KTsU+9F4HPxnRDT8FV0E/lrQJP27dTj/nqxg/alnpPlc3Gz+CQRg/Sm0EP1OVFj/4BhQ/tvIhPwnOwT7x+DQ/H6X9PuQ72T46yQQ/5I4BP9tlST+slwA/kg0nP8YLDz+WsQo/7AfBPpyd9D4XKVM/hdkfP9MQED8S3wI/FDqzPnPFCT9nej8/L97jPrPHtD5X4A4/Y1TUPnb/QT9cKCQ/XEUjP3yaDT+gQQM/jBMLP18iDz/JFOg+re0fP0dwCj8rBCs/fPkiP6ZLDD86OMg+/S0HP3nCMj9//Bo/y55EPzeeAj8Xbuc+GMAFP1wLGj8HCuM+fXEGP4le0j6eLBM/opDZPn8+/T5gfzg/cHW+PpFYJz9qzh0/iO0NP/qNDj9p8RM/+NUaPz9rEz8wqx8/QHUMP5RnAj9ATvM+v1AwP3/mNj+KzSQ/f0ATP7cX3j7380M/+7/OPuN32D424/Y+CslAPwPWEj/C2Sc/iE4nP3gPGD/8deg+vYAAP5sRjz6B/Rs/R4rqPqLdyD7ihSY/e3JLPyP7Jz+rzgA//7cLP6OKIj9u8hI/m/cJPzsEIT85Gjw/YX/WPsHcGT/wpDU/ifgMP778GT+nfBs/aENSP4a5MT93tfw+NzkSP4H0mz53qcU+bXQeP6Z0tT5ufBQ/aLDPPh2Auj4rkSI/02P/PhLDLj/yTEE/hp8BPzsFHD9WSBU/z/QrP4dKED/l9RM/pyC6Pt/QQj/3JyY/Ppn1Pi29RD8FfDc/N3jfPmDAtD64Vxc/sXPjPi0sKj8emB0/PnznPhVQ3z6O4s4+SCI7PzseDj+ZSAA/6h3lPsXK7j6h2AM/eiTuPr2bFj+Cv+4+xBQhPynx6T4yTgk/UfIMP9+UPj8NiRY/Yq3cPtzJ9D6nxtc+/1sGP2GHDj/yTbM+fvsxP+Y6Mj8cIy8/p4QPP3NYEj+82QQ/BasXP5+nGT/93D4/WgoRP5Xu6D5rcyw/WpMlP7nb8D6WOd0+LeJKPzlLBT9zkxY/0XUZPxb8CD9dU7o+kiUSP+8MDj8aaUY/FzD4PvBOrz5Mchc/q2AZP+SlBz+fZwY/FiIrPyCr6D4CTDo/zv88PwqGLD95Kzo/XgT0PqwOLj8fYhc/7B0QP1qQHz/T7iQ/dB/hPpj+Iz84lCE/zloAP7QWED/a6L4+yVcPP7MIBz+IrzI/hJLkPp/0CD8zCBc/fYDzPrfS+j739FM/NsUIP4kz9D7rTP8+YFwZP5SyGj+Rs/I++OEMP+G2BT/UCiQ/EY8cP6YEUj+qZwE/NechP0DiBT8cThY/bQbnPnTS2T5H0O4+CBUbP9btIT9czrg+jfgGP/7AEz/q2ss+YRxPP3WxQD+cHG8+EJ/7PtWw1T7bGUY/uw7sPg7ZGD/CpQw/bc4/PxkdKD9PttQ+uwFFP3qwOj+YyQA/WstAP7VuHD9GcxA/8ic+P/1JBj+u3fA+r1AWP1tf/T4W7r8+pRNBP6suAz+Czc8+NwrePhdRUj8r1xU/YdYzPzRdBD9htmE/fz8BPx/VHz80wMs+ssYWP4n2Ej/k2wU/vypTP+dv9j4A4xg/posGP++uVj9ywgo/Y1A0P2uTFT+1rSg/m7zuPlbc/T54rCQ/H+kVPwZbCT+HVQE/6SMEPwQcxD7cUNs+X2UDP3a02j7EThA/XNVTP/4G2D6j2/g+GV8hPyYqHD9XROM+/EUeP0/I5D4+FUU/BCsPP41Z6z6uVyM/s7Y2P+RCED/fqeA+ZQErPwCRFD/7iAw/Y5UXP4drIj+2jCw/QNYHP0hz+z6kyhY/w/oQP40l6j7yJgY/rz7CPgHayz6pQ0M/ctgGP3ZjTj96GQY/LB0MP3JqDj8jSf8+vRQZPy+fxj6AeD8/4tbYPjr6Az+pNBs/QZ8GP9S7Cj8MIBE/fAIIP1kNCz+zQiI/LY/yPgl29z5hjB4/VTD9PobrBT+o+Cg/33ZGP4W+CD/93As/tipTP7voIj/Ilwc/EJ4aP8+MKj/NFds+uhsXP4DoJz+H2zQ/oGcvP4ra0T7V2+4+D/TZPqCaLj/fEA8/NZvPPvK8ND8BVdc+LI01P812/T7yVk0/Zv3LPvRWND+yDhk/6SQWP+XsAj+DcuQ+nHYaP8mDCj+6DtE+kSscP588KT9++/s+uJcIP3oVIz+nOBE/0MW1Puuf+z4eZfU+d+xFP7T7Ez8EVyQ/DH30Pn30Fz+3r/Q+Q7kmP+GjET9OoCk/pVjFPsSR0D7aYwM/5k/3PiEbPD8acxA/Dg36PlDIAD9tMxE/TcocP48+Qz+WZMI++kwPP8/jQz98jhE/tOcJP3+xBT95FBc/GCgyPydWQT9ia0I/8uoLPy9Lyj4NST8/IsASP8u/Jz+x9QY/eA4OP5TEGD9wais/Kj7sPiDtKT/+zxY/TKL6PrQXCD/9peo+s6odP8HhjT75Zjk/6VsOP4lPDj+2FA8/IP8FPxWfSD/8G/I+KsAXP7sfFT90RTs/zCoGPyqUMz9oqic/QZzxPgjeKj805Pg+nX3JPrGEMD+XLCo/BpQpP+0B3T4/wSo/HAo5P+kSHz+5K+E+lkjvPsRy0T6RDec+ALAGP0qmdz7yixE/ObgfP/7tDT8MZTk/RMGePSGpGD8EcVE/p75LP1nw7j4YsRI/UXBTPwiTCz/bq+M+5UEFP/cT4j5zkyE/32QQP+U4FT+MLEk/obIZP3kXDD/5cgQ/7mf8PjkODz/gLAE/QfkKP+G1MD/9Q/k+dvq5Phm4/j7BPBY/+mcVP34l2T4bcSc/+mAPP0o1Hz+bRxM/e4gIP45NED+KVSE/TRw5P9s6Bj82SS0/fp/wPqEwIT9kCQM/hMiVPmEtIj8RJPo++cQEP8VXDT+pKwc/Vl4PP9805j4PrPE+scz/PpYuuD4XYks/Bl5KPwijAj/5MAE/gia6PrYnTz8u0gA/CQpJPzaqBT/uyhI/lx0eP8oNDT+yNQ4/wTkHP20fBT9qFvo+WUInPx/WCz/zngo/XDxKP8v6Dz+QbhU/tC9JP4hAAj+4kk4/zNzKPiFc6D7Iyro+NdLfPumm6T5KeiQ/L/cNPxBv/j77sig/z5f3PnmtPD8T1C4/h8sWP/pw+D7vlOs+cQkJPyz17z421Rg/TKwbPzZGQz+KBz4/UbBOP4t//T4aHgE/LvXZPhUj+T6qVxw/zTRDP5a1Rz9Fqjc/+bg2P9Ni6D5NS/Y+L04UP1NPHz82wRw/6dNDP5d2Bz+gsso+ltskP5z7+j7Sjvw+n25YPy2uSz8RiOw+yCQ7P57l7D5y/SE/4FocP8mqyT6PAUE/Yz0lP9AvCT/pHS8/1SA0PxUUJz/wiRw/FXsoP/JSFD+yTus+VwjnPrGnJD+OiiM/7QAcPwMy7D792O4+lpkRP5IFND/pwg0/7LcEPxAsFT9pxd0+ArQdPwxUUz8QZx8/kRP9PhUsKj/b9Cs/IpoWP4MGFj/E5fo+EQ6fPmOL/D4Wxd0+/b0CPyXlHD+aSz8/Xjn3Ptvn1j4dejA/W/wOP6UgOz+R2fY+gkVIP3yoFD8Sm/c+Ed8OP17rDD+8R/A+S9owP3iI/T4WMxI/1ZoEP91VVD/Bjgs/cxf3PsC9Vj9tIg8/S74YP8DkNj9V4/8+PI74PkiY6j4jrQY/sHsVP5/I/T7fn6U+nCEPP8efHD9kvEQ/jvw8Pxz3Bj8tOE4/pYMlP99vHz9axhU/Wz0MP7uzBD9VdR8/AgUwPwy6Kj9mC1Y/SWEyP48oyD6zGf8+SoTiPo/HAD+Cu/4+llYQPw52Gz97Bg8/yegQP+6jNT9NmQg/DtAeP5qh+j5Dgjg/cLUWP7G5/z6aKOo+XT77PsCYFT/cmfQ+KmNIP8KVID9VXy4/5cPRPoWULD8zgVQ/f3XKPiRmJj+Rfgg/cPc9P2zhFT/eLyU/jqImP1nVKj8O5j4/z5DePvL6FD8NagE/cNcAP3KCEj+UpPo+U+4nP6G6AD/JsFc/iP8WPxqCET+LShw/w13+Pp/42D4ezAw//HACP17EID/dUfk+iGyqPtdiRz94XRM/gbBJPxAXAT866iw/zXYWP9kSAD9jNVI/rYERP3pjIT/QkUM/0+xPP6jpBz+O2Ms+yZ4VP2OVSD86Ov0+6wAPP4Dg7T7UJco+pds3Px2P+z5SG+Y+PyJJP7QhDT8MV0E/xbsOP5Mezz7+xxo/k8BCP2LPzT4iMiM/A7sOPy9XEj9Npu0+1K4wP8k7Gj8UZwU/EMUJPxgVJj8K9/4+7+YGPwOrjD6Q00Q/RZQYP8ZvBz/w2vk+kvzdPp4sDz+ePAc/i6gIPyz3QT8flNE+9QMlP/19HD8BETg/4wRJP39JET8q/Qs/fxP/PlTLCD+jWQs/JNRDP4Vv+T5dQ0g/pihLP3LPPj8WT1M/XWDCPuLZDT9UIQg/sKvoPtzTBD/cMCU/nVbyPnJ5Bj/33Q4/RM/9PhJlIT95eUw/DhMPP4hfJz8CZgY/nvbpPrJfFj9ynsI+PSbrPtRbOD8Y8TY/B10rPwmIPj9N8wE/ryYIP3zLAT8a+xM/l3sZPxbYEj9bFQI/tIIlP1fKPT/ngwA/rqMaP2kRQz9RSws/nfMTP98VFz9O7cM+AMXXPkiwMD+sETs//Tg6P+54sj5aUwQ/mn6vPqrrCT+9bxo/jZ4mP4w5Hj+UaQk/8sMbP3daKz9vU+s+P1hNP8TDAT87J8Y+khYSPwbNAj9oeSo/YKItP33wxz5MyiA/UK9QP/VU+D59b/s+ox72PlsaLj9WbAE/OnEaPzT1Hj+NB/4+mPjkPv3l3D7Dryk/NQwnPzSHUT+nVgo/N9siP8c6Ij8VMzE/43Y3P/4EFz90HhA/c28APxfOET/9Jjc/cYELP0KzDT+RIy0/v2EDP/eqQT+6swc/9EMAP5XfLz/3hgM/YdUPP/1nJT/Q40M/5FwyP7KkHD8mcQk/uBcPP+MY8D6fUhE/SLfWPoWkNT/liRs/VtsOP5T2CD8hF/g+ViYbP2/AAD9xXlQ/ucNKP1WRHD8yEfM+rekHP7P7Cj9caDc/pHz2Po36Ej9Ldh0//4QKP7QsCT9AyvM+Sz/XPo4VET/CJQo/V3k2P54bPT+46yg/2ujwPng8/j4iSxU/GEMgP2NjSD+PWfE+wfkSP3JyCj9hXQs/8RPsPqGhpT5MT00/2cIGP/bj4j740BQ/BVBEPw9NBD848RM/zEsOPy83Sz82+UE/t0XsPuJGPz/lKes+WTPwPkjrRj8SHSA/KnoqP20WMT8kviU/MS/tPo21Rz9cqUY/GRM4P0KwFT+JjU4/nXwcP118Gj/9vzA/laIJP9v4JT/oUOk+h5AhP8sU8z5NXAI/6usSP4wWGj8e5/k+BxMDP4l4ST8uXjI/VcPvPsjn9z7KXBI/CHSFPg+KAj8BSQE/3kIXP0Gx/z6AdOk+iD4GP4kF5D7YOwA//iYIP+Am4D6W4RE/HPQlP7ZpEj+3Pz0/fBwiPyVYOj9dSD8/ca9OP8f6/D6yJBo/e43hPqEUET8buAk/xNX2PgZyNj8Wazs/maYtPyBCCz/ysxQ/9m/qPs3rLT/SDwQ/V7QIP03GSD9kD+g+2rgnP3eFNz/0AtI+7TMWP7d3Iz9wJBM/bykDP0o9yD7hEjg/JegVP3ss5T6qtdI+zcg/P9IxFT+jfDc/yC4bP7zrHT/8BgM/3w8fP2MF/D6qsQY/JN4CPxxqSj/UPiU/2Hk/P+lkOT/L9Bk/Ry3wPqiXCT/ibTs/3wkGP6WVDj9lKvE+aNAEPyZCJD8HjSo/0RcKP7d45T7qQBw/vp4dP8RAPz8lQyo/10swP+mCAj+6uBY/nbo0P0bEWj/8bxs/wIi0PlzsEz9pXOc+zK4qP/2hLj9bQgo/+NEcP19jAT8DV9w+bwktPz8IQz/Q1i8/hNs+P4aIBj+aoY8+eQY4P7ypBT/P0VY/MyIoPw3ZoT5Teho/44/pPjmpDT/NrAE/DatAP4uDED9Imb4+2e0CP31XQT/e3Qc/3tTgPn1B5z7bsh8/+2MjPz9rED+8bFc/pgwBP3Q2Dz9gRj4/5G1AP4CoLD9UHu8+I2rrPsnkCz9xmBg/CNgFP2cqnz4Dk/8+IIwbP0EvMz82skI/gisIPyAW/D7kWhU/mc0bP+oa2D4bdwQ/83f6Pvdu8D5tjBA/t7kuP6f1ET9y1BI/6fvKPiVd8z4jqyY/FdIGP39OET+Yp9U+vIIgP6VS3D6OsiI/U04WP3urDD+cUNM+wdQkP2F99z78shs/bR1KP9S2BT9r7sM+pRI/P4kbHT9q0uU+aYUNP0bGHj9XsSM/3S4LP0eJOT/GQ6U+Ma87Px6oFD9JCfc+VgMDP2dZ+z5bkxw/Le4lP4YrGj+2gDc/jDVFP4mxFj94cSk/xyAYP9N7NT/bcQ8/lJoWP/GrGD8xiAQ/pRQEPw3V0T4NQAk/09XaPmda1D74q7s+7mMVP45qUT9x9iI/0EsIP+AgBz9O7Pw+JgMRP9vIPj/JixM/eH36Pv0O8j6Lqfw+APj2PmIQ5T6cYAU//ygfPx2cAz9Tn/c+cuAsPz6aCT/cIjs/M0tNP4e2RD8a/To/o2cdP5n1Pj+BXBQ/BKtWP89JFj9OtxU/fugZP2NABD/Gfgo/QKc8PxmnGj8TFz8/x4QSP55GUD/NgR4/oRckP1ezJz+HeuU+W2X9PmN4Pz8HKM4+sokuP3sPTz/GHTs/KTDWPuHOCT8zlSY/x0oFPwDnJj+lYTg/rAUAP7GA8z6dYRQ/Mfw0P1/HBz/bygw/wCQTP3GNyz7jsEo/FPoNP8VxCD85q1U/Y7ANP+DjMT+vXCE/L4+xPoEsFT84khQ/IYzdPla5MD9sjdk+WucbP7VEAj+00Sc//0NUP1JLGT+ksCQ/mFv6PuPFHz+hGTs/Wgg7P9ZbRj9eyQ4/8VQiP+EGFz8FGgI/mpvoPoULLT87jao+Vp8gP839GT9yklU/feTcPnQQEz8hDv0+NIYPP0DKEj/KSD8/FL3oPlVjRD+xxfM+SZgJPyDcTj/aPhw/WLUgP4afAD9F4og+e1IMP/rsKz/HhBo/lZQ+P+Qw+T6Sl+U+f3kCP55yRz82EeY+c6IBP8dTTD8jaTE/sQ7xPmI1AT+iokc/WD8cP4EF1D7zHkE/Z+kwP6gRHj8FiAY/xKgYP1sU7T4apA4/AGIAP8kl+T5F8gA/M9MXP4gYIz8YriI/s4XVPjnaDz+XCNM+URTXPvmrGj8zEhY/kcYGP0at/D4BGws/lbpHP9KQ4z79pwI/i9b9PpYEGT8JQ8M+A3cNP6HDIT9ii0M/E9HiPger6D60kws/u4VGP3gl7z66z9Y+YscjPyQyDD/qlhw/6QMAP2Np3j6FbAM/F1kJPxHyGT8jAQ4/TzxFP5UZ/D4Hqv0+CHHiPp/PMT//pws/q0jTPooTGT9V6RU/BiURP/Mq0z733xc/tMQYPzh/Fj9w5lI/hxIoPyKF7T4k8hw/o5cKP8YHCD/0Jy4/BmDyPlnwTj/R0/w+hNksP0yM9j75vAs//+EXP2yNQj9XwTE/IggVPzq2Gz9fauE+giQWP/EL+z5ZOUo/liQTP4zE0z7sTQk/BQr1PnL0RD9G3AA/DnJTP9OCND+lLgc/8kEVP5s6Jj/3Kw0/M5E6P46cGj/tif4+hp1JP2I5/T6wDBI/XKoBP+9IVT9YQwk/bM8LPym3OT9oLxg/ff0iPxZdBD/BI9Q+b4MSP1ttHT8rYxM/GhEXPw//4T5E6SI/52MvP3d4AT9t/Cc/q9keP0mHBj9bOwc/oKlFP+HB7T7NkAY/j7gYP+Su2D7Xek4/WL/UPm/ICj8mKlE/bbD2PiKb8D5DVgo/ukxNPz8tED9G8EM/dotDPzXeAj85gB0/QIA4P3fQCj/P2tg+WSEEP8s3Iz+SORo/8Q4IP8GMBT+ngQc/KJ0LPwVhpz59ZiI/0PEBP613AD9D9T4/OGHGPlNVQT5Qgy0/sUYlPw/TCD87qUE/XAJBP6SuKj/vzjU/WPILPwXuBD8YMrM+8Xg/PxX8yT6ITBo/L4QgPxLTnD7LNk8//BlKP6kcBT99EvU+gs4GP+K7GT8nEhs/ttACPwgXJD+yiEM/1bruPlMeND/B5Ac/CroSPxhaDj9Khz8/YOTePm2cDD/6sZo+0uTyPqbswz6v1e8++kUIPytVDz8CZA8/RDfDPnF33z4HRgs/DKkPP+1qDz91iwo/DUEAP6M/+D4YcTo/dVDvPjwVGz+nsR0/CkIJP9C9CD+fQxo/YdgNPwpeJT+/ryA/IgNIP+XYED9D+OE+3QMhP6Zg2T7NPMo+yQwnP/HJ9j6XHds+Kp0mPy+9IT/JxTs/zxwgP9mVJT+dx/o+OXwfP0qA4z6C2wk/uWxKP2LOMT+C9zM/TY0tP/cfFz9EDyA/jgoTP/B5Nz8IySg/qqgCPwzZNz8cYig/MhIPP8uM/D6gRs4+j0X4PryRVz+HaRU/bcNLP6YMKz/V00s/FKtFP1OQOT/dCPs+TgIhP6KmET9q1EQ/v6EhP6EbEj9cbhA/W08HP+FIDT+4dy4/1+33PtfQJj8sfD0/5ZAAP0J/FD9sotw+/eSuPv/4ID+5uTE/nlsTP2VOAD+erd0+uhZGP4bbTj/b1UI/WTM7Pzb7NT801EM/De0QP9tzlD4GURc/Pa8hP9HBFT834uo+OMEjP0HQBT+vlxw/SXwJPzMjNz/ZBSA/aA3/Pvl9VD8eMlI/eF1NP5pjDD+THj4/SHHUPlbR7z4eIe4+mMkCP8vfWT+bWDU/glPvPjh3JD8Hmh8/BGnRPvWrET+qFD4/kM4vP30TET+p/vM+LXAPP373KT9+rU0/i/3oPkzzzD4COC0/bCf6Pjm8Aj8uKyo/0eLiPiqwIz/o3tU+yA8IPwW0Ej+usFY/EhcFP4/vQj+NflU/qqrvPvsDJT8SK/E+RYbtPmHLHj9hFgg/rA8CP/6b2T5BGwI//E9EPzq/Pz/igTA/10YWP1ArMT83Lwc/K63ePsFcxz5b9EQ/8IAPP3P9CD9Jp94+5PYCP2VpTD9kBwg/sdofP0Sqxz6CKCk/A0ntPud2PT/DY0c/704sP4rXFD+9N0U/BqtBP4SaEz+wV0E/e2UgP+UCIz/gaSM/UC8eP1TR0T5z+vA+tMXmPpq8Fz/n1xc/c8hAP0zAAT8hWwg/8WMhP+u5OD8cpE8/FdkfPzmRHT9GTxo/BqQKPztk+D7PYc8+askPP+s+Pz85MSY/lOj9Pi7W/T5M4yU/014yP98cwD6siwM/DDpMP8waGj82kOE+SR40PxwDFz/BpNw+q6LwPu6dNz+n1AQ/O8sEP6KBMD/P0U8/FQk+PxfcDz/w4xI/GrESPz2cqz7TuRs/2xUTPx0mOz/50AI/hX0RP1OiCT+I9vI+s2lGP+D5Fz9uygw/zkRGPyU/Fz9mfv8+tNv0PuPHKD+4egc/xuPmPtn5Bj/Y/zw/rCYYP6KpGT/Htg8/OMYKP3WpDD88ufY+aWTePiQdDD+jQE0/wXchP7WGEj87Yy0/bc03P2obUz+H9RY/B4j/PlCmUT8maLQ+cG5CP4tmRz/MqxM/iNnzPlLqFT/tJhk/f+s5P2Hovj6FRh4/In2zPlMl/z7B89Y+nAj4PvOVSD/6nUs/lbwSP2m+Ez+H0OA+GrS6PgHGSD/EMRs/l3UWP2buLz/+NBY/524dP6SvKD+40fw+s8EgPxtbWD9cIQc/1YBDP5iEFj/5+Cs/pV8UP7FM8T6EPy8/64wpP5ePFD/2dEQ/dxIoP4pZHT8wcdI+bj/iPpFq2j5KP/U+B87EPjZCCD/DtxU/xqobP4quKj+BbPg+SfcgP9tFBT8cBCM/evU1P0OuHT9GNfE+Wz0qP0lQ9j5bKCA/DMzgPlMGKD+KHg8/7SQNP0WMtj5QWRM/zIYuP6rWRD9JtRg/7eEeP9ZNJD/+glc/eN4fP4/U9T54BOs+HFMZP1PdAT+yExE/KtPnPuc+Qz8kDw4/BxEaP3dDJj8uvRw/CToHP4s+Cj+Krxs/iLMPPwZ45z5lEqI+gtHFPqc+9j7DPOg+mSYGP9ItOz9eRe0+MtkFP+vbDD9bDzk/jU9PP+IEID/vzx8/4UVIP3bXNz/VnFE/qdgnP0rHLD9nsy0/RzRQP5V29D6lRUg/NN/xPq9xOj+5oQg/oRIUP6KYGD8fkzE/3pUPP1/TEz/q9A8/ZDT5Plm3Dj/8rvw+SJEMP9f6Mz+LRRQ/C3NBP95vCT+2pPA+8j4/P6dwRj8N1hQ/iY8GP1OcJj80bUg/BrgfP8eECD85eEc/lzn1PgIPzz430hs/TCwBP+tgBT+wjU0/Ka0PP/BD0T4w8sk+qj8FP9QKVj6fFCQ/2sgOP5vjJj++dwA/zrPnPpnTNj/Nx/E+qI0ePyTOTj/6JgY/9urvPqsVFz+RhlM/zRwcPxFOPz9mKg8/Ci1FP09K7T7Ho1Y/zYLSPvvhSD9rJxQ/95HwPrW8BT/V6wE/QMoTP1MLSz9sAgk/i+1HP2WIED8iHjs/PBP1PryU0j7q9wk/tMZAPzE/8T5FoSU/yqwcP1gdMD/bXA8/NexGP5zVET9eH1I/S40cPxCRMz/ltxU/N508Pz4dFD8l6zE/+gZJPyx2Hj9wsOs+hVohP2DjEz80TD8/Xu8cPxu/GD/lZzo/cW5UP1AqED8cIQk/YQxOPzwYCD8vZwI/Y7MUP5DYIz89yRw/6mryPgWwTj/Fz1A/O5oSP+AJMD8xKxw/ywIKPyjTBT+ayBA/OMIiPyvV8j6sHwY/adkSPyOgUz9QIgU/xPAgPxSs6D6OFhg/180aP7JPCT8V3fk+MwxBP3P18D57kS0/BClTP3beAD9WAUE/vAobPzVI8z6lVVE/EEwmP0MDID+rfO8+dOMhP+szHz969AI/OUa4PvKDEj+c+xc/d4M0P4jrMT8OyCs/BCYdP+TmID9NcTA/WWEcP6TiJT9pcwg/r7gKP8Xi8T7NMRc//xr/Pmb0Nz/9RhQ/Uz0AP6zVHj8sl94+SEcBP+nrOT9aF0Q/vQc9PzMfDj9kfDs/yFYaPzNqAj/tjeQ+kJnpPoknGz8/mQQ/3R5GP+hMJj/oS/g+SWIvP0jrMj8V7eI+F87YPvNFDz/LQQs/DwQzP9B1LT9WwtI+G3AaPx5pHD85W/k+VSAmP/RYSD+bxfo+bdnjPpF9ID9v9Qg/k/cLP2bdTT/kluc+2rIWP1sLBT8hYTI/faEOP1PKRD9N8EE/OGoqP+01CT/i9iE/b/YSP+D9ED9V7/o+fOxNP+rtuD44Y+g+XNgSP1+g7j5roRs/S5oBPys8/T6PZR0/IIYTP6JSMT/0gwg/LosWP9A4Fj/dcRM/GoTVPpKUQD/wstI+uyMDP4OyFz/h9ds+8QIhP6JKvz6Dcw4/zAoWP0yEHj9ilAA/5VsMPylcJT89a04/18rpPvOKIz93sAk/drgHPwN1zD4Nhuk+YbVHP5M5Nj9OeAI/e0QFP1vL/T7BAkE/xSYHP4yN7z5VIi8/ovMSP2zC3z4EJjs/zzkPP9q6DT+0q94+/X4NP/dMDT+2owI/+tcuP6+/6z4IRNs++2BKP16PHj8iXCQ/2nIIP28WHT+sOxo/4/MkP0pTmT6DYys/H5oRPwDcDz81bQE/XfxBP+h27T7px/U+vyzhPntnOj9rhS0/EE/ePraDzz5/kPU+vQExP63URD8gVOw+hEc/Pz2FGT9YbEA/OPzGPkFk1z4j2hs/THgKP1InOz/9SAI/J/cDPwHPHj8jrd0+BHQOP/TTQz+UCS8/j0/LPnBXUT8B9wQ/iyYIP16vzT5FfzQ/E35GP++j1j4k2yE/NB/bPsvYAz/prtc+mWcwP656GT8kCjY/GTITP2bF/D60bv8+FVc3PzcMSz+HF08/v27fPo9pCj9ycPI+6C8nPxZlRT9cdqg+Auf7PqmNJj8tdh8/ZXISPzRlNT+yWCI/NHwqP+OkOD8HhzI/noJCPxL5ED/QlCg/ExMNP1u+Cj+pNiU/hptDP8mQGD/ZmBw/jOblPv9K4j6PMwY/eZ0NP2px/T5ZFe0+AQMfP3O0Kj8tDRM/5L32PuuZGD+km1c/ofFBP8lrtj7cHyQ/8wcfP4Aq1T7MLRM/T3L0PkMPAz8KuBU/qVIiP2riNz84zwM/qn0PP0ulHj+12Q8/exgeP7JzQj8Oovc+hC0YP/pmFz9G6P4+SsxIP3E8DD+/hSQ/nKLaPjrCAz8BpjQ/8z0uP9hQ0z7aHEs/6KM1PzxeGD+Cwss+JAZJP8MdRj93WU4/b8QMP0az4z4il0g//pQ+P+14Rz8Krtw+/jRIP3djxz7AAVg/Y6gxP1710D6NR1U/N6scPwMGQz9SaR4/tqgYP3/5QT/GCRY/zW43P0G41z7PkAs/c+mQPtBD6D7Zq+A+CrQYP5W49D4v+zw/hhM5Pz4GKz+zXh0/AfHoPumWGz9oPMo+2CALP/9uED83+hQ/SM3XPvgYCT98H/M+CbTxPqAdAT+oAvk+IcwKP1F1Fz8c/0g/M6L9Ppj3PT8nlDA/iE8cP/ZDwD5/9RI/pNPYPqR6vj7lSj8/pLgZPzlwHz9PBhQ/99DLPmSUJT815Nc+9zgSP4gu2z53tA0/w7DvPnlbED+oDQ4/Noj8PropEj9gqP0+qfcBP+KtFT9BmAQ/OdRDP4iwGz8yEdg+f/EUP7HyID+gzSQ/jd4OP5M3Hj9KJyc/x6XGPmZiSj81qy8/IOspPx07BT/ouSY/pLgyP8AnUz85wks/g8IaP8oQ+z4N2Sk/1tQFP1MNED8mqVA/vbABP62RJz9crTs/UWzqPjR/+D6OBz0/xLIGPxIy6D6b9QI/JLURPyZu5D6H8kQ/vipMP901Jz9F+wA/TSMXP+w/Qz+1ViY/rCtPP364Nj/Yoj0/mX8iPxNt4T5jKDs/3kAaP5wkCD9ICg8/JSwHPxUmFD/bgR8/wMTkPrZfOj+4Lgw/kfciP6nuDz/z6O0+4tjfPuQbSz/IsE8/2/odP8tH/T6vGt0+HtwVP/xRnj4N9uQ+i4gpPz/2DT9qTg4/VmARP+zzqT6C2k0/oTf1PtfuHj/LsDg/n439PoSc4T4RpEw+vSwwPwjLMT9QhAA/lM4KPz//BT9yFAk/g1gRP6BhzD44jQM//08cPzf4+j7GLOs+c073PoXmHD/mB04/nIMqP+pPRD/urTw/47TMPi3J8D48rRw/UB4HPwSwTD/XvQo/eOY7P39s4j7ZcjU/aAf7PhKZIj+vYwg/bDgePzKlCT+ypBE/beC7PoJaHD/uAuw+YiEHP/Vv9D7hajM/Z17QPkp+GT/puA8/Fdz+PjNNCD9LDSM/8cboPgnrBj8Kvfw+d4MHP6qCMz7tCxA/TP9QP83B6j64x0g/9nMEP3EoAD/NDww/EwkEPw0oIT9D1Cg/dmpNP0d/KT+YbAM/lc7mPrLv7D5WQD8/2IzYPm8fDD/wpwc/fy4kP0TWuT5vbP8+Rk0cP+rNTz+esCA/Y/njPoUyEz/1byk/0gEHPx0d3T4rlhQ/GBumPuJwFz+QJ8g+qKPyPnNN7T4WQ0M/0yDNPspsBz/gwUA/Dtr6PrnxFz87Okc/fYkkP9BpHD8czgo/DG3lPrcnNz+gjU0/TW1SPyMJbT5ojiE/rDXZPgpFEz/fDxM/z+0oPyJIRj/t3E4/BplXP4sPMD9YAg8/LfxIPwSmBT/RqwE/dkwOP3ABHj/qrks/QM0iP4nmGz/ptp4+VrUNP9VWOD8diiM/2EAPP9QnCT9bKgE/hQMRP6tz5j4Z/Aw/2F2/PntnxT69jBE/glI4P6af0T5aRi8/N8QPP2+dFj8CagE/DBlPP40yRT9r9Ns+VtEYPx3vDj+WBt0+7kYRP1zN8j4yJVc/WWwUP0GZ6j5ofek+osYOPyCwAz+XuNo+5PEIP97MTz8+KCk/J8QVP970AT8dFyQ/VMU6P0l7MT+5Rgw/OjgrP9kPGT+9sDg/aeFPP2sIVz+StTA/OGs3P0hA6T6fnQk/oOoHPy7A3z6vbAM/1TXrPm4WDT/E/8U+p/QJP8wq/D7ung0/4roYP1tVOj8NAwk/7x72PknzOT92ITE//br5Pn5pET89Dcg+dRcUP8sE8z4dkA4/QgsAP0V6ED9/7s0++IcUP0JM/j4/GD0/CkowPxzfDD/BRvQ+Kf8OP+6WJz+aDk8/UZRVP3vGCT8IpUI/Z8xHP8gVWD9U4RA/SRcTP054Pz8Mshs/XTIOP0KhJD/QYQI/caAWP2KjAT8t2fY+jd4DPwUwED82Sgg/VXrSPrVuGD9TuO0+8VdNP6BWED9xvgY/QkceP1SpOz8MLRc/t4sCPyi6MT9rbgE/Vaf0Po8kKj9D0us+EgxLP6naBj+LFAw/ai7zPv2d5j5dxM8+RNPXPoylAj9MTjI/kxgTP23COj+tAu8+9ZY9Pzw5Gj8fkuc+2Gk7P+7nFz9l/Nw+ZX48P3WRKj8ZsOM+VAsQP5GOLT+BNSI/KvINPxIHJj/u00M/N8T5Puz+SD8R6A0//4USP8YDMj/gpww/hic3P3CBBT+kvxk/OrUwP1Tg+z706TI/jHToPiW0/z4HZTk/1eITP4O3CD8tJRs/xpAvPxTfNj/HHN8+Aa5LPwIx+j5Oo0Q/NSvpPo6bVz+2cdI++2YMP1+rEz8czlM/ydIVPyMWHT8wZxE/QKH0PrprCD9GFhU/8Nc0P2wmKj90bDc/7gYdP/bG/D71LlY/U1ImP5IoKT8iLTs/v1zGPpUP9z4I7wQ/1Q0CPwVtIT++zik/ceMHPwZ1/D5xywM/0MAXP0HTOT99Iws/zC0hPwimFz+NAwU/N26vPn5FFD/2LEU/N6HTPk5bHD8tMAs/f/0ZP9w6Fz9o/To/p9q8Pu5R7j7CtzQ/AMtSPz3FSz+iXw4/0k8IP5DgMD/zRzg/93ToPsi3DD9lvSQ/YhEgP37fLz9FFt0+vlXZPv+pFD9qZRs/pqpEP9Mk4T695zY/JPiSPmxF6j6+JAs/cfsnP2I89D5NMK4+4lc6PyFACj8ohwc/4EdNP8g0CD8OSyw/jUj0PhZKCT8YvOo+nPsNPzrXEz++sQE/+gsFP8/A8j6D4v0+ayUIPyMaHz+5kwE/tBjsPhX4Fj9ZpQg/XIYSPzLkJD9A+yU/LyQGPzO/4z5lvAU/3iwuPw6D8z4Hdxw/p8oRPwjILj8PuhU/5u8DPyDgHz+mYyU/EL3SPsHiIj/g3xo/B/4IP2esUT/bbho/bhUlP4PAED9NXNw+0B41P9jjBD89X+k+OeEPP3yG5T6ZDVA/EC4QP6GlJD+xhi0/BZISP/2vzj7SBgQ/FvDUPgCGGz8q8NI+h/lOPxWNAT/jqt8+s8H0PjVODz8UcqA+A0wDP8PNDD+AstI+LxoLPxaO1D7ztiA/hugoPyvnKT/gURY/Im8pP/KC4z6SgDg/MnHUPvhbBT80LUE/UuhOPzpnQD+yYhU/Aw1LPyyy8j7H8ww/fi4DP/R8Fz8KtQ0/0AgBPxeLIz/EAAY/UqRCP8xFJD94TCs/gy4IP0/HVD/f0wk/HCoqP8jL8j5ZuDY/NlIdP8TwQT9s9yc/LSwWP6pjsD4R2iI/GwMcP64c9T5F6/w+XTYyP2fuRz+g7C4/yJ/UPp0gJz/bmQ0/3mQGPwJuDz9pRyc/NgEDP22QRT826Rw/U4YIP0+MAz+6evY+FkRLPzwcSD+AzCw/7PAOP3xKDz9Enj4/A5QLP86rBj93mBc/KEIyP2NROD9+dhA/HxwCP7VmAT/lGvE+YxwZPwCxGD/efAw/TXnkPqwEJz9yAAc/BOg1PzEI+j6xRRM/RBREP3QyJD8lavw+vBrpPmRRUj9RCiQ/KpkWP5QQET96iSE/u44nP1ATPz/pjlc/hDgnPwQGxT5Tg+o+OSUYP+1vIT9yqUE/0xJQP0wZPT9uB/o+TOQ2P6Me6D4NeRA/n7EnP5WO6D5levg+YFIpP7JqGz/5HgE/U80LP4lpBz+2EBY/TP73Phy6Iz8OAh8/swukPs6fFD/xHCM/jabdPpE5Gj9OSiE/yggoP1vBLD8Y+dk+QKXHPqbjLT8eURY/B68bP4t41D4+xuw+q8wUP0inFT9ZkhU/LnQ6P3GpJD8qj/c+CJ0XP6a5BD+RjyY/WfTMPqnOEz9kd9g+jRcnPxooHD/xzy4/zIcKP7vtEz+Jwj0/+iNJP+a4Gz8ovUQ/3P71PhSnMj9g2SI/IVoxP0CLCj+Mj9Q+pGZFP3BeJj8CA/0+C5YQPwDWOD/N5fc+uAxLP+TTOj9gAAA/iiQHPy+gHD9niB8/C84HP/rNGD8yaho/2alAP+63Hj+4Cxc/H9MBP/t26D5F6Ds/ZR/5Ppr2FT+UmQ0/orEKP2/QDz8bVRo/AybyPrKtDj+T2BI/xLH3PsPVBj+njBw/vBoJPxRHAD+DgwI/htkGPzuKDz/1TU0/ABH0Pmf9Tj8ZZT4/5D0rP+Te+T7isug+53sdP70mMj9O18s+/RHqPjyW/j72uPs+a6IuP5wAOD+G0wE/NQYlP+TYCT8LAUY/4TPmPqifEz9FDA0/ywMxP2ajDz/pGgQ/IfkQP4ZoCD+pUxc/ZhEDP/AwAT+2yEA/dx3rPkRaBT+mFVA/dVQJPxTmGT82skI/iskTP9JAMj9wHPk+rCkmP7VfNz/IAQE/hML/Pv7vBT+yeD8/8kUKPzqHFD8L6qw+pugiPwpuAT9jewg/CLYRP3clCT8SOf4+K04MP3D+Cj+lbws/bENBP2FbEz+tuic/6b79Pk3oJT+2eA0/HJlXP13qCj8Rff4+ITTrPv0JEz/M7dk+yAY5P127RD8xyhU/XXYXP/wx2D7M9DY/n1ICP5O7Hj8Nltc+ZYYTP2BFDz/6y+8+gZQfP+LMAT9qLvk+NGUVP+NiAj+79z0/ri3pPqauOz8NqE8/Mf0ZP8JeGT9Kmgk/tOgUP1D4JT9zgjQ/ewstP4jgyj7C1sA+xnfcPoEGFj9X+xI/5Cs2P5/NBD+zBhs/wOkEP3/lsT77tzc/DHU6P3CTAj/NCyc/BH4JP24ADj8M5wM/X9UmPzvKQz8wa9o+lKL0PkZRED8dze0+leTmPnkKFT8TZpk+ErkMP1HpUz+aPvU+Is0xP6ocHT9gzA8/T3sKP1pvNT8tkSM/diIzPwv1FD+jxxk/KN4RP+PIHz/uwq0+59j1PgtcJT+aQQM/ekHiPnMUSz8/VwY/VKYdP/VEIz+DIhM/IzYKPz2jPD8MCEs/gwsgP1rlLz8WjPg+PJDOPnNa0z7KOxc/NJMfPy3D+z5KzPw+Dz8IP5667j4Pbjs/2udZP7Z3PD9/TgA/sxw5P5CJ5z4GJyU/f7zaPqoGID+LuPk+jxu8PjBjIT9slQw/v6Y9P/gjBj802RI/DZEUP16U/z64rAo/aR8LPyXDHz8GLS8/flsaP1RAHD8ViUM/Ic6iPhCgAj921xU/rJQfP65aJT9czwo/CiQ0P/RtKT+uaU0/El/jPlX2FT+7jAs/9UsjP0w+Pz+6BOE+uA4zP+m/Iz847TU/oh77PrTg1T7JPvo+IuzjPos6Pz9xV/w+a0NIP9OWSD+S8uA+0KayPiNNFD9mWAk/alMwP60QQz9Iggo/vHbRPmfg3j7nFTs/Wv7hPtoWLj+iskU/8DkUPyaZFD/FTxY/rYzEPmDyFT9SfS8/YbAgP8Ol2D7ITQM/Ym3rPuVS4z5dUfc+7Fc6P+zD0z6CVvc+mCIsPwXP2z7KxAs/SGQIPzgcSz91gkM/dycEP4Hk0D5xYiA/lEUDP68xGz8Waig//mAZP1rHtj7rbEo/SsxIP74ARj/BZhs/7GtHP+QVQT9t29Q+1Fs4P8hWET+bglI/9MMPPznw+T6bTQQ/SmfjPhnvSj8V7CQ/RhIJP3I7Kj8Mmdo+rusNP7ihVT/Cf+c+4g30Pv8LJz8Y8N4+MXDnPl0pPT/moA4/+HzjPhBv4D56MQQ/ra4TP16UJj9tChw/+xMdP8jxAD+huQw//v8EP1NOFz/Imy4/7yIRPzynCz/azBU/5+UiPxHYND/cMuA+Pjq4PlM6/z7OqeU+AEfWPk73Jz+kPBg/oJkSP/KDGz/8FCE/V0saPw3T6z4qtUc/+CYHP4OvCT//D/s+sYkCPxjq2j5BLTA/dBFLPzJIID+dl/4+GO9VP53n7z4o++I+AXfvPiRH7D4T0AI/fZsbP0neJD+YkS4/mAVIPzK1Bz+04UM/c2UiP9GbAD+fZT4/ZxI/P/1YEj8NET0/Jgw2P1Eb2z56TSs/HuUYP3+5GD/lLPI+4ppTP33dJj/AE0E/9H9DPzl9Fz8P8PA+8YL4PqBQDT/UyS4/jGcHP2yUHj8dKe0++1FKP3b+Gz/IOhc/VSg/P5bC5D61jx0/NmUXP/c9Bj+hbAQ/BYX+Pks2Rz/k7Dg/xuEbP+syAD8J0/k+bUYTP8ZvGz97HRw/ibj0PqaPTz9ufsw+90hFP0A2vD6xjgE/QR0wP8NYSz8W8hk/qa/PPkCmwT49Qeo+5+coP7Q1LD8XxxM/19IrP1quHT/Y8w4/oloPP4fWDj/EuhE/pN+9Po9PHT8pIBM/xEfSPp0dCD/KUvc+3WbdPqFFTT/YYTU/t544P3imKD/obqg+oiYiPw1THT8kC1A/60jrPpKRFD+Krj4/7x/hPpTJ/T4qa0M/BxUnP5uDNT/z1xg/36M9P8mn/j7nZA4/QAMQP1nIDz/ycwg/xiRJP2UOyT6C4zA/22s1P2j0Gj/KJwo/Q9g0P+IA0T4Fgys/dtBCPzdZSz8CkBs/ZjYvP7dzEz+YGaI+NXm4PlRsIz9iZwU/rHEcP6bQQj9pOeA+fhg8PzkfNT/GTOw+prH4PssKBT9GMx4/yV0SP+pJHz8iRt8+eMPxPrDM3T6hLvk+PsX6PoBWBD9dGPI+Z4wOP3ODBj9JAhg/1VH/PrF5Dz/tLig/tMsHPxzCGT+e+w4/0GvhPpTE1j51RQI/IgsYP8vPIz8dWyw/nTcAP54CRT8gWSk/7KErP6z4ET9P5wg/MGUJP5TVwj6F1aI+Tn1SPxTzGj+hrAQ/4ob9PnsIJj+h0EI/rYIkPwplDj9L6y8/ZaQLP9uRCT9CpxI/LAPqPsJs9T4z0Rs/ZFs4P2wkUT+Q+iM/lpoDP4202T4THjQ//JoZP+Sh9j5TAkg/tP0VP9ORGD/ChjU/GtH0Pie+gD7V5ic/TSALP7qFLT+sP0o//e8WP4pYKD/1HuE+uMYRP+4w8T6fQg4/Ppz2PsHYHj8XPB4/yINJP/fZBz8idw0/Da82PyR2GD8r/gg/mZbfPp/dTj8lRxc/+4sbPyJrSj+pBCw/eJLhPp9RJz9JkQA/Y9oYP1zjWD8mPUU/S0Y6P4Um5D7qL7w+Q0wbP+TlAj8DK0E/uaURPxjwED9DByU/+Oo0P/twNz/xxUk/6wMbP1wmHD+0pwg/XdoPP2oNDD9oEjk/nMIZP3zkID+Tndo+qaTtPuLlIz+Nfyc/xaTJPsvEJz/eDjY/seb9PmfryT6X4As/dgwJP1IDLT8CZEc/5TgyP7beVT9FrBo/ubMWP8F2Cz/+3iQ/ui5OP8P6QD8yasU+XQtPPxeaTj9Nqcc+NaAMP0QZNz9L++4+O1cMPwlO0z5Wcuo+H25APzs5GD/XWPU+pEYtPxCzJD+Dv/E+iD0aP9QLAj+x/Tw/VC4LP+99Dj+OgUQ/P+S/PuhTCD8dYQE/qN0AP3ND+D7dhds+VTkdPxBsvT4n3zQ/15PiPsOSBz+ltRU/l/z9PjgI+T5S0AU/diM7P3EsNz+Xmyk/wWwXP/pzDD8OZxQ/j2oKP7IxFD+AN90+SHHpPq+zCj+JtUc/OjssP0Ji0z7/ihQ//WX8PrekBT9uLgQ/Bb7vPrXb2T5NCyU/O54fP/TEsT6ndvg+KvYMP9bN+j5dfS0/0Jn9Pml4Lz9POAc/kzgGP8uEwz4PozY/KfMlPyZiNz/JPAM/V3UXP3H5Dj/seBY/QqcSP89xAj+OCEE/pVgxPypdHT+FeQ4/DssCPw+uHT9Wrio/tlMvP/ORHD/Drb0+xrYKP67olj4p5SU/3jlFP1yHDz9IwBU/jt8NP6Ir7D7JYwc/aR0fP+1tGz+I2z4/SBfzPqhUJz89vUI/j0n5PjRH0D5DZRg/SGACP81xCD/UPgc/VasMP5ijJz/Lx/c+sCUJPz+eLD9cFt4+q3QJP4WSKD+fDk8/DZHGPpPuIT+PWRA/flAeP6Dq3T5v+TA//EseP7XeBz+aoiA/JZD5PpvXxz6F9i8/JUDyPnNVBj99FyQ/CiIWP9l7Bz8OsyE/y7A4P5vWST9CU+I+EVshP7VgDz99Mdg+ZcsaP9bA5D6M/Ew/C37aPsKHED+93hA/l/onPxopJD+4TCU/e3zfPjl2DD+xBRU/H7MBP1lXMD8EQwI/+8nOPhYQBT9xiDA/uuNVP3IC8z66ZTE/h2IEP1Lawj6Uhwg/7HsOP93p6j5MC+c+SeAWP9nnHD9UyQY+uwlFP+hPGT/o2hk/VrIgPyATJj+LPwY/ijAMP97BED/MByM/uu09P+KE8z6LgAw/vLUKP6WkBD/QvlA/UMgIPwHyIz8I8RI/XmpGP4dWoz7VaFM/YHIzPz5lLz/IJzs/FcDZPqakIT++JSI/uPwdP8lDGz9fASc/lxwJPzhKET9pfwg/K6YKP/1YED/ku0A/XLQvPw5lPj9Q8hE/UiryPvgD7j7YeBQ/75ssP9ESKT/Q7Ik+GYsjPzmo+j72rw8/dgw9P4xJHT94IRI/ffHXPgQwBj/ozx8/iYAOPz7rMT8SIRI/Lp4GP8hXKz8+BA0/DlcBPzm39z7wzwo/FFDqPggn4j6tw94+rVmLPoY/2z5rdQo/4273PueiGD/P4RE/XCwHP5o9Aj//Yi8/K2cCP0msAz/R5FA/EAk/P4NM5T6nCuA+bAYHP0SQGj9DkXE+iuQqPxRpHj//eiM/UzQMP9OBBj8w4PY+XMz4PiiVDD/B29c+oDAXPwLZPT/s3iY/cMAdP0+g1j4/wlA/MIIqP8ijHj9LsQQ/j7lcP23FSD+3BhQ/IR4QP8qGtj4KWjc/9lwWP9OaIz+YZxE/VVUAP9Y1Tj9ZQCo/CJ0nP5bHPD/hNv0+Qgs+P2wBFz8fGQs/v+PlPi+YCj/FPw0/yMJIP9n86z7DySk/M+YiP1hOOz8E6RQ/XUQGP4K8ID+Juyw/fo25PkWiGT/sglA/ycktPw/68j5L8RM/OCnePlsLED/zyAg/0y4TP2G5RD/5bRA/pTceP2GaAz/IM/Y+HQBJP+xCVD9a/Ok+HtsdP5FJAT/h1Pg+UgpQP2Tp1j4Zx+Q+QNRDP+pqJT9ia+M+qikJP12Y/z7Xyx8/uwkLP6nNHz9t6xY/9Mr8PkAT+T4dOQ8/B4wNP7ILDT+JSj8/f2TqPjiHwz6TCbY+xefuPiVaLj/VtSw/OLIXP8tWyz57P80+4/8FP5nZGT9vIjM/e6DpPrXnKD/n3zA/sSkIP9nOHT/14+I+cHkOPwx3DD9RnT0//UYUP+er5j5T5EU/RHLYPg6PEz9IsrY+3sMHP9ayMz/9rDs/PP7CPs2tNT/HkSE/OaEjP9byGT+hmBg/E6IJP5bN9z5P1s8+UGoKP+7gIz8K1+Q+L9oPP0avHj/eTBw/cqzaPpZSCT9JKBs/BH7sPqpKBz+xkhY/ekokP0SsOT8kWCE/A5XSPqbzKj9TnhA/DsxLPwvuEz+Jnwk/oPQTPw37Gz/AnBA//BonP2NuDz/eRRU/loMqPwAhDT/RmNk+HQw+P4/AGT9HjQ4/3WsOPzk24z67VhQ/2s9WPw/G1D62mQs/x//fPvO4Cj8wHew+1TxFP4iH/j5/YQc/++VFP+IgKD8SBS0/26JVPxIcOD/r2T4/Yx0HP+gLEj/OCgM/azELP9fuMz9SCiQ/gtdOP+5vEz+wawY/0FT0Po5oOj93zgw/iPkGP4RL7D6C2iw/yj0/Pz9uED/hALQ+utBHPyRdBj8syQs/v8suP5ay9D6yUCo/fJDDPpmW8z7H+wA/el0dP0UsFD/T6Sg/9hESPyuaVz/0xhc/KLkSP+uquT5m3AY/bM41P9MSPz83mwU/con8PpO4PT/zfB0/w68gP5+g/j5qKyg/jFHdPgba7z5tqAY/SUc6P1qXKj/VPiQ/LkwhP2lqNz8nbUA/VzUTPw1hEj+rOAw/jcw6P1j+CD9GfTM/R6MLP09iAz8pPCw/Y8IKPz3S/T4qXDA/TVMgPxHlBD97zJ0+rbS9PsqRFj/41CU/Ty7ZPrqeCD9s1EQ/6s/tPsILEj+F8dY++/cTP1MEPT8EIj4/9GLNPoBjCz/cgkM/9fK2Pl9ZtT4AOdM+vzroPmG7Qj8ynQk/3BUkP55/FT8MVl4/MyYbPyQ9RT+Wmg0/UkDIPlPMST8BJhs/L6HjPhivKD/UPOk+ACRJP0tHGz+aMkY/QFYYP8vmCD/llFU/9tcYP+VvLD93OwY/AfYEP85XHD+EqCs/jPYXP3z3Az903iw//Q89P+yKGj/ATBM/xgPpPqqSGz/ynzA/pdEZP04dGz9UVeQ+0IhDP9ADGD/m6So/jU0nP7im/j5yWyU/AHlDP/Wq8D7JZ0I/BJMZP/P/7j7PCR4/c8EbP2ynNT/8qwg/KHUEP/iBDj+RNuc+ZlkVP+E9GT+wDe4+B1Q3P6rDPT/qlkg/nEIQPyjm9T4q7wA/fb3kPoky4z54tzw/nGdKP7bo5D5VkvI+YoIRP5Lf4z4oFx0/eqM2P1qjJz/oTUs/06QnP1i79D7pSBw/G1O1Pk5WFT88ICA/OpbmPgX1Fj+o/+g+Ii0hP5Yv/z7MnzY/+cv1PgZBID+Dqxg/zRzMPo4W6D5XqkQ/cMMRP8SxTj9KBew+r1U0P9J8HD9HS/0+uHk/P3o6UT//IfM+xVLdPkDIJj/A2C4/eNFCP90H5D7OSfw+LKwNPxrIHj9bKc4+qMrrPk88KD99bQ4/Ve4WP4maBz8F6yA/LpQWPyfqMD+gwg4/NLHNPj0ozz75uhI/NNobP1GVAz/8ghU/RLkxPxaJ9j6eOf0+JdwgPyusBz8Nwz0/haLNPqJo5j7c6vs+rTIJP5fmKj8HrBI//5gGP0T2Ej/4ZwE/8gHnPpFgLD9fDBg/AcP/PlKB3D68fuA+ZH/PPqmSAj9rMPU+UP8hP576Jz/rlAU/q1DvPqiyMj89HBY/9nwsP3C1PT9Ecks/0DwxPwoUFz8gXPI+5joKP9CrDj/JLSc/W9EeP8NSKz976A8/aGDfPll4LD9WgR0/jt5OP0mWLj+WlgE/UU8mP/noFj9z6jg/HnApPywn6T61VOw+fg3JPrsS0T6z4u4+86dJP77Z0z7DlgE/XfrhPjW7Cj9wVVU/vDUfP8FwDj81bRo/ZGMWP9VS3D6Ef+c+tBwFP9GcRD89qPs+bNwvP7co0z4hGyk/Pgb0PkV9IT9MZTE/FwfpPr7NMD97e08/7DxOP5LHBz/9zRc/7GNFPwwkFz/6gvA+Tro0P6mrKj8SLRQ/d0z8PhRoAj/mItk+tAZLPwjaCD8mvhk/10sIPxrURD+cpio/bN4BP9UnDT8C+RY/7wWbPmPaDT+tcig/yULmPoGvAT9orCA/SuvXPqUMPT+E2z4/xqsNP/ChDD/3QDA/IzsvP69rHz/nKw4/xD0QP+CG+T5Sbjc/uLwHPyInnj5voTg/iLHDPkZqRj9Obws/XLcQP+UCKj8IzeY+nBsiP1TbLz/af1I/95AaP4hcCD+OCR8/OP06P3jEOD8kYiI/cbIrPyduCD+VrAQ/RVTNPkFbxT61ZTU/jr4IP3pR6T568gI/SLkxP3+8sj78AyA/fJRIP2lBOz8goAc/+dIZPgAFMj9PzAY/P2TzPvYxLT/K3BI/jo8UP56MJz9BGkI/qQY9P04NTz/3ckA/VUwxP16U4D4IaAQ/1MERP/1WQT+8j1c/YKzvPrV75T5XojU/lMr6PjMUJj+By8U+MLYcP8YOOT9CEfc+h7EdP55I0z5KEiU/uusSPxRyTj84Qxs/w5PZPn3n+z6tfBE/CkfZPgvcHT+q8/k+fyYlP4Gu4T5+YuY+WDoHPwX+Gz8M0Q4/QQG7PjGf2T42GB8/njohP5WkNT9cRS8/Nn0uP1EXKT8gpxI/xHLfPu5OGT9j9wo/86ziPlK1MD+h2T4/BqgkP0LoCD+Uyu0+Dx+6PmXksT7DTlg/CZlXP6SWUT+/DCk/4mEXP8dPAT86cEk/oYP8Pq0KMD8ZN/k+ovgVP0RFKj/Alww/zMJPPz9x1T5IhzU/ovL8PnNzUT+RZjQ/sWwKP6OMNT9zxR8/yf/TPY02Fj/VNUc/DrI8P/JeEj/FFSE/8eonP6q/UD9zNfA+nOc3P4fI9j77Ahk/93EBPzRuBz90TCs/RV8HP0qtMT/hG/0+NuocP8dV2z5/Qhc/CP8MP3hR1z5fWQM/hs8EPz+ACT/tz/Q+5nJLP6TERT+pdgQ/GaseP+xe3D5JD88+28xNP8BnST8J61Q/6cVKP9giST/MNwY/eOQRP6SmBT/kpuU+N3IIP2+IED9huPQ+U4v5PolbRj9CBtg+I/XdPr0PTz9j4R4/5Z7uPiGECj/hHt4+UWD1PlKZ2D55Ov4+ZUoEP/W0AD8S8As/rBclP93aAD8sBSQ/YhkOP+BuRT9NgfM+9Uf0PuW8Aj9L1fw+GfQiP2wkDz//NUA/XU4UP3RkOT8KvuY+1a9AP+xJVT/0Qh0/HcdAP4C4Ej9hOgQ/oqlBPyluNT/fSD8/AtwSPw9m/T7spxY/cocfP/UfCz+SKSY/s7sSPzU6Fj9IBhw/AnNHP8AYDT+T3SY/HxcFP84QQz+Arwo/WZIdP2CFAD9jjC8/fILiPs8/LD9XZkk/tC7QPj4lKj8LrhQ/iSayPnmgFz8zhgY/7HTjPpNl3z7YURA//Q4QP3wiFD+Tetg+M0caPzL+DT8GA90+fPAZP+67yj52nCw/nSI7P0o2ET+bgd8+WEInP9hYHD90VCY/j7M7P9K9TT/Fcyw/c5D1Ph71Fj+J6Qw/0xv1PkbsKT/R5CA/ouhXP6xSLj9mlwo/h2sGP/CWBz8ahiY/tvsIPz3J0T6q0/E+CFP8Pt1q8T4sVQI/A7EYP3Rn/j7EFj8/P9wgP1T6QT/2ghk/+WNSPw+cEz8CPfk+f000Pw4UCD+aHSA/tQbfPmiXwT76wj0/YuAqP6DBIT9H2Cs/3KXWPvZNIT/gDdQ+KogeP3VhGD+Qj+g+aGEHPxIgBz/8IxE/eHb+PsCuMD+Dw0g/m6kRP3v0FT+S0eo+DygGPynNuT7aQz8/H2/+PomKDz8N3SA/oGchP7VgIT/HsrM+g6PBPoafwj5uESY/JZYkPwrOGj8zPOw+TOwBP3pFLz8t/QM/k+cRP4B/+z7livc+CNRLP48TRD+WcDA/qxIAP8OW8T4wni8/JPb3Ptas9z7URxU/rw3iPiQq5z7baAc/cTkoPwHzPj9fPwU/MYUMP8HyRD/hyTs/HIn8PnnRMD90ALQ+KzznPgJRID+KhxA/8X4pP6Vb7z6tNiY/V9wCP39e8D4jFSo/p74KPwDCET+u8QM/+8YCP2OCCz9XsRo/gfflPvmx2T4p4hE/2m4wP6c8DT/NqSc/72pDP6UnCT9exvs+1LNIPw6fCT8FdQQ/riHjPoU03j6HsUc/0PbWPm5g/z5g3A4/9D7/PrIyRj/lab4+Z/HdPqNlFD/OpSI/ru/rPk00/D4YVwI/HNs+P/EaBD9xEfg+vN/mPtoaHz9n2hk/TSkNP9GP3D5g7/I+QWAmP6D6GT/HMvY+Cr/PPnW7AT9jHjQ/9XIHP6ShPj+RFis/5edPPxoYDz+KAz0/8zgSP6jE/D4H/wE/3SZDPw9EIT+oFhk/nHUnP6+/Ej+BRgM/9VsUPxo/Ij+3+yc/baLBPlx7ED/Y9RE/iPHMPhZ+Aj8eCA4/pjMAP5RP5j57CRI/iRnbPt6VOj+Yhvo+wb85P1Cp/T5ZQuo+ERYXP2gLBD8blfs+R+gNP/195j6YaTY/gYsLP9XzFD+aowA/OCf1PgP5Gj+jseY+Gr8RP4STDD8VpSg/zaoZP+mVcz6blBA/S9UxPzCpAT87Wx0/pJXkPr0FPT/mby0/LGVKP3wJDT+XOhg/3bnyPlRjCD+ylFA/bFPwPtVBQT8WDM8+QAkIP+K4+T4p00w/PckWPwAKEz9W5RM/JLtAPzAZND/riRY/+gsYP+8b2T5javs+bjdSP7JJ6D6G8Ro/DvshPwCZKD88akA/ZGUIP8TY4z4ldv0+Vd4aP+ChNT+YVQA/kWKdPoQLCD+qDR4/cEsjP7zaLj/ooAE/tik3P8K7ST+toyk/WOtXP7r9Gz8TDRQ/cPc8P17FKz9+akA/mUwaPwyJGz+VYRY//00AP+TcKz93x64+BDzrPgR6DD8EKwc/nG4AP+B18j6jkQw/CH0IP0PrLz+dxgY/ejz2Pl//+T7Zvvc+wBNLP+fFST8vkRs/WoI7Pwe1Gz9lPBA/S0kLPx9yMD+niRM/AvYUP3HXLj8ehPY+Wa/9Pp05Cz/oEcg+l3ZDP/FqGT/MQwk/QcEXP2Lb1j6Urg0//IvNPqBNCD98oyc/xtLGPonnBz/QqUs/5i4SP0txIT+uLRA/QycPP10HLT+YlRA/fav/PtVMLD+ocEA/D7AFPxNVGz9Hoy4/fmxFP/7+Dz8L0eg+Li3ZPmzP9D4pdJQ+CCcFP7v4OT/B7So/T7gLP1GZzD6N3iQ/BnAIPyRlST8qmRA/tIuTPqPADD9fYvk+tPYOP7Bj6D78biw/9MVIPz8tnj7JjCM/3PsKP3jLMT8+wQQ/WeQBP70x+j4Fog0/6W4xP/EHOT9NpuU+nmkMP2XcJT8DvAA/pLHXPiuM5j61pPc+xecCP6XzNj99TiE/oI1NP7KaEj/duuA+jqJPP7CZCD+cbfU+Cx4RP/Xzwj6yiiE/ot0jP0CN9T5C8iI/p4EdP/BuRT/SURU/JwYYP4CxGz/E+yE/npAOP9ThHT/fgCM/X6s9P8QYGT+5jRE/zJ4vP/z7CD9YxRY/RU5BP99bOD9bvAg//V8DP6wCFz/nqgw/hzJHPy+sDz90hAI/F6oVPxpYTT/xL/Y+NislPyQSHj/9VgQ/lcjMPnnLDD8WZUo/rFkYPxIoEz+8ChE/HOv+PtN9JT82Sf0+kUWEPbLKMT95YhA/eYz/PvttQD/O5Pg+EEEsP4ygTD8Iaf8+AoMFPziNKj/OqNU+x1fyPhweIT82GQU//lfTPi/WDD8itQs/0Co2P+cV+j7lHzY/PcoZPxTzCj84rhI/7uyvPgiZQz99Egs/YXQdP/O+UD9niRU/tShFPwYXHj8ytBg/o9YYP8nq/D7PPyQ/EGw3P4rPED9+Q+Y+fechP0rmGz/a7kE/tEYpP1eX6z7dKRA/6YsGPxzxBz8fa/E+dP7zPoxeMj/5VvM+v6sPPziw+z5hS00/5ERDP7ELKT+spBc/cvm2PuHTGD9l3/E+rb/RPrGf/z5yYyI/tHIdP0xN5T5u/hQ/l/rkPpt9Gz8f3y8/h80TP1esQj9xGBI/43UJP6abFD95ClA/MHcxPwUyOD9q6zk/KLVQPwlkRD9WfzI/bAo8P8l+Ij95UUE//IoHP1WwEj8eiCM/qjwVPw5QRD9N99E+bHoEP7fn/D5kzCI/glMBPwYpDz8Hajs/cAUdP6de7T6zJhA/60n+PohGOz/P1EQ/yEwNP03RRD96gRw/QwgOP5soSz8l9Bc/uzQDP/t8GD8fcsk+kQHnPpiu+T57sE4/PhEDP2q1Aj8+gOo+//31PnYFMj9yb7s+xFwtP20M8T6no/M+ysUGP0kPqD4mgtg+t4YMP4qTzD436sA+zikUP5FwED+dVus+TI5NP9vd2j6aEfo+WtQhP66V2D4XnSk/3FQUP6scSz+4MQU/zd8uP/kOFz9oSQA/im3TPnT/+T4UDxk/rwgWP+EeCj8GS7k+X3EMP1LFHz8TvfM+V5XKPthT5D5vK0k/f6NPP89lyD7itBA/YboYP/PQQj8vmx8/AkIfP1jsED+JshA/tBfdPkSPNj+LzQ8/EXUwP6qXCD8DZT4/Pqf9PgkKAT+ACBE/cjoVPyQOIj/B8/I+9DpWP6XXHz/h0C8/p2wBP/cpIj+6sgs/CysAP529QD+psC4/zBsKP0ZdEj9IWNw+pHICP4NvBD/Et0Q/bYoMPyP1xD43bgM/DWUaPzGZAD/k60Y/s5P3Plh8HD8d6zo/6GwRP75ZLT94Eu8+yND0PhGLSD+UeEM/1gYKP7mnrD56agc/Pe0JP8xwTz/A2gE/Z9oiP1dWAD+Iqkg/bVLQPp4sKj86bKk+wCUMP2lOQD+1qOQ+2DvqPqz0Pj/JQio/VIgMPzr6AD82FAg/33XzPtZvDT/raAQ/zXgdPxqqBj8q/Rk/wT0aPwc3JT+PqBs/u+/hPiDHAj9wZRQ/jQUyP7KGGD+3SyI/bGtKP9LtWT73DBU//hUcP/+3Fj/BEwk/257hPvRsDz+yCPE+PeggP8gO9j5K8AM/qyQIP/Q6Az8uWwQ/E0QKPw4KuD5hLOo+8Nf6PhglDT8JGgs/PzvyPp7cBD9RBwM/028jP5puIz/Q/Po+Vmo7P1LI6T4ACwk/HSTxPoTy1D5CxBU/clMLPx3T5D6gaOk+KT1DPyzhKj/o1jQ/WcdLP8LXCz8+Gic/r/f9Pp8LIT/T5Dk/8cM9P1SkUT9QQU0/3iEbP/4q3T7Y5hw/XTsQPwC1Mj9pvCw/WIgTP6IODj97sgo/QNYiP04OBT+0lhY//0wQPxDAKD+5rDA/z/0lPzVgOD8Aj00/LsLQPgwpJj/NBAw/OTxFPyEr8j6KSa0+SaELPzO/8j7/3gs/+Z89P710rj6gqkQ/jlcFP3ohCj/CzNw+gWD5PoySEz87Zxk/ug7qPlxBTT/KvwQ//KwDP990GT8kgvc+3NkIP3EeND9L6Qw/HgQYP6aCDT99Lx0/G2b5PhBlBz9e5DI/+XhDP0v5Fz/aTzg/fo4NPxNx9j7wN/o+x5kcP5qiGD/wfxo/0eHPPkVQTj85Zz4/3JUjP+jtDT+qREM/H/IXPzXGAj/WmQU/Vyc4P1/uyT44t9o++j/6Pg/K0z63HQc/fccaP1gELD+VOzc/NjoeP8UD5D7O9xo/5UowP5w7/T6vNeU+0I4zP+V2ET9/JUk/N1cJP+RqSj/pEvw+Wc7rPs7bGD8dHDc/hhLTPpUH6T7NijA/TOMfP/yNQz/z8CM/kfMKP4OPLj+wgRM/+XY1P9ziCD/OFiE/qwAEP0eOxD6vjyg/3czhPvOoGz/u1N0+gcwoP8wYMD9PfBw/xqAWP2WrRT8WuCs/HWsQP0f1Hj+FtAw/Wx8hP5HsKT9cgwI/+L4/P2D9Oj+btgE/9qwnPzrq/T7wNxM/wn4sP3dnqD4hmRQ/WWRHP9RhFT+syOQ++RsCP0G3GD/4vwk/pLb9Pk+/6j5WVww/Iyn5PuOhET+5EPA+z7IRPxd9BD+byfE+DPw1P51w7z4vHzg/GLtCPyFlGT9yAgY/KSxBPzOwID/boQs/H4PQPqrlJD9WBzk/2IoMPwAYIT+tqd8+r4oBP16PKD/cURU/FDQUPzPbAz+6NBM/XGI+P03R5z6mNBA/1ftMPznTJj9Kgvw+pzkrPyzOET8RHD8/OUn2PsOvxT4ECLs+1NUqPxIZ6T5eLM8+OaoFP0lICz/o3w8/eEztPoykTj/hXTg/GLTYPssUEz+/q0Y/7zxFP6pYID9H8vY+SvjpPvYwQT9nVNQ+I8/sPlmk3j7seb4+R9E0P48CST/OmvQ+Ow8QP0HSQj84dlM/NFdJP0s1zz7KQCI/VfcXP/1XIT+1xkk/SR0JP6d68D7vOQg/vd45P+kCMj8Cwg4/+I/oPj+WVz799yk/E48QPwsZGT/HTwE/ONQjP2a6Kj9r6gU/9nQcP17h4j7hxRU/uUkkPyzzHD/SV00/AXwHP2T1ED+xKFU/Z7AjP0HWGj9pfLI+AEs/P+jTQD/wMiU/A207PzWMDT/4iFE/yrEGP/SXJT9fVzc/f2IJPydKAT8OseY+8JggP8CQHD89sjA/SAgdP2tmBj8sFAM/Egw3PypWJz+/jxg/GlYnP4EoDT+E5g4/lZX3PrYKTz9ZSBs/zTK/Pv/KMT+42KQ+ECkOPw6LAT8COCQ/nwTgPhW8Ej/7lCw/9JIWP4jUED+3dhY/c6EuP/FVlj6u0PQ+l+L3PjQqIz9sqzA/jiMNP3xHKz/Mb0o/TcRLP2dISD8v9Bg/+gpLP7cMGz/dwvI+bb5LPyltEj9x4hM/R9fwPgwMzD6LIEk/5zUKP3J4HT8yXTA/0S4TP06vLj9+Pks/vGgFP8KjGz+PaTA/NcIiP8JFPz+4PEM/6VA/P8YPCj9d2FI/KtPfPny0Hj8Heu0+6HcJP2bj+T7yirM+5SA6P0epFD9BshM/DMgKP+5O3j6apww/gWwyP8fqKT8mLd8+QshJP7152z6zXSQ/h5oPP9XACD967dE+ivlZP81W9T5/VBU/qAwUPzSW3z55XxU/p6n1Pqqp4z4bbdg+OsoxP3e6Qz85ai0/93L6PqJ7+D76Xxg/4QoWP/SxRj9QADk/HrbRPh2iAz+WDio/zdq2PvrOpj7avic/kocLP9KBJz/bTdk+DdLxPqE4Qz+f0Q4/72T1PvxvSj+TKCQ/0GopPwWKQz8WA8s+2lYJP9cCBz81QNU+7eAsP5TQFT/dHeU+YmAhP5e0CT/PRiQ/x3wBP12HFD95fTA/7VrVPn0I9j43KCQ/uIUSP1Fe3T6lyiw/MqLJPjAC1j5fHjQ/Rj02P/cj7z41OO8+bPVRP8Yi+j4LWVE/6cxPP9swDj8+OS0/vvMpP/mZCT9fgeE+B6ZCP4OyDz9kngs/gQ70PpEECT/j+AQ/jVkaP+KC7T6wTRs/9TMTP+NBJT82BRI/VaAaPzO7Sz/Qqz0/+FJXP69k4j4QVQk/RQwjP4jVET+oL1M/tWwUP8ikKz8HIvk+9GMCPx6tPD92Otc+tRTuPoUEJz90Sj8/hEX2PuJZDj+/cg4/SNcNP2mFDT9k3D4/9X0VP7gc7T7QzQY/IiYhP4WnKj9auAk/jq08P9C4sD66xiQ/++DFPsujHD+OkxY/VWBKP/mNLT8SUBg/ikWvPu93Qz8DIe8+vacRP86oAz8wBUg/hwv1Pqnp+z6sCf0+c1olP83iTT/ZMsA+dVcIPwgdND+H0Qg/H6Q1Pyw1Rz/vego/DpEVP3nPDj8v/8g+wZ/0PjI5CT/ckBg/lA3bPvupID8KvK0+W5jKPuDj7z7DEgo/KiI7P1/qtj5LWE0/d4ULP+KT2T6qMyQ/FqHePurOCT/NwiM/hD3JPjgVIT+IOhU/T9r+PiSZQT/56Qk/uYI7P8aiMD/CsRY/4E4hP8AE/j4Box0/YKAvPyzd+T7yIVg/l6r/PgcmAD/S0Ew/Z9EHP3fMVT9c9Nw+y3UlP0sbSz/yKCI/T+2lPmRq8D5NVzM/oxkoP2gtCz9Khj0/zgI8PwQr9j64PkI/VjsTP9gWBz812CQ/73VDP15gNT8wjis/E2kDP40cLz9fl/Y+M8gEP46VJT5SkjU/ikMOP3uSGD83wNU+sSNBP/xU6D7YTzI/VewLP65I5z6hJwY/OXnnPqG08T5OSRU//9MrP6kaCT8QSxo/YFUbPxvr8T4YNCM/OlU4P/Jd9z7eiAc/O45OP88OIj/OXwY/nw4sPxtpTz+hLfg+dQoLP21MKz+Tgrg+i0QUP0OYBz8S8/k+BAUiP77VDD+jKOw+3JoXP9ERRj+JsSc/6cwLP8R3Dz+umTc/pwLNPlhjDj9nozE/CWNHP6otET/U7As/BrXjPlbfLD++LwU/R1QgP4q1Rz9UieI+pDXgPkqyFD9qOQ0/gUcMP3UbUD9LJuA+ueAFP07rHz/xN7o+bHgJP1W4uz6hvRE/3eoxPzCZMj9Iajo/y5ANPyejTD91E94+rAsaPyT5Jz/JsBs/YuwePmZmAT+a9RE/DDPlPpre6D4DBT0/Ju4nP5epUz+z1wQ/xukqPybFKz9Pevo+i/EcP6PRHj8sLQ0/CmzfPv/SGT/z4tg+i+0VPzQw5D5kLiE/m//tPgzOBT9UphA/AY45P2xf/T6G1R8/cn04P+K77z69Bxk/5j4aPzxl1T5kc+0++vXgPtdyMD8IKRY/ubfdPlJF3z4UZTk/aU3vPiVoQD+kqxI/ATahPoOXET9FrQE/X+UhP01SAT/71AA/y2TrPu5VOD9LNC8/Q+H/PgJiUD/4jFM/KfbQPlLIDz+zKek+dQkEP8yn5D5x7fs+IHcnP6IjJT/57Dk/VPEHP2cruD7OXRs/zNj/PvM+Pz+63B0/SGMIP2+bCz+uQgE/iIwkPwDMFT8jw9g+3c41PyUx3j4yKOk+88LdPo9/Iz8AGww/3WxMP/Gb+T7R8+k+XUc2P0pSDz+oL98+itskP8DxAj8QswY//m8pP22ZBD8BhFY/5twMP+CsNz8IgBE/ojUkP+GDIz/ikwA/HqYhP5q1Dz9K2h0/IN4NP2SqRD9wCcc+UZwGP2jPTz/3HQE/28D2PmkdBz+BwSM/t30PP0uXAj9BU/0+ovI2PxLaEj8GSUo/suURP02DCj/kDSY/HyclP+H4Cz9D6jc/C7tMP7hHKj8YVwE/v8vUPnTRHT85zPs+zFoAP1tIDT8N0hU/4f4fP9U0AT/e5iE/6ePCPqKUzz6BAEY/eU7YPkB+3D6Z8Fc/9dEGP+Qf/T5ML+A+zr0EP3NxHz9jcvY+TpjqPhhqET9aXTI/s9LhPj5eSj8KMwA/kiQcPyTEJz/P6AY/7NICPw2iLj+GSvU+kmWTPr46ST+vFgA/e7AeP4Fh4z46cQI/Z2oCP30ABz/Addw++WsmPzUvDT+dNQs/i+0qP4ypGT+z7+4+QwFCP+qADj9FI+w+l5cvP6TNPz9q6Q8/xMUEP/8eDj918UE/HF8KP3OF8D59Rg8/HakSP1lpMD9kowM/cG43P9sG+z5r39c+JDdLPwfnMz9ElRQ/NPcUP8s6Rz+DLhc/9BkqP0OEGD9cgw0/ln4AP+uxKT9AWco+a53CPsuBDD+0LAg/fD7iPlg5/D5pJfM+o9AgP1qrGD8YTw8/fY7DPnbLLT/oOlQ/aS76Pu8lHz/d2hc/VOHvPmCR3D4vlxc/VAoCP/bg8D76oBk/fSLjPqytDj/EgTA/Hs4gP35fCT/3yTs/VucMP/mmFz9bDSM/qNHhPr2FFT9vL+E+KtwVP7xKKD8bjPg+nL3aPidAPz9WJ/w+Bb8eP+pmRz87/dE+iYMGP5e+ET8lDgY/2f8fPyuK6z645xk/5RIEP7mSJT9R1OM+N5IMP8/nJj/hESE/ghbdPtFM6T6U0tM+/TkQPyg3Sz+7+Sc/i68MP6uKBj+7cww/e/1JP7AhET8KWAg/hS/cPrO2Mj/nrkM/KRz4PrwsDD/tzzU/aJZIPy9dMj8bUtM+1usbP4cbOz/B/ik/DyH1PskACj9ybgU/JXLZPt80Ez9pNjM/UlEuPz3oNj9/aSg/BhTrPilmIT8mKBA/sKQHP/k92D7o4z0/i8NIP/ghLT8ZIAA/EMocP1WC0z6f1gw/o8gxP8A6KT/gUyA/BbnnPiGSED+hsBM/n1YAP3m78D47Rfo+lycIP3AUSz+TJN0+AAQPP51KHj9VixI/QHrZPp3CRT8Dzuw+UI4KP8yfTj/VVRk/S3MHP3ZiFj/ivrM+orzuPj4A8j75G04/PDYRPxXkGz8mfVE/jrBCPyqs+D4VHyw/wN44P+GzHD9WaUs/nQQfP908zj6uThA/vWzePkbGPT/qXgg/PNwQP/Nw1T7VP/k+spQUP1jKFT/zRS8/emHePkk6Hz/hBB0/PG8TP6UbRj8eVw4/RCMSP5o+BD/vujo/he8SPw+JCT/ytTA/OzgCP6zr9T6gXAQ/ASEKP1saEj97gjE/01gvP8ZLEj/T2xo//GoMP+V3Az9acyI/tU4hP3hgLz947Ag/lpcgPyGZVz/i3Pw+MscSP4z/DD+rzfk+izVHPzSfFj9JGRY/B2YrP6s/9D5+lT0/0BMSP4HMnz74PhE/ZeooP+sCAz/6VkE/YoIRP4bUEj+n7Q0/VDNGP0TKJD/LHeU+4oY4P3xxMD8W8xg/ER4jP3Tj8z7PIT0/pHYgPxo+3j7vrhU/5ZMgP7u5zD6zMOQ+/ohDP5eqFj9RVTw/lZA1PxM98T46XvE+1kYHP7k2Rz9C1hI//7MMPx7v9D7muis/yBQ+P0xQ5T78uDQ/OyobPw1gFT9kh+A+k3JMP5Ht0T5P/Do/yfzqPk1fJT8mvf8+pmAXP6PK5z7N7Cg/l68DP+hQJz/DoQ4/UIg7P1gsKj/MAbI+dZhIP/jR5z6Qyxk/QXz+PqkATT9fI/Y+AWQeP6hIHj9GyQ8/48oiP35f5z7Z4MI+/ObUPlxFjz7D2P4+I+HyPol9Hz8kw0Q/F6YUP8ILCz9LQSc/bkYDPzymDT8dQgw/fnBVPzHsVz/9XzI/owYIP+ioRD/UFb4+bo8pP5u6Cj/ggBA/S1vzPhq7Ij+YqkE/CvInPw52Oz9Gdv8+BUYSP+/XEj/qdfs+RYFYP820Hj8qtu0+brALP7MPBD/KzjU/augiP8VFQD8WfBA/+XTsPnstvj4IMhA/wKNPPwpn3z7kkvA+JTL+PgtORD9wjgA/r5lXP3WQCT/hSus+l5nKPrgOBD/wyRM/8YMMP4PTMD89qiM/Z3c4Py9/Pj9acTM//3vWPsCvKz/tCgA/uG7xPjLU6z7dQhg/yCZFP1/9Lz9QakY/sw/qPmRAPz+5qRo/Paa4PuK0Fj9+eus+SIs2PzixAj8cpeI+tjRWP7wzkT4UWSg/EB4PP4KaAz/t7u0+tokRP46gPT8g6MQ+x/4NP21I7D6aVCk/YPYBPymSNz/V8gw/uUsBPzusBz+mOzQ/tU/vPs8M8T7BCGY+vT3QPsDEUD97rvE+7Pc9P9GB/D69wTI/JPMFP0syGD8VyzE/abA+PwhxOz/e/jU/A7niPglgGj8L+QE/N10wP5MCFT96Pz8/It/wPriKBj+wzx8/CKIpP+yOCD8NdQw/vSQuP5lL+z5EeeM+81n1PhkKJT/iJRQ/DboNP7N5ET/LlRU/8C0iPwGiJz+tNx4/Yf9LP+YXID8gah0/v/fFPja2ND8/Vzc/e7ouP4AZPD9t8SQ/D9sSP3viDT8rNhc/4GL6Pg5dBD9veBw/BthSPxOtyD4dK/g+WZQSPxtj8D4ORMw+o57yPsHADz8hcks/GIQGPw9lFj/o3U4/Qkk+P38Ejz6yOkc/c3jYPiZ/8T6ttA4/QqoMP2kZDj/MAyY/DOX5Ponx5j7MS9M+ZlrkPlUgMT/quiQ/iIsOPzQG2T4iJdg+R1XiPkI+yD7EbwE/ZkEPPz+1Bz8J4P8+2zNFP2Nbvj7icSw/gRQzPyMi8z6aRhQ/hSY7Pz0IGT8tZEU/+5VUP2Vj6D4R8ks/EjDzPjeSUj+r+0g/KmDcPlk7KD+SGRY/SRAyP85LKj9pjgM//0O8PjIwEz/gkQ8/OhgrP7mnBj9+Md0+aqPxPsU3Fz9uOfQ+1kkZP9hTFz8/CvI+B/0hP08jMT8CeT8/ou8eP/5JMz+B7Fc/HgEgP2dx3T6pHjY/cvIbP6NTTT+21Rg/aRAFP6GDKT+iyy0/hUc2P5Y8Hz+PRFI/dMMAP83q5T6DYgM/aY8UP3UFBD8Ydjs/RygFP9GfUT8bFUQ/OOM9P95BGD+WiQA/w2AFP2ucFj8wvks/0okUP17Soz6qbEw/2EfFPnqY/D5GDRk/dyQRP3FMCD/+uNk+hbMyP+NnqT5KcSE/ycD4PiU5LT/yQws/TPQdP8KFGj/xsB0/5AkVP4e5uj4eMUA/If7pPgBAID/WQSI/vn4CPxr7MD/OtxI/MVXXPjOHLz+bO1I/BvkCP3xgPj/jEBc/C8MXP3bjDD+2+f4++mQUP6a0Rz9Zpgs/Osn0PmfS1j7VeiE/7+jaPv9jDz+QfRM/gCE2P0i5Fz8bFQQ/Ax4DP3w9KD+rihE/ARENP5gC7z6odxE/zOoxP8nnJz9Y0Rc/Uj0lP14CIz+qR+Y+V7kiPyOACT/XSfk+G1sgP3SETz+g29c+VUNBPyRbJT9I8+4+CzcWP1wXCz+1bQ4/fsv5Pjg2GD8qVRI/bR60PseBAD/jvwA/oKsPP9GJCD8fohQ/CXHzPn96Az9cKQg/zW0SP2KDFT9DYEo/dEDxPjLZ8j4HqDE/cOb/PhjL6T467hk/ZucbP2XfCj8Q7Pc+/ikUPyyxGT9GYNw+zekaPzZvET9A7SA/1wkwPwHPHD+WUFQ/cpozP8deFj9gqRE/IiI9P6slWD+2kBw/FwEiP+n9Nz+mGyY/YVQqP4lt7T7Cpss+IzAWPx2MEj/jWzg/fpsjPwxY3T5Wuj4/l7oxPz8bIT95m/k+5rQlP2Lh9z7BVSI/XhMqP4uCMT/sr+M+9WPnPnqOJT8Iygg/Q08fP0F7tz4SdBI/axkGP7M70T6jj6g+EWnpPkhqLD9AfBY/VjJFP7tgFz8MUDY/T2pGP3tsCz/uAyU/+SgSP+NmCT9IRj4/ApEjP/2ZHT8F5Rg/M9nmPkbWCD9VNgE/zx4bP3hGQz9uIQM/OAJMPzO6Oz8HOAI/S/wSP6PxEj+0bw0/QcnxPhhVBz+hO1E/vgw7P1JgHj/r0hk/QQAaP2yoED9KlBg/L+4sP8ZaND92I/E+R+xHP62UBz++ogc/uRbxPtwaGT8oxD8/arRNP7YLCD+i7r4+qw9BP7W+UD9mUC0/AkcSPwx8/z5xjAw/gwYKP0XaIz86KQY/FkvuPgsXJD/1uDQ/fUMHP80d9z4pABA/INf0PqYrBz8MAyU/6j0XP6gXCD9GaQE/l2BKPwTGJj8K4uU+Fv8VP9r5ET8w/yU/UG7+PphmNz/8kwE/zhIfP2+gVD/ufh0/kXEpPzfTBz/9HhM/IdkXP5dZCD+Naeo+YVb6PssfBj/pR0Y/R7cXPza2Aj8VRz8/QnAIP38j5T4YyxU/Ky77Prz37T5aFkA/yotRPyKX/T6TWA0/y3nwPvSxPj+CyBw/XlwJPyS3Nj8MtyQ/ESgQPy/A6T7TJx8/HLoIPwiH9D5yyRE/GrU4P1/cMj+sICk/WBroPmHAUD+NlUg/CBkvP0cmOz8YyuU+cWIvP6eOAT8uElE/eJzsPkoJ/j7JMjQ/d1lIPyIUND+B1+g+iEwTP9UKEz8AtUs/echLP3xmND+8LEk/2HILP0+u+T5H0gA/hRI/PyJ5Sz8vrqs+tqgBP1yqHj/rYBc/R5r7Ppr1Pj/63Tk/X6hXP0u3HT/Rz08/uihJP6JsFj+OSEo/eMvYPgrfIT/CIw8/f2IQP1qlKj9yEtE+FMoFP1nDQD/GfBk/2BY9P9sLGT/lcfw+KaAMP41J2j5YsdY+kOn1PuO9Sj+77qU+9dUGP/mc2j6CvwI/NktBP/sOCj/fUU0/p0Y7PzNh/D40yDU/6o4CPxFWBT87vQU/LUEaPyYBij4Tzk4/+/5IP7OPHD+yUyE/rPD0PpmdzD5ycEY/VKTzPoqO5T6/iEM/lXnlPnxzLD+O4CA/kwMiP24YPT9eYzc/qV0HP0DbCT/PEvI+y27ZPjMUMj9ADT4/PH3oPgidCD+cOjk/5n84P3CkMT8X7hA/ZmgcPwL7Dz/m3RA/xEz1Ps1nNz9tbx0/EAkaPyfmMD8U3U4/9/8HPzVS7z4udlA/O4pDP2m6Lj+3cUc/uO0QP1mKyj5Ic0c/QyM7P5lHHj9rLOk+EwUTP7WW+T7ZaAw/jRBFP0OZ2T4IMuk+YsEEP/ghOz9eV08/VoASP1LWCD81yQY/vrtCP1KTAD8aISU/LAAVPysXJD+knpI+A4vhPv3JBD+CY6k+ZBPMPlKjFz8GszA/2tkqP9VwBD/iMfQ+A9UiP7WC/z5vry4/88n1Pqe92j73XQc/rqr3PtdbOD/MSQc/kvALPy5SAT+pkBQ/iXgJP9POTz+hUN8+HpLMPsaF5z5sdRA/cQkXP53NED/BMCc/D14IP70HGj+zTE4//WQEP0lFAj85ZPQ+MtoTP0gX7T732wo/JevVPl3DSj+ySyc/v0qdPlI+Dz/3txg/VZX2PoWd+T47HPg+EOxXP1peFj+QGDw/d+UYPwLrDT+jRUg/7jkSPyciHD+Vvxk/xoIkPwvECT/zHzY/4r0OPziRAz+qETI/fHccPzkYyD4kDAU/JFD3PgzU4T70uCE/LPkNPzUIAz89kO8+zpTCPgZYOj8+2xM/E81PPy4YCz/s3ic/iwgrP6UzIT+SjU0/T4cgP19s6j5vcj4/hB8DP9ylPT+O2RE/X4gkP5AART9nXzA/868uP9UeND9A0CY/Tk0uP6gx6T0hWE0/mSYeP5YeQD9SlAQ/Tb07P5QQJj/X1i8/oF4RPwTqFz8tcTs/NEEdP+CXIz+vrUw/PR8VP0Pb4j4EViI/zvkWPy47FD9maCk/A/4nP29JTD+hXQ0/aDJGPxkvUz8ZePA+93/6Pr7NMz8imwA/ucw1P7lZ4D4eTwQ/4MocP4QgHT/SWg8/SLIXP+OfEj9Ryhc/EckjP5oIFj9B4AY/Z3oyPxyg+T4t8hc/G4s9P8WRAT+p1BM/tBrtPlZPSD9Or9k+tsIXPypCGT/iShg/k6n8Pp27/z4tVx0/g6cXPyl17D7m/+w+TNcjPx4NLj811Rc/sUUUP4N1GT/qqwA/jEfhPivbPj9i+uY+aNr5PtGqQT9vDyQ/bIEiP+0/BT9CxxI/Kt0dP19ySz+Ik/I+IuYuP8owBD+Gwzs/zK0fP9NdEz8+1Qw/9JwPP2dTAT/oZCc/wyQAP1a1wj5KNwg/pHDJPlkRUj+bLCc/sHbePjvTIT92FQc/gAIHP9l+Aj9dL0s/onpCPzj9zT4Lhk8/WKk1P/xW4z5mEEM/It4kPxkIOD+o9Ks+N9c+P7uxTT88aS4/CCcYP6XrAD+LlSU/QscLP770AD/phvI+HC0IP7MGCz/j2d0+86Y9P90MKD/kBz0/5tkQP+jYPz8G4B4/3LIwP0mbHT/v2xI/zCcmP1yn2D5MakY/PCUDP6/N9j5dlsY+Vi8YP82z/j5+MfU+/hYMP+ra4z5Z5ic/XCcUP9zyHz99MCc//6QnPzpSFD9rrxc/atIMP6Q+QT8PiiA/dcU9P3qxFj9SvjA/MPXzPl2JTj9N3tQ+1ykaPzHiJz/7/Qw/lRz/PtXADT9KQUY/2ABUP1dv0T5kJas+ogoFP2LnIT/7DS8/zbAdPyjiCj/4pM8+D4vnPt335D4Iqww/9f4fPwWN+D79jBs/Z7MdP6lfAD+8nxU/kQstP2n5Dj+GWDo/yF/7PouwCD+dXCs/W/sWP3wB+z4YaRg/NQ0LP9u6Ij+PJhU/i7oIP6aRzT5VMVQ/yj30Plkg+T6DNhg/8ejfPnAIwj6Hxg0/NSpUP/4F8D6lfQs/8tw+Pw9EAj8t1/4+OluKPllvBz/JkhY/NPZSP83uFj/4FQU/u/f9PguWAT/EDg8/nrsWP2f9KD/aJj4/NX/7PtVNFz/0ZDc/pPonP8+WNj+fXOc+1lsJP1p7Uz8kJf4+jsrqPi8J6j5skR0/9z8BPxPM4j6jeBE/20vfPligQT8U8yk/xd0IP4AuDD8Y70M/2AMmPznuHT9EaAU/c4IUP/BABD8c3ek+au7hPoh+VT8iggY/ONggP48XID+t8xM/wvD9PulrTz8ogUM/S+YiP5M2LD+ZTsI+mKQxP9DWEz9AsBs/y/JBPzZOHD8ydAc/GrY2P/6SPT/1WtU+hxEDP4AVKz9TwPA+uFMFP0XP4T4cNjU+leE9P4OR/D7yCQY/xMQZP2UUCj9y+yc/DCf0PsQ5GT8itdk+j7bdPk4RAD9tNjc/waEzP65TID8SR0M/ydQ0P5d4Aj+K3v4+rVIPP+n3QT8BaBw/QT4nP7rwIz+d+y8/4ugyP+oy/D7jaBI/bcQtP16CPT8xjfo+TnIyP3aaQz+w7wY/+HwwP0hhBT+YDy4/thDzPsN8OD9FZT4/SALlPpt0Qz/rjwg/oQU5P8TlGT8rTLE+GdTGPh/ZHj9ZrR0/SH4cP8d59D5gJRQ/yhzlPhPWJD8QYEc/VKjuPtbXKj93eNQ+xwQBP1+eBT/X3D4/D1MePyEfID8yPz8/WnUVP6sq+j5u0xI//qjWPvbT5j4PXeM+IJcHP+HoIz+UCEk/RWgqP2hBTT+2rAE/2igUP+2NLT/KPtE+IjwfP3NbOD/UaAg/dnnnPpnEGD8bzgU/hcQRP7i38D533hs/PUlKP+wODT9X6uE+dgIVP3M3ET8Mqh4/wQxQPzZrQj/JYs4+86EcP+Kr1j4wZCI/D98OPzG0rj7pV8E+8h39PlC9Sz8QjS0/WcjpPhAh+z59SxE/D1UcP/DQST8G/vo+Pl0wP6SK5j4Jvgc/Cg0+P7bhFz+6FCc/F08aP3Ts+T7M7Cg/FAMRP9fuBj/2TU4/SjEmP5M8/D7m6fQ+lZTtPlTPGz+vt9I+XLb5PjGL8j6ujQM/clwmP0yO0z4AbFw/cWKbPt37Rz/PxgQ/fBnfPgBRIj/ux+0+a5RXP4EdRj9sQ/A+yTQXPxKwPj9r7Qk/RoflPnhDQT/J2RQ/NPHnPtlQAT/MSb0+9mYdPzpB/D5MajE/OE4UPzFPCD9wjg0//JYWP9I6Hj+riNs+Pn0DP/bTCD9wiPA+DJjqPs2IKz89ZR4/gKTfPhTnDD9cqQU/qNk1PyVHRj+RTQE//B7zPsJPEj86E/Q+Q9FTP9v/6z4HFEE/MXobP9euPj9jzSM/j3EsP8Y2Fz/daP4+yHcWPyq7RD89hvY+TukGP7DcUD9y4gw/oPP4Pl/ACz+6i8I+pyUHPwJuKD/PQic/MRQjP9VHJz8vPyw/7ccuP0lnJD/KKkk/qrnmPmjRDz/oMkU/fewuPwgNOT9J9Ns+JLX4PqmJ+D5aQRM/KCJJP57OTz/4qQU//KYPP9F8Oz+28S8/FRUdP2dkJT+eGgc/5dT0Pr3+2z55AEI/ZwTOPrN53T5FWDo/4aXyPvEwHD84bzY/VbUSP0/mBz/SHxM//LbvPuPRDz+plAU/pKn8PunxGT9vyy0/3wsIP4LtOz/iaPY+7U8QP2MU1D6RQgs/au8PP+3hAj9SUdQ+6Wn4PhKb3j7ARxs/zB1PP8yBMD+627g+pLvjPo4cKD8gcwc/o70GPzIIAD8Q8kE/ZSQbP67BAD9WBBo/hVUrPyFfDz8Trvk+/RonP6CSPT8oAhA/73MpP4oBLj83Rhs/hO0pP9Y0CD9D9yY/p9coPwEVNT/mdE4/QscgPwROHj8E3ic/61NTP+Oc/j4RIz0/1CQCP4sTPz+9gSY/6IbaPsZ5Fj9xMvc+hmVJP5IIUD9fTjI/SXcdP/FnOD/1Jgw/jx4sP+8iFT+Lvx4/gvc+PwOTHD8aLQA/nWkfPx0tNz4P1FI/M79QP7ygEz+8EQY/bzQrP2sWxz4gpvc+5b07P5NY6j6wqSM/DOcOP3dulj7GzBs/hvsKP2TgMD/Gqhg/ChckP6U4Pz8/0js/aI4XP0rADT9aEWI+gpYaP6ntBD9kzgA/KEjuPg7pHz/LkUg/zZzyPiMZIz8Fe+Y+Xjr8PmbwIj+t2is/MDsPP99shz7URM4+6dp5Ps53Jj9T++w+DMeuPmmD6D4x3g0/yU0hP3G5MT8q2iE/iSklPwa2Tj/hhQA/9U4oP+neMT/aoxA/LaKxPhmvSz/GPCM/cPoLP2jjED8CUtY+bJgGP4stHz++xhs/JYEzP5jXFT8dxE0/Z0QEP+1vCD/7DAU/kJD4Pj3U7j7OtxU/YVgFP8hx1D7QTiU/ih5JPwwJ8j6Kxxo/wLUWPwhwED8kPzU/t/QgP71BAD9gcyk/bDUbP1db6D70GTI/z2ciP9LaAT8Xc+o+MJwaP2PZEj8NkS8/rigAPxorGD/xf8U+pLcEPwZUDD8j4SA/Kds9P30/Bj8G5wY/eQMQP5l1JT91CEk/zU/oPgn/Hz+Z+Ow+Z/0CPwImJT9WyC0/Kv/FPso6Gj+bEj0/QNIMP1HFSj/UY0c/aecZPyxdKT+Hvic/IHoHP0iaGT8JbhA/j171PqpiLz93jAY/6vonP5TeTj/+xVI/plrlPnl1MT9UIO0+WIALP9jnxj5Otgg/muFXP9XDPT9O7Tc+s8AgP/ahNj9AzjU/u1rAPj4oKT+F1zU/D+/vPlNFWj+jA+U+v+AOP3z9BT+qj9w+yO7GPq0FSD+uIxA/0UT+PpsVJT8z7BM/AZwjPyVeAD9IzgY/BbXXPqSiij4KogE/U1hSPwW92D7UgQo/6E9EPzCa+D7L9yI/XQLrPuEMCT+pahs/VnQ/P+OCQT4a7Tw/UD0XP+I5FT+tpCo/OAMdP6UM6j7/1wg/H00vPwvJFj8EcbU+vA4IP4S1Rz+fngc/AqAjP+SjDD+Rnkg/ib74Pm9XNT9M9AQ/m7cAP+AwQT/UTzg/VFsRP4swFD/kYt4+S3wTP25QJj9Jjxw/VOI2Pw9SDz9nZkg/W60xPzGFGj9yggU/pmv1PqlgDD8fFjg/oIbiPtd4JD8sVxI/amzsPs7BEz/FbBM/oEULP7g2CT95I+Y+d50xP5gBzD5fqgY/rucnP/YI+T5IQE0/X07GPi8AuD6Srx8/I40EPy8RJz9AlQc/bu/ePgtRBT+VWDs/sTcePw3TLT/YDFA/WdLhPnsoHj/CxFE/7zPPPuu1MD9+6/E+EacxP91ZOD+UxUo/tVgaP6Yc3z4gMgc/mwgtP8ReIj+2eD8/PC82P3wpKD89BSo/HhY+P4wXPD9mavM+6ljqPkdyQD+joBA/SjpHP69A9T53EUM/kEjuPtlbOD/w/B8/ix1GP9PF9T4txCo/xmZSP88hFD/uV0o/wbn2PpXKGj9CgjQ/MwxBP0g4Fz9DFUs/8/H7PqUi0z6Pajs/PUdLPxD3CD8H8RA/E6ILP/QaNz8joww/je4IP4zPHz9JzAA/DkQmPxcDKD/PMOs+98QSP6iWHz+THQM/BGZJPxd07z5cZUU/FvU2P6Q5Kj/SCDI/y4MgP9g+ST8p88o+P7sJP8Q45j7wY/k+LM8LPx4vuj7YTBM/jIwRP6mbIT+SHxc/2rvBPi52CD8geAE/8AxBP2NM+j5DAA8/E0EsP9CQGT8/uLE+5lEZP9U/Jz90NfA++CtKPmeBDz8QDPQ+iBM5P0rCGj+3JAM/BX3hPiLlIj+88z4/hEoUP0SdGz+2fjI/RofWPuIACz9+qiU/E4YhP/tLQT8HKeY+bWYaP7KTCz8mDRo/eaQvP2M2RT8igQA/SJxIPwu7Cz+VAgs/gs0DPwDhFj8Mf/o+xecUPwf9SD8PHl4/cV4OP0VqRT/FCxQ/WxAEP3MeGj/XvB0/+VdNP5ObET/xUhs/NUPRPu7yCD+RagU/+0gIP/q+Bz+zqE8/lCUMPwTyCD8wTrQ+0sLWPmtvDD8gPy0/roc1P63TGD8WPz4/qrcBP7MfST+cWQg/Ar4KP+2ZEz8uN0s/4XgEP+S+Pz9Mh+c+VaIFP+RoQT+3iEM/zpgdP+4WOz+6SO8+qzkrPwNsLj9JRUE/IPzsPnkPRD+gcSA/o83zPtCUOz9WbC8/fzMMP+HgGT/1TB8/LABBP5AJuD49clY/IeHlPshR+z6w/yw/njw2P14IFj+mKCY/sQMIP3ExGD+4htI+MMgNP2x5ID/j6AQ/23YBP0ZCHj/9IwI/LI0UP1ZbCD/XQRE/jKcqP28GBj+2n+k+V7bsPlFXAj9DuRA/jg/0Pp//SD+SlCU/kdMZP9CkAT8aFOI+m8z5Pn+PKz8BIPo+Rz3nPr8ARj+tvQw/0MvVPl96Ij+lmqI+i6tHPyU8Lz/enRQ/wpwgPzNE9D4hUQ8/2Qb5PkrUDj/krjo/eqcdPxnZNz+Xogg/qBI/P7R5vz4cJvU+bMQjP06gAT8eYgc/FvM8P/OoRD+30UY/YvMYPzl4KT9HC+4+C8UUP3NZUz8vePc+faxFPx/aCj9JG/4+HaAIP2yzHj/4HkM/5vPdPtx/3z5QMhA/ImMOP+W3BT+ra0I/gWHVPvXuED8pfOs+bSsbP0FS6j69BgM/M9n5PpDNOD8bKBs/rBf+PgzsBz9VuwM/bXr7Pl244z7Nahc/3JUIPx4BCT/gngg/AXsSP/Ic9D4nPRk/TRI1P+t+DD9AGMY+DogOPztsKj+KEQU/dFvYPuDnGz9V9Q8/S04VP3YlVT/lCQw/iCUCPxJ+4j5FByo/RC8BPwVyMj83xQk/OeMYP0WqGz+WZgM/avEbP950Qz+eM/w+15frPl9gGT8T1eY+MqwFP0/lEz9NEDI/jybRPoqHxT4ADyg/0NkiP21mGj8P6zE/OFgBP7zYsz58MDE/tXDzPrIvAj+QN+g+DVEIP7/H3j7N3FQ/bNDxPrdsQD9MKVM/1HgWPwLg/z5X1AE/tAQMP1nTyD7kcRo/W0saP3iVDj+guR0/PV+OPhxhOz9XZfM+0XzaPkkMCz8LlT4/BFQJP29SNT9VAj0/gh3mPqycDz9G5w8/kaNOP5InBj96ggM/o0TtPketBD/k2BM/pSEqP4QLUD806Mc+DNP7Pi0iST/8tFc/wKr9PtchST9pPQ8/TUBDP2DlHD9CUcs+hOQMP8OSPj+Be+g+2nkCPzrzRT/b9Sg/oas9PzIgDT8AVwI/Y4wKPxwBET/mvBw/E+NDP2jExD6n0gQ/8/QIPzw/ID/HvRE/UOARP2TyHD99UBM/ApkvP+PlvT7rpjE/hJ4CP14z/D60Y8E+D04IP+KvBz/xEBc/Y2UWP93WPj9jlQo/76QVP7FgET8rVSY/0mP6PmHMHj9wbeo+H7IeP46NAD+kXyA/wpwcP/pmDD83vy0/eUgOPzt1Kj9IAL0+VCQaP4bQOT9wjiM/ljs3P0WH/D4oEgg/ocTiPjEo+D7ZFh4/XMkMP6JXEz8MuuI+wpjOPpzQET89phE/Ze29PlG2JT/7E9s+yPkJPz1EHT9blR4/Bbr3PihhRj+bPBI/4ikbP8u3ED+3pzc+JdNLP8QrDz8plgw/yLUxP2P3Iz+sNC0/eCMWP9bx/z4FP9Y+PM3iPjiL5D7nHx0/7Qw5PyOZGz+PbC8/FcEuP1F2NT+pXfA+AmxDPyjGGz+IRiY/lbkLPxpBMD/gY0c/1HoCPxhG8D4LnvY+RsQAPwPV0j67Ug0/jzUDPw3Dwj6xeEw/d90rPwu1FD+gzk8/w8gTP70hFj9xFj4/bnglPxzYND+nNTE/UIs1P1QZ/z7SihY/EJsgP6TaIT95VgQ/oO4pPzeE6z4lNQE/4+MbPy3HBz+UO1I/m/8IP85jET8t/gE/xj39PqPaAD9olMk+exI5Pzf9Gj9DVhw/fyXWPkxFAD9jKho/sgWuPgwJGD/qwxI/Hj4HPzcbVj+K1Uc/FkfcPrOy/z7fSvU+8u8pP3d9+T5qKDs/4pJAP7JNTT+ghQo/VPMdPywePD/q6e8+OTw+P4/77T6EFD8/g1zyPtH83j4gMEE/T/AQPzNQIT/TuR8/oGgUPxab6T44bkE/URI/P30UJz/UHtw+h7P5Pkeo2z5qZT4/+o5OPnTLEz/zqg4/FfjwPmNdMD9i8BM/ThcFP4J5DT/3axM/xasqP9T/IT9TCxs/dPvbPhhtDj9YPBc/xWjpPoYO6D65IA4/pLcFPyWe1j5q8iA/WO3vPki9+T4iC1A/yzY2P0X0Nj80Xho/Cz4OP3nnLT80XjI/sD/8PtUW+T7s4g0/IlD+PuQeMj+p2R0/+dbrPkECOT/S1fk++psEP1GPKD+TCg0/ITYYPzOMIj/D7Cs/M4zmPsGdGT+T/vM+rDP1PtvyED8R3fI+PU0QP4ABUj+VwCE/rfDtPnzEFz9Phes+aePHPmj7IT88KzY/XpQGP7LoID8nvjU/TvUyP8nzPj8CHzY/sVgKP+zwIT+mSj8/LfAPP3KoPT/7jPw+FsoPP3BxNz+SQgM/ct4hPzLI+z5EwMU+r4MSPzoJBD8CliE/JysaPzRhCz9Vbwk/R0/5Ppm18D6iNFg/gMv9Pk1LQj/c3/w+U/klPymVIz90Gew+E3FRP9JjOj9vx0E/KwIlPyM8Dz+bgDg/i1vkPoeyFj+ebzc/ZPIrP7+pHD9dz1I/m9c3P0fhGj9ZQU0/WrWDPp7QSj+oRg8/Jk0KP/gJMj9WLEo/CHoBP7uXGz+Jpj0/lGk7P5ImKT8Njec+2oPEPrzNCD8+/+I+MWtDP3H5yT4PUhs/LFDMPlOk+j4fEzk/yKkGP3n+SD9DBck+Kz3gPl4k8D5EoMc+WqshPzNoCz9pAAk/ZjEGP6XBqz6ECOo+eokrP74ZBT8blA0/dnocPy20LD/jEiw/wihRP+e3zz4Z9Tw/6Y/yPg7cJD8p7Fc/cW81P0pWDj88pd0+miw0P5vbHD+bqDE/nEzYPgX5LD/RzOE+wMERPxH2Dj/emd8+Iif4PgMSSz8S1wo/l80pP/CKJT8OWxM/CIg9P8Vi8T7sJRM/iNYYP7/qJD9QhCc/DccCP4ewET/ZFiE/D0ZGP+DdWj8Hlh8/2NPyPqKZSz8CzPw+Icz9Ple3CT+HncE+46sQP7noIT99AlE/rS0RP674tD4wLQw/PHULP3R7HT+qoQs/QzcTPz3G8j4KKjQ/AA8NP3HSDj8k1Qo/sQUUPwtI/D7WHPg+QfsyPxBnHj80lxA/80zsPlwcSz/qMC0/W7gpP+K/GD/RAdM+dsHtPtA/ET8JD1c/074EPycIOT/aBwI/z/wiP6bBAj8=",
          "dtype": "f4"
         },
         "xaxis": "x",
         "yaxis": "y"
        }
       ],
       "layout": {
        "barmode": "relative",
        "legend": {
         "title": {
          "text": "variable"
         },
         "tracegroupgap": 0
        },
        "margin": {
         "t": 60
        },
        "showlegend": false,
        "template": {
         "data": {
          "bar": [
           {
            "error_x": {
             "color": "#2a3f5f"
            },
            "error_y": {
             "color": "#2a3f5f"
            },
            "marker": {
             "line": {
              "color": "#E5ECF6",
              "width": 0.5
             },
             "pattern": {
              "fillmode": "overlay",
              "size": 10,
              "solidity": 0.2
             }
            },
            "type": "bar"
           }
          ],
          "barpolar": [
           {
            "marker": {
             "line": {
              "color": "#E5ECF6",
              "width": 0.5
             },
             "pattern": {
              "fillmode": "overlay",
              "size": 10,
              "solidity": 0.2
             }
            },
            "type": "barpolar"
           }
          ],
          "carpet": [
           {
            "aaxis": {
             "endlinecolor": "#2a3f5f",
             "gridcolor": "white",
             "linecolor": "white",
             "minorgridcolor": "white",
             "startlinecolor": "#2a3f5f"
            },
            "baxis": {
             "endlinecolor": "#2a3f5f",
             "gridcolor": "white",
             "linecolor": "white",
             "minorgridcolor": "white",
             "startlinecolor": "#2a3f5f"
            },
            "type": "carpet"
           }
          ],
          "choropleth": [
           {
            "colorbar": {
             "outlinewidth": 0,
             "ticks": ""
            },
            "type": "choropleth"
           }
          ],
          "contour": [
           {
            "colorbar": {
             "outlinewidth": 0,
             "ticks": ""
            },
            "colorscale": [
             [
              0,
              "#0d0887"
             ],
             [
              0.1111111111111111,
              "#46039f"
             ],
             [
              0.2222222222222222,
              "#7201a8"
             ],
             [
              0.3333333333333333,
              "#9c179e"
             ],
             [
              0.4444444444444444,
              "#bd3786"
             ],
             [
              0.5555555555555556,
              "#d8576b"
             ],
             [
              0.6666666666666666,
              "#ed7953"
             ],
             [
              0.7777777777777778,
              "#fb9f3a"
             ],
             [
              0.8888888888888888,
              "#fdca26"
             ],
             [
              1,
              "#f0f921"
             ]
            ],
            "type": "contour"
           }
          ],
          "contourcarpet": [
           {
            "colorbar": {
             "outlinewidth": 0,
             "ticks": ""
            },
            "type": "contourcarpet"
           }
          ],
          "heatmap": [
           {
            "colorbar": {
             "outlinewidth": 0,
             "ticks": ""
            },
            "colorscale": [
             [
              0,
              "#0d0887"
             ],
             [
              0.1111111111111111,
              "#46039f"
             ],
             [
              0.2222222222222222,
              "#7201a8"
             ],
             [
              0.3333333333333333,
              "#9c179e"
             ],
             [
              0.4444444444444444,
              "#bd3786"
             ],
             [
              0.5555555555555556,
              "#d8576b"
             ],
             [
              0.6666666666666666,
              "#ed7953"
             ],
             [
              0.7777777777777778,
              "#fb9f3a"
             ],
             [
              0.8888888888888888,
              "#fdca26"
             ],
             [
              1,
              "#f0f921"
             ]
            ],
            "type": "heatmap"
           }
          ],
          "histogram": [
           {
            "marker": {
             "pattern": {
              "fillmode": "overlay",
              "size": 10,
              "solidity": 0.2
             }
            },
            "type": "histogram"
           }
          ],
          "histogram2d": [
           {
            "colorbar": {
             "outlinewidth": 0,
             "ticks": ""
            },
            "colorscale": [
             [
              0,
              "#0d0887"
             ],
             [
              0.1111111111111111,
              "#46039f"
             ],
             [
              0.2222222222222222,
              "#7201a8"
             ],
             [
              0.3333333333333333,
              "#9c179e"
             ],
             [
              0.4444444444444444,
              "#bd3786"
             ],
             [
              0.5555555555555556,
              "#d8576b"
             ],
             [
              0.6666666666666666,
              "#ed7953"
             ],
             [
              0.7777777777777778,
              "#fb9f3a"
             ],
             [
              0.8888888888888888,
              "#fdca26"
             ],
             [
              1,
              "#f0f921"
             ]
            ],
            "type": "histogram2d"
           }
          ],
          "histogram2dcontour": [
           {
            "colorbar": {
             "outlinewidth": 0,
             "ticks": ""
            },
            "colorscale": [
             [
              0,
              "#0d0887"
             ],
             [
              0.1111111111111111,
              "#46039f"
             ],
             [
              0.2222222222222222,
              "#7201a8"
             ],
             [
              0.3333333333333333,
              "#9c179e"
             ],
             [
              0.4444444444444444,
              "#bd3786"
             ],
             [
              0.5555555555555556,
              "#d8576b"
             ],
             [
              0.6666666666666666,
              "#ed7953"
             ],
             [
              0.7777777777777778,
              "#fb9f3a"
             ],
             [
              0.8888888888888888,
              "#fdca26"
             ],
             [
              1,
              "#f0f921"
             ]
            ],
            "type": "histogram2dcontour"
           }
          ],
          "mesh3d": [
           {
            "colorbar": {
             "outlinewidth": 0,
             "ticks": ""
            },
            "type": "mesh3d"
           }
          ],
          "parcoords": [
           {
            "line": {
             "colorbar": {
              "outlinewidth": 0,
              "ticks": ""
             }
            },
            "type": "parcoords"
           }
          ],
          "pie": [
           {
            "automargin": true,
            "type": "pie"
           }
          ],
          "scatter": [
           {
            "fillpattern": {
             "fillmode": "overlay",
             "size": 10,
             "solidity": 0.2
            },
            "type": "scatter"
           }
          ],
          "scatter3d": [
           {
            "line": {
             "colorbar": {
              "outlinewidth": 0,
              "ticks": ""
             }
            },
            "marker": {
             "colorbar": {
              "outlinewidth": 0,
              "ticks": ""
             }
            },
            "type": "scatter3d"
           }
          ],
          "scattercarpet": [
           {
            "marker": {
             "colorbar": {
              "outlinewidth": 0,
              "ticks": ""
             }
            },
            "type": "scattercarpet"
           }
          ],
          "scattergeo": [
           {
            "marker": {
             "colorbar": {
              "outlinewidth": 0,
              "ticks": ""
             }
            },
            "type": "scattergeo"
           }
          ],
          "scattergl": [
           {
            "marker": {
             "colorbar": {
              "outlinewidth": 0,
              "ticks": ""
             }
            },
            "type": "scattergl"
           }
          ],
          "scattermap": [
           {
            "marker": {
             "colorbar": {
              "outlinewidth": 0,
              "ticks": ""
             }
            },
            "type": "scattermap"
           }
          ],
          "scattermapbox": [
           {
            "marker": {
             "colorbar": {
              "outlinewidth": 0,
              "ticks": ""
             }
            },
            "type": "scattermapbox"
           }
          ],
          "scatterpolar": [
           {
            "marker": {
             "colorbar": {
              "outlinewidth": 0,
              "ticks": ""
             }
            },
            "type": "scatterpolar"
           }
          ],
          "scatterpolargl": [
           {
            "marker": {
             "colorbar": {
              "outlinewidth": 0,
              "ticks": ""
             }
            },
            "type": "scatterpolargl"
           }
          ],
          "scatterternary": [
           {
            "marker": {
             "colorbar": {
              "outlinewidth": 0,
              "ticks": ""
             }
            },
            "type": "scatterternary"
           }
          ],
          "surface": [
           {
            "colorbar": {
             "outlinewidth": 0,
             "ticks": ""
            },
            "colorscale": [
             [
              0,
              "#0d0887"
             ],
             [
              0.1111111111111111,
              "#46039f"
             ],
             [
              0.2222222222222222,
              "#7201a8"
             ],
             [
              0.3333333333333333,
              "#9c179e"
             ],
             [
              0.4444444444444444,
              "#bd3786"
             ],
             [
              0.5555555555555556,
              "#d8576b"
             ],
             [
              0.6666666666666666,
              "#ed7953"
             ],
             [
              0.7777777777777778,
              "#fb9f3a"
             ],
             [
              0.8888888888888888,
              "#fdca26"
             ],
             [
              1,
              "#f0f921"
             ]
            ],
            "type": "surface"
           }
          ],
          "table": [
           {
            "cells": {
             "fill": {
              "color": "#EBF0F8"
             },
             "line": {
              "color": "white"
             }
            },
            "header": {
             "fill": {
              "color": "#C8D4E3"
             },
             "line": {
              "color": "white"
             }
            },
            "type": "table"
           }
          ]
         },
         "layout": {
          "annotationdefaults": {
           "arrowcolor": "#2a3f5f",
           "arrowhead": 0,
           "arrowwidth": 1
          },
          "autotypenumbers": "strict",
          "coloraxis": {
           "colorbar": {
            "outlinewidth": 0,
            "ticks": ""
           }
          },
          "colorscale": {
           "diverging": [
            [
             0,
             "#8e0152"
            ],
            [
             0.1,
             "#c51b7d"
            ],
            [
             0.2,
             "#de77ae"
            ],
            [
             0.3,
             "#f1b6da"
            ],
            [
             0.4,
             "#fde0ef"
            ],
            [
             0.5,
             "#f7f7f7"
            ],
            [
             0.6,
             "#e6f5d0"
            ],
            [
             0.7,
             "#b8e186"
            ],
            [
             0.8,
             "#7fbc41"
            ],
            [
             0.9,
             "#4d9221"
            ],
            [
             1,
             "#276419"
            ]
           ],
           "sequential": [
            [
             0,
             "#0d0887"
            ],
            [
             0.1111111111111111,
             "#46039f"
            ],
            [
             0.2222222222222222,
             "#7201a8"
            ],
            [
             0.3333333333333333,
             "#9c179e"
            ],
            [
             0.4444444444444444,
             "#bd3786"
            ],
            [
             0.5555555555555556,
             "#d8576b"
            ],
            [
             0.6666666666666666,
             "#ed7953"
            ],
            [
             0.7777777777777778,
             "#fb9f3a"
            ],
            [
             0.8888888888888888,
             "#fdca26"
            ],
            [
             1,
             "#f0f921"
            ]
           ],
           "sequentialminus": [
            [
             0,
             "#0d0887"
            ],
            [
             0.1111111111111111,
             "#46039f"
            ],
            [
             0.2222222222222222,
             "#7201a8"
            ],
            [
             0.3333333333333333,
             "#9c179e"
            ],
            [
             0.4444444444444444,
             "#bd3786"
            ],
            [
             0.5555555555555556,
             "#d8576b"
            ],
            [
             0.6666666666666666,
             "#ed7953"
            ],
            [
             0.7777777777777778,
             "#fb9f3a"
            ],
            [
             0.8888888888888888,
             "#fdca26"
            ],
            [
             1,
             "#f0f921"
            ]
           ]
          },
          "colorway": [
           "#636efa",
           "#EF553B",
           "#00cc96",
           "#ab63fa",
           "#FFA15A",
           "#19d3f3",
           "#FF6692",
           "#B6E880",
           "#FF97FF",
           "#FECB52"
          ],
          "font": {
           "color": "#2a3f5f"
          },
          "geo": {
           "bgcolor": "white",
           "lakecolor": "white",
           "landcolor": "#E5ECF6",
           "showlakes": true,
           "showland": true,
           "subunitcolor": "white"
          },
          "hoverlabel": {
           "align": "left"
          },
          "hovermode": "closest",
          "mapbox": {
           "style": "light"
          },
          "paper_bgcolor": "white",
          "plot_bgcolor": "#E5ECF6",
          "polar": {
           "angularaxis": {
            "gridcolor": "white",
            "linecolor": "white",
            "ticks": ""
           },
           "bgcolor": "#E5ECF6",
           "radialaxis": {
            "gridcolor": "white",
            "linecolor": "white",
            "ticks": ""
           }
          },
          "scene": {
           "xaxis": {
            "backgroundcolor": "#E5ECF6",
            "gridcolor": "white",
            "gridwidth": 2,
            "linecolor": "white",
            "showbackground": true,
            "ticks": "",
            "zerolinecolor": "white"
           },
           "yaxis": {
            "backgroundcolor": "#E5ECF6",
            "gridcolor": "white",
            "gridwidth": 2,
            "linecolor": "white",
            "showbackground": true,
            "ticks": "",
            "zerolinecolor": "white"
           },
           "zaxis": {
            "backgroundcolor": "#E5ECF6",
            "gridcolor": "white",
            "gridwidth": 2,
            "linecolor": "white",
            "showbackground": true,
            "ticks": "",
            "zerolinecolor": "white"
           }
          },
          "shapedefaults": {
           "line": {
            "color": "#2a3f5f"
           }
          },
          "ternary": {
           "aaxis": {
            "gridcolor": "white",
            "linecolor": "white",
            "ticks": ""
           },
           "baxis": {
            "gridcolor": "white",
            "linecolor": "white",
            "ticks": ""
           },
           "bgcolor": "#E5ECF6",
           "caxis": {
            "gridcolor": "white",
            "linecolor": "white",
            "ticks": ""
           }
          },
          "title": {
           "x": 0.05
          },
          "xaxis": {
           "automargin": true,
           "gridcolor": "white",
           "linecolor": "white",
           "ticks": "",
           "title": {
            "standoff": 15
           },
           "zerolinecolor": "white",
           "zerolinewidth": 2
          },
          "yaxis": {
           "automargin": true,
           "gridcolor": "white",
           "linecolor": "white",
           "ticks": "",
           "title": {
            "standoff": 15
           },
           "zerolinecolor": "white",
           "zerolinewidth": 2
          }
         }
        },
        "xaxis": {
         "anchor": "y",
         "domain": [
          0,
          1
         ],
         "range": [
          -1,
          1
         ],
         "title": {
          "text": "Cosine similarity of decoder vectors between models"
         }
        },
        "yaxis": {
         "anchor": "x",
         "domain": [
          0,
          1
         ],
         "title": {
          "text": "Number of Latents (log scale)"
         }
        }
       }
      }
     },
     "metadata": {},
     "output_type": "display_data"
    }
   ],
   "source": [
    "# Now let's check the cosine similarity of the \"shared\" decoder vectors between both models:\n",
    "\n",
    "shared_latent_mask = (relative_norms < 0.7) & (relative_norms > 0.3)\n",
    "shared_latent_mask.shape\n",
    "\n",
    "cosine_sims = (cross_coder.W_dec[:, 0, :] * cross_coder.W_dec[:, 1, :]).sum(dim=-1) / (cross_coder.W_dec[:, 0, :].norm(dim=-1) * cross_coder.W_dec[:, 1, :].norm(dim=-1))\n",
    "cosine_sims.shape\n",
    "\n",
    "fig = px.histogram(\n",
    "    cosine_sims[shared_latent_mask].to(torch.float32).detach().cpu().numpy(),\n",
    "    #title=\"Cosine similarity of decoder vectors between models\",\n",
    "    log_y=False,  # Sets the y-axis to log scale\n",
    "    range_x=[-1, 1],  # Sets the x-axis range from -1 to 1\n",
    "    nbins=100,  # Adjust this value to change the number of bins\n",
    "    labels={\"value\": \"Cosine similarity of decoder vectors between models\"}\n",
    ")\n",
    "\n",
    "fig.update_layout(showlegend=False)\n",
    "fig.update_yaxes(title_text=\"Number of Latents (log scale)\")\n",
    "\n",
    "fig.show()"
   ]
  },
  {
   "cell_type": "markdown",
   "metadata": {},
   "source": [
    "We notice reasonably high alignment, with a lot of high positive cosine sim."
   ]
  },
  {
   "cell_type": "markdown",
   "metadata": {},
   "source": [
    "\n",
    "\n",
    "When we trained our crosscoder, we normalized both the base and chat model activations such that they both have avg norm sqrt(d_model). In training, this is implemented by estimating scaling constants such that norm(scale * act) = sqrt(d_model) over a subset of the training distribution. I'll just hard code them in this demo.\n",
    "\n",
    "This means we also need to normalize the activations during analysis. Further, since we'll be splicing the reconstructed activations back into the forward pass of the model, we need to \"unscale\" the reconstructed activations too. We can alternatively fold this into the weights, as below:\n"
   ]
  },
  {
   "cell_type": "code",
   "execution_count": 7,
   "metadata": {},
   "outputs": [],
   "source": [
    "def fold_activation_scaling_factor(cross_coder, base_scaling_factor, chat_scaling_factor):\n",
    "    cross_coder.W_enc.data[0, :, :] = cross_coder.W_enc.data[0, :, :] * base_scaling_factor\n",
    "    cross_coder.W_enc.data[1, :, :] = cross_coder.W_enc.data[1, :, :] * chat_scaling_factor\n",
    "\n",
    "    cross_coder.W_dec.data[:, 0, :] = cross_coder.W_dec.data[:, 0, :] / base_scaling_factor\n",
    "    cross_coder.W_dec.data[:, 1, :] = cross_coder.W_dec.data[:, 1, :] / chat_scaling_factor\n",
    "\n",
    "    cross_coder.b_dec.data[0, :] = cross_coder.b_dec.data[0, :] / base_scaling_factor\n",
    "    cross_coder.b_dec.data[1, :] = cross_coder.b_dec.data[1, :] / chat_scaling_factor\n",
    "    return cross_coder\n"
   ]
  },
  {
   "cell_type": "code",
   "execution_count": 11,
   "metadata": {},
   "outputs": [
    {
     "name": "stderr",
     "output_type": "stream",
     "text": [
      "Estimating norm scaling factor: 100%|██████████| 100/100 [01:40<00:00,  1.00s/it]\n",
      "Estimating norm scaling factor: 100%|██████████| 100/100 [01:41<00:00,  1.01s/it]\n"
     ]
    },
    {
     "name": "stdout",
     "output_type": "stream",
     "text": [
      "0.7367579 0.38336924\n"
     ]
    }
   ],
   "source": [
    "# Estimating normalizing factor\n",
    "from buffer import Buffer\n",
    "import copy\n",
    "\n",
    "buff = Buffer(cross_coder.cfg, base_model, math_model, all_tokens_padded)\n",
    "base_estimated_scaling_factor, math_estimated_scaling_factor = buff.normalisation_factor.detach().cpu().numpy()\n",
    "print(base_estimated_scaling_factor, math_estimated_scaling_factor)\n",
    "del buff\n",
    "#folded_cross_coder = copy.deepcopy(cross_coder)\n",
    "#folded_cross_coder = fold_activation_scaling_factor(folded_cross_coder, base_estimated_scaling_factor, math_estimated_scaling_factor)\n",
    "#folded_cross_coder = folded_cross_coder.to(torch.bfloat16)"
   ]
  },
  {
   "cell_type": "code",
   "execution_count": 8,
   "metadata": {},
   "outputs": [],
   "source": [
    "base_estimated_scaling_factor, math_estimated_scaling_factor = 0.7367579, 0.38336924"
   ]
  },
  {
   "cell_type": "code",
   "execution_count": null,
   "metadata": {},
   "outputs": [
    {
     "name": "stdout",
     "output_type": "stream",
     "text": [
      "ce_loss_spliced_A: 1.765625\n",
      "ce_loss_spliced_B: 1.71875\n",
      "ce_clean_A: 0.65625\n",
      "ce_clean_B: 0.91015625\n",
      "ce_zero_abl_A: 12.1875\n",
      "ce_zero_abl_B: 12.125\n",
      "ce_diff_A: 1.109375\n",
      "ce_diff_B: 0.80859375\n",
      "ce_recovered_A: 0.90234375\n",
      "ce_recovered_B: 0.9296875\n"
     ]
    }
   ],
   "source": [
    "from functools import partial\n",
    "\n",
    "def splice_act_hook(act, hook, spliced_act):\n",
    "    act[:, 1:, :] = spliced_act # Drop BOS\n",
    "    return act\n",
    "\n",
    "def zero_ablation_hook(act, hook):\n",
    "    act[:] = 0\n",
    "    return act\n",
    "\n",
    "@torch.no_grad\n",
    "def get_ce_recovered_metrics(tokens, masks, model_A, model_B, cross_coder):\n",
    "    # get clean loss\n",
    "    ce_clean_A = model_A(tokens, attention_mask=masks, return_type=\"loss\")\n",
    "    ce_clean_B = model_B(tokens, attention_mask=masks, return_type=\"loss\")\n",
    "\n",
    "    # get zero abl loss\n",
    "    ce_zero_abl_A = model_A.run_with_hooks(\n",
    "        tokens,\n",
    "        attention_mask=masks,\n",
    "        return_type=\"loss\",\n",
    "        fwd_hooks = [(cross_coder.cfg[\"hook_point\"], zero_ablation_hook)],\n",
    "    )\n",
    "    ce_zero_abl_B = model_B.run_with_hooks(\n",
    "        tokens,\n",
    "        attention_mask=masks,\n",
    "        return_type=\"loss\",\n",
    "        fwd_hooks = [(cross_coder.cfg[\"hook_point\"], zero_ablation_hook)],\n",
    "    )\n",
    "\n",
    "    # bunch of annoying set up for splicing\n",
    "    _, cache_A = model_A.run_with_cache(\n",
    "        tokens,\n",
    "        attention_mask=masks,\n",
    "        names_filter=cross_coder.cfg[\"hook_point\"],\n",
    "        return_type=None,\n",
    "        )\n",
    "    resid_act_A = cache_A[cross_coder.cfg[\"hook_point\"]]\n",
    "\n",
    "    _, cache_B = model_B.run_with_cache(\n",
    "        tokens,\n",
    "        attention_mask=masks,\n",
    "        names_filter=cross_coder.cfg[\"hook_point\"],\n",
    "        return_type=None,\n",
    "        )\n",
    "    resid_act_B = cache_B[cross_coder.cfg[\"hook_point\"]]\n",
    "\n",
    "    cross_coder_input = torch.stack([resid_act_A, resid_act_B], dim=0)\n",
    "    cross_coder_input = cross_coder_input[:, :, 1:, :] # Drop BOS\n",
    "    cross_coder_input = einops.rearrange(\n",
    "        cross_coder_input,\n",
    "        \"n_models batch seq_len d_model -> (batch seq_len) n_models d_model\",\n",
    "    )\n",
    "\n",
    "    cross_coder_output = cross_coder.decode(cross_coder.encode(cross_coder_input))\n",
    "    cross_coder_output = einops.rearrange(\n",
    "        cross_coder_output,\n",
    "        \"(batch seq_len) n_models d_model -> n_models batch seq_len d_model\", batch = tokens.shape[0]\n",
    "    )\n",
    "    cross_coder_output_A = cross_coder_output[0]\n",
    "    cross_coder_output_B = cross_coder_output[1]\n",
    "\n",
    "    # get spliced loss\n",
    "    ce_loss_spliced_A = model_A.run_with_hooks(\n",
    "        tokens,\n",
    "        attention_mask=masks,\n",
    "        return_type=\"loss\",\n",
    "        fwd_hooks = [(cross_coder.cfg[\"hook_point\"], partial(splice_act_hook, spliced_act=cross_coder_output_A))],\n",
    "    )\n",
    "    ce_loss_spliced_B = model_B.run_with_hooks(\n",
    "        tokens,\n",
    "        attention_mask=masks,\n",
    "        return_type=\"loss\",\n",
    "        fwd_hooks = [(cross_coder.cfg[\"hook_point\"], partial(splice_act_hook, spliced_act=cross_coder_output_B))],\n",
    "    )\n",
    "\n",
    "    # compute % CE recovered metric\n",
    "    ce_recovered_A = 1 - ((ce_loss_spliced_A - ce_clean_A) / (ce_zero_abl_A - ce_clean_A))\n",
    "    ce_recovered_B = 1 - ((ce_loss_spliced_B - ce_clean_B) / (ce_zero_abl_B - ce_clean_B))\n",
    "\n",
    "    metrics = {\n",
    "        \"ce_loss_spliced_A\": ce_loss_spliced_A.item(),\n",
    "        \"ce_loss_spliced_B\": ce_loss_spliced_B.item(),\n",
    "        \"ce_clean_A\": ce_clean_A.item(),\n",
    "        \"ce_clean_B\": ce_clean_B.item(),\n",
    "        \"ce_zero_abl_A\": ce_zero_abl_A.item(),\n",
    "        \"ce_zero_abl_B\": ce_zero_abl_B.item(),\n",
    "        \"ce_diff_A\": (ce_loss_spliced_A - ce_clean_A).item(),\n",
    "        \"ce_diff_B\": (ce_loss_spliced_B - ce_clean_B).item(),\n",
    "        \"ce_recovered_A\": ce_recovered_A.item(),\n",
    "        \"ce_recovered_B\": ce_recovered_B.item(),\n",
    "    }\n",
    "    return metrics\n",
    "\n",
    "num_cals = 20\n",
    "perm_idx = torch.randperm(len(all_tokens_padded.input_ids))[:num_cals]\n",
    "tokens = all_tokens_padded.input_ids[perm_idx]\n",
    "masks = all_tokens_padded.attention_mask[perm_idx]\n",
    "ce_metrics = get_ce_recovered_metrics(tokens, masks, base_model, math_model, folded_cross_coder)\n",
    "\n",
    "for (k, v) in ce_metrics.items():\n",
    "    print(f\"{k}: {v}\")\n",
    "del tokens"
   ]
  },
  {
   "cell_type": "code",
   "execution_count": null,
   "metadata": {},
   "outputs": [],
   "source": [
    "!pip install git+https://github.com/ckkissane/sae_vis.git@crosscoder-vis"
   ]
  },
  {
   "cell_type": "code",
   "execution_count": 9,
   "metadata": {},
   "outputs": [],
   "source": [
    "folded_cross_coder = copy.deepcopy(cross_coder)\n",
    "\n",
    "# we'll only fold the normalization scaling factors into W_enc, since we aren't splicing back into the model with the reconstructed \n",
    "def fold_activation_scaling_factor(cross_coder, base_scaling_factor, chat_scaling_factor):\n",
    "    cross_coder.W_enc.data[0, :, :] = cross_coder.W_enc.data[0, :, :] * base_scaling_factor\n",
    "    cross_coder.W_enc.data[1, :, :] = cross_coder.W_enc.data[1, :, :] * chat_scaling_factor\n",
    "\n",
    "    # cross_coder.W_dec.data[:, 0, :] = cross_coder.W_dec.data[:, 0, :] / base_scaling_factor\n",
    "    # cross_coder.W_dec.data[:, 1, :] = cross_coder.W_dec.data[:, 1, :] / chat_scaling_factor\n",
    "\n",
    "    # cross_coder.b_dec.data[0, :] = cross_coder.b_dec.data[0, :] / base_scaling_factor\n",
    "    # cross_coder.b_dec.data[1, :] = cross_coder.b_dec.data[1, :] / chat_scaling_factor\n",
    "    return cross_coder\n",
    "\n",
    "folded_cross_coder = fold_activation_scaling_factor(folded_cross_coder, base_estimated_scaling_factor, math_estimated_scaling_factor)"
   ]
  },
  {
   "cell_type": "code",
   "execution_count": 14,
   "metadata": {},
   "outputs": [],
   "source": [
    "from sae_vis.model_fns import CrossCoderConfig, CrossCoder\n",
    "from sae_vis.data_config_classes import SaeVisConfig\n",
    "\n",
    "encoder_cfg = CrossCoderConfig(d_in=base_model.cfg.d_model, d_hidden=cross_coder.cfg[\"dict_size\"], apply_b_dec_to_input=False)\n",
    "sae_vis_cross_coder = CrossCoder(encoder_cfg)\n",
    "sae_vis_cross_coder.load_state_dict(folded_cross_coder.state_dict())\n",
    "sae_vis_cross_coder = sae_vis_cross_coder.to(device)\n",
    "sae_vis_cross_coder = sae_vis_cross_coder.to(torch.bfloat16)\n"
   ]
  },
  {
   "cell_type": "code",
   "execution_count": 15,
   "metadata": {},
   "outputs": [
    {
     "name": "stdout",
     "output_type": "stream",
     "text": [
      "87\n"
     ]
    }
   ],
   "source": [
    "distinct_latent_mask = (relative_norms > 0.95).cpu()\n",
    "torch.sum(distinct_latent_mask)\n",
    "distinct_feature_idx = torch.arange(cross_coder.cfg['dict_size'])[distinct_latent_mask]\n",
    "\n",
    "sae_vis_config = SaeVisConfig(\n",
    "    hook_point=folded_cross_coder.cfg[\"hook_point\"],\n",
    "    features=distinct_feature_idx,\n",
    "    verbose=True,\n",
    "    minibatch_size_tokens=4,\n",
    "    minibatch_size_features=16,\n",
    ")\n",
    "\n",
    "print(len(distinct_feature_idx))"
   ]
  },
  {
   "cell_type": "code",
   "execution_count": null,
   "metadata": {},
   "outputs": [
    {
     "data": {
      "application/vnd.jupyter.widget-view+json": {
       "model_id": "bca0d9eac7dd43628c8429c81a8c6541",
       "version_major": 2,
       "version_minor": 0
      },
      "text/plain": [
       "Forward passes to cache data for vis:   0%|          | 0/30 [00:00<?, ?it/s]"
      ]
     },
     "metadata": {},
     "output_type": "display_data"
    },
    {
     "data": {
      "application/vnd.jupyter.widget-view+json": {
       "model_id": "53b9d32b94f4473d822d612e6e9be0ea",
       "version_major": 2,
       "version_minor": 0
      },
      "text/plain": [
       "Extracting vis data from cached data:   0%|          | 0/87 [00:00<?, ?it/s]"
      ]
     },
     "metadata": {},
     "output_type": "display_data"
    }
   ],
   "source": [
    "from sae_vis.data_storing_fns import SaeVisData\n",
    "\n",
    "num_samples = 20\n",
    "perm_idx = torch.randperm(len(all_tokens_padded.input_ids))[:num_samples]\n",
    "\n",
    "sae_vis_data = SaeVisData.create(\n",
    "    encoder = sae_vis_cross_coder,\n",
    "    encoder_B = None,\n",
    "    model_A = base_model,\n",
    "    model_B = math_model,\n",
    "    tokens = all_tokens_padded.input_ids[perm_idx], # in practice, better to use more data\n",
    "    cfg = sae_vis_config,\n",
    ")"
   ]
  },
  {
   "cell_type": "code",
   "execution_count": 14,
   "metadata": {},
   "outputs": [
    {
     "data": {
      "application/vnd.jupyter.widget-view+json": {
       "model_id": "e8fde1d0cea74a6689abbfcacf4777db",
       "version_major": 2,
       "version_minor": 0
      },
      "text/plain": [
       "Saving feature-centric vis:   0%|          | 0/288 [00:00<?, ?it/s]"
      ]
     },
     "metadata": {},
     "output_type": "display_data"
    }
   ],
   "source": [
    "# Save visualization\n",
    "from datetime import datetime\n",
    "current_time = datetime.now().strftime(\"%Y%m%d_%H%M%S\")\n",
    "filename = f\"crosscoder_{current_time}_{version}_{ckpt}_feature_vis_demo.html\"\n",
    "sae_vis_data.save_feature_centric_vis(filename)"
   ]
  },
  {
   "cell_type": "code",
   "execution_count": null,
   "metadata": {},
   "outputs": [],
   "source": [
    "promptvis = f\"crosscoder_{current_time}_{version}_{ckpt}_prompt_vis_demo.html\"\n",
    "sae_vis_data.save_prompt_centric_vis(combined_prompts[perm_idx.cpu().numpy()], promptvis)\n"
   ]
  },
  {
   "cell_type": "markdown",
   "metadata": {},
   "source": [
    "from IPython.display import IFrame\n",
    "\n",
    "PORT = 8000\n",
    "\n",
    "def display_vis_inline(filename: str, height: int = 850):\n",
    "    \"\"\"Serve visualization HTML file and display in notebook\"\"\"\n",
    "    global PORT\n",
    "    \n",
    "    def serve(directory):\n",
    "        global PORT\n",
    "        os.chdir(directory)\n",
    "        handler = http.server.SimpleHTTPRequestHandler\n",
    "        \n",
    "        try:\n",
    "            with socketserver.TCPServer((\"\", PORT), handler) as httpd:\n",
    "                print(f\"Serving at http://localhost:{PORT}/{filename}\")\n",
    "                httpd.serve_forever()\n",
    "        except OSError:\n",
    "            PORT += 1\n",
    "            serve(directory)\n",
    "\n",
    "    thread = threading.Thread(target=serve, args=(os.getcwd(),), daemon=True)\n",
    "    thread.start()\n",
    "    \n",
    "    # Instead of opening browser, display inline using IFrame\n",
    "    return IFrame(src=f\"http://localhost:{PORT}/{filename}\", width='100%', height=height)\n",
    "\n",
    "# Display visualization\n",
    "display_vis_inline(filename)\n"
   ]
  }
 ],
 "metadata": {
  "kernelspec": {
   "display_name": "work",
   "language": "python",
   "name": "python3"
  },
  "language_info": {
   "codemirror_mode": {
    "name": "ipython",
    "version": 3
   },
   "file_extension": ".py",
   "mimetype": "text/x-python",
   "name": "python",
   "nbconvert_exporter": "python",
   "pygments_lexer": "ipython3",
   "version": "3.10.15"
  }
 },
 "nbformat": 4,
 "nbformat_minor": 2
}
